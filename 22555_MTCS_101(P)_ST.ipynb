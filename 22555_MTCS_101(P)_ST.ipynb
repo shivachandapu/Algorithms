{
  "cells": [
    {
      "cell_type": "markdown",
      "metadata": {
        "id": "hdUckriSvJD6"
      },
      "source": [
        "#MTCS-101(P): Summative Test\n",
        "<br>Name: Chandapu Shiva Krisha\n",
        "<br>Regd no: 22555\n"
      ]
    },
    {
      "cell_type": "markdown",
      "metadata": {
        "id": "6Ceix3mNveid"
      },
      "source": [
        "#1.Algorithm to determine the median element from a two sorted lists.\n",
        "<br>*For n = len(A) + len(B)*\n",
        "<br>*Loop invarient: k < n*\n",
        "<br>*Loop varient: n - k*\n",
        "<br>*Progress: n-k keeps decreasing with each iteration. Thus maintaining the progress.*\n",
        "<br>*Termination condition: k <= n, i.e, loop terminates when k becomes n.*"
      ]
    },
    {
      "cell_type": "code",
      "execution_count": 9,
      "metadata": {
        "id": "O3uu0LuMsoJU",
        "colab": {
          "base_uri": "https://localhost:8080/"
        },
        "outputId": "ee4df203-f405-4f87-89c2-37534a6859d0"
      },
      "outputs": [
        {
          "output_type": "stream",
          "name": "stdout",
          "text": [
            "List 1:  [2, 3, 4, 5, 9, 10]\n",
            "List 2:  [1, 3, 6, 7, 10, 13, 15]\n",
            "Merged list: [1, 2, 3, 3, 4, 5, 6, 7, 9, 10, 10, 13, 15]\n",
            "The median is:  6\n"
          ]
        }
      ],
      "source": [
        "A = [2,3,4,5,9,10]\n",
        "B = [1,3,6,7,10,13,15]\n",
        "\n",
        "print(\"List 1: \",A)\n",
        "print(\"List 2: \",B)\n",
        "\n",
        "C = []\n",
        "n = len(A)+len(B)\n",
        "\n",
        "# Function to merge the given sorted lists\n",
        "def merge(A,B):\n",
        "    merg_Lst = []\n",
        "    i,j,k = 0,0,0 \n",
        "    while i<len(A) and j<len(B):\n",
        "            if A[i] <= B[j]:\n",
        "                merg_Lst.append(A[i])\n",
        "                i += 1\n",
        "                k += 1\n",
        "            else:\n",
        "                merg_Lst.append(B[j])\n",
        "                j += 1\n",
        "                k += 1\n",
        "            \n",
        "    while j<len(B):     # if the len(A) is less than the len(B)\n",
        "        merg_Lst.append(B[j])\n",
        "        j += 1\n",
        "        k += 1 \n",
        "            \n",
        "    while i<len(A):     # if the len(A) is greater that the len(B)\n",
        "        merg_Lst.append(A[i])\n",
        "        i += 1\n",
        "        k += 1  \n",
        "    \n",
        "    return merg_Lst \n",
        "\n",
        "C = merge(A,B)      # calling merge function to merge the two sorted lists\n",
        "print(\"Merged list:\",C)            # printing the merged list\n",
        "\n",
        "ind = (len(C)-1)//2 # index of the median element\n",
        "median = C[ind]     # median\n",
        "print(\"The median is: \",median)       # printing the median"
      ]
    },
    {
      "cell_type": "markdown",
      "metadata": {
        "id": "DTk6hGVH2Rmr"
      },
      "source": [
        "#2. Given a directed weighted graph, determine all the negative weight cycles in the graph."
      ]
    },
    {
      "cell_type": "code",
      "execution_count": 7,
      "metadata": {
        "id": "rtpyA1US4etB",
        "colab": {
          "base_uri": "https://localhost:8080/",
          "height": 406
        },
        "outputId": "6c4a610e-2387-47c3-9fa0-2f36082f3edb"
      },
      "outputs": [
        {
          "output_type": "execute_result",
          "data": {
            "text/plain": [
              "{(1, 2): Text(0.5332463694477361, -0.1801009940925166, '2'),\n",
              " (1, 4): Text(-0.4166813096116802, -0.07532815516755349, '3'),\n",
              " (2, 3): Text(0.41668130961168026, 0.07532815516755327, '2'),\n",
              " (3, 4): Text(-0.5332463694477361, 0.18010099409251634, '5'),\n",
              " (4, 2): Text(0.05007232094058367, 0.07602330719157194, '-10')}"
            ]
          },
          "metadata": {},
          "execution_count": 7
        },
        {
          "output_type": "display_data",
          "data": {
            "text/plain": [
              "<Figure size 432x288 with 1 Axes>"
            ],
            "image/png": "[encoded data removed]"
          },
          "metadata": {}
        }
      ],
      "source": [
        "# To plot a directed graph\n",
        "import networkx as nx\n",
        "G = nx.DiGraph()\n",
        "G.add_weighted_edges_from([(1,2, 2),(2,3, 2),(3,4, 5),(1,4, 3),(4,2, -10)])\n",
        "pos = nx.spring_layout(G)\n",
        "nx.draw(G, pos, with_labels = True, font_weight = 'bold')\n",
        "labels = nx.get_edge_attributes(G,'weight')\n",
        "nx.draw_networkx_edge_labels(G, pos, edge_labels = labels)\n"
      ]
    },
    {
      "cell_type": "code",
      "execution_count": 8,
      "metadata": {
        "id": "MTRgb2b52jOm",
        "colab": {
          "base_uri": "https://localhost:8080/"
        },
        "outputId": "3241536a-1f44-46e3-f3e5-84dabe705045"
      },
      "outputs": [
        {
          "output_type": "execute_result",
          "data": {
            "text/plain": [
              "True"
            ]
          },
          "metadata": {},
          "execution_count": 8
        }
      ],
      "source": [
        "# Finding if there is cycle in the directed graph.\n",
        "visited = [False for x in range(4)] \n",
        "path = [False for y in range(4)]\n",
        "\n",
        "def find_cycle(visited, path, graph, vertex):\n",
        "    visited[vertex-1]=True\n",
        "    path[vertex-1] = True\n",
        "\n",
        "    for nbr in G[vertex]:\n",
        "        if not visited[nbr-1]:\n",
        "            find_cycle(visited, path, graph, nbr)\n",
        "        elif path[nbr-1]:\n",
        "            return True\n",
        "    \n",
        "    path[vertex-1] = False\n",
        "    return False\n",
        "    \n",
        "find_cycle(visited, path, G, 1)"
      ]
    }
  ],
  "metadata": {
    "colab": {
      "provenance": []
    },
    "kernelspec": {
      "display_name": "Python 3.8.10 64-bit",
      "language": "python",
      "name": "python3"
    },
    "language_info": {
      "codemirror_mode": {
        "name": "ipython",
        "version": 3
      },
      "file_extension": ".py",
      "mimetype": "text/x-python",
      "name": "python",
      "nbconvert_exporter": "python",
      "pygments_lexer": "ipython3",
      "version": "3.8.10"
    },
    "vscode": {
      "interpreter": {
        "hash": "916dbcbb3f70747c44a77c7bcd40155683ae19c65e1c03b4aa3499c5328201f1"
      }
    }
  },
  "nbformat": 4,
  "nbformat_minor": 0
}