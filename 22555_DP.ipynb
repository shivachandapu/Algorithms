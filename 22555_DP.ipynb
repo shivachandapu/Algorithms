{
 "cells": [
  {
   "cell_type": "markdown",
   "metadata": {},
   "source": [
    "#MTCS-101: Assignment on Dynamic Programming: Breaking a String\n",
    "<br>Regd no: 22555\n",
    "<br>I MTech-CS"
   ]
  },
  {
   "cell_type": "markdown",
   "metadata": {},
   "source": [
    "*A certain string-processing language allows a\n",
    "programmer to break a string into two pieces. Because this operation copies\n",
    "the string, it costs n time units to break a string of n characters into two\n",
    "pieces. Suppose a programmer wants to break a string into many pieces. The\n",
    "order in which the breaks occur can affect the total amount of time used. For\n",
    "example, suppose that the programmer wants to break a 20-character string\n",
    "after characters 2, 8, and 10 (numbering the characters in ascending order\n",
    "from the left-hand end, starting from 1). If she programs the breaks to occur\n",
    "in left-to-right order, then the first break costs 20 time units, the second\n",
    "break costs 18 time units (breaking the string from characters 3 to 20 at\n",
    "character 8), and the third break costs 12 time units, totaling 50 time units.\n",
    "If she programs the breaks to occur in right-to-left order, however, then the\n",
    "first break costs 20 time units, the second break costs 10 time units, and the\n",
    "third break costs 8 time units, totaling 38 time units. In yet another order,\n",
    "she could break first at 8 (costing 20), then break the left piece at 2 (costing\n",
    "8), and finally the right piece at 10 (costing 12), for a total cost of 40. Design\n",
    "an algorithm that, given the numbers of characters after which to break,\n",
    "determines a least-cost way to sequence those breaks. More formally, given\n",
    "a string S with n characters and an array L [ 1. . m ] containing the break points,\n",
    "compute the lowest cost for a sequence of breaks, along with a sequence of\n",
    "breaks that achieves this cost.*"
   ]
  },
  {
   "cell_type": "code",
   "execution_count": 62,
   "metadata": {},
   "outputs": [
    {
     "name": "stdout",
     "output_type": "stream",
     "text": [
      "The minimum cost is: 38.0\n"
     ]
    }
   ],
   "source": [
    "import numpy as np\n",
    "\n",
    "def breaking_string(n,L):\n",
    "    L = [0,] + L + [n,]\n",
    "    m = len(L)\n",
    "    \n",
    "    L = [0,] + L  \n",
    "    cost = np.full((m+1,m+1), np.inf)\n",
    "    breaks = np.zeros((m+1,m+1))\n",
    "\n",
    "    for i in range(1, m+1): \n",
    "        cost[i, i:i+2] = 0 \n",
    "    for leng in range(2, m):\n",
    "        for i in range(1, m-leng+1):\n",
    "            j = i + leng\n",
    "            for k in range(i, j+1):\n",
    "                cost[i,j] = min(cost[i,j], cost[i,k]+cost[k,j]+L[j]-L[i])\n",
    "    return cost[1,m]\n",
    "    \n",
    "print(\"The minimum cost is:\",breaking_string(20,[2,8,10]))"
   ]
  }
 ],
 "metadata": {
  "kernelspec": {
   "display_name": "Python 3.8.10 64-bit",
   "language": "python",
   "name": "python3"
  },
  "language_info": {
   "codemirror_mode": {
    "name": "ipython",
    "version": 3
   },
   "file_extension": ".py",
   "mimetype": "text/x-python",
   "name": "python",
   "nbconvert_exporter": "python",
   "pygments_lexer": "ipython3",
   "version": "3.8.10"
  },
  "orig_nbformat": 4,
  "vscode": {
   "interpreter": {
    "hash": "916dbcbb3f70747c44a77c7bcd40155683ae19c65e1c03b4aa3499c5328201f1"
   }
  }
 },
 "nbformat": 4,
 "nbformat_minor": 2
}
