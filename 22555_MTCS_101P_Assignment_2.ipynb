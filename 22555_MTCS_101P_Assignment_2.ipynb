{
  "nbformat": 4,
  "nbformat_minor": 0,
  "metadata": {
    "colab": {
      "provenance": []
    },
    "kernelspec": {
      "name": "python3",
      "display_name": "Python 3"
    },
    "language_info": {
      "name": "python"
    }
  },
  "cells": [
    {
      "cell_type": "markdown",
      "source": [
        "**1. Bubble Sort** (handling alternate case)<br>\n",
        ">In this, we understand that there is no swap then the list is sorted.<br> And then we don't go to the next iteration if there is no swap i.e, the list is sorted.<br>For that we use a *flag*, if there is a swap then assign *True* to the *flag*.<br>we don't proceed to the next iteration if the *flag* is *True*.<br><br>*i* is number of times we iterated through the list."
      ],
      "metadata": {
        "id": "imV1e4OQD_vw"
      }
    },
    {
      "cell_type": "code",
      "execution_count": null,
      "metadata": {
        "id": "a-pE48mC9_dU",
        "colab": {
          "base_uri": "https://localhost:8080/"
        },
        "outputId": "64ae785c-3ef2-4c9b-bffd-0385c60512a9"
      },
      "outputs": [
        {
          "output_type": "stream",
          "name": "stdout",
          "text": [
            "[9, 57, 58, 3, -12, 26, 84, -81, 63, -28, -71, 79, -28, 91, -59, -89, -2, -77, 14, 11, 0, 43, -87, 95, -11, 30, -89, 34, -52, 95, 50, 22, -92, -11, -75, -30, 52, -15, -5, -21, -3, 21, 27, 18, 36, -18, 39, -19, 60, 1, -59, 30, -79, 74, 66, 94, -68, 61, 88, -5, 23, -61, 67, -80, -41, -71, -64, 87, -35, 51, 82, -86, -65, 57, 81, -60, 3, -84, -37, 50, -2, -43, 2, 57, -47, -88, 45, -21, -5, 75, -17, 76, 21, -15, -94, 75, -30, 16, -43, 3, -36, -73, -68, 68, 28, 86, -97, -63, 40, 90, 78, 45, 76, -22, -100, -8, 69, 59, -89, 88, 11, 32, 66, -52, -26, -70, 55, -74, 10, -69, -48, 24, -11, 5, 96, -89, -25, -18, -94, -14, 71, -36, -4, -69, 44, 8, 5, 46, -3, -77, -55, -86, 55, -77, -70, 15, 1, -6, -64, 61, 67, -23, -4, -22, 23, 51, 64, 18, 70, -23, 32, 4, 6, -6, -80, 85, -27, -56, -8, 80, 100, 27, 42, -64, -12, -50, -57, -94, -45, -37, 49, -72, -44, 5, -38, -88, 39, 84, 35, -47]\n",
            "[-100, -97, -94, -94, -94, -92, -89, -89, -89, -89, -88, -88, -87, -86, -86, -84, -81, -80, -80, -79, -77, -77, -77, -75, -74, -73, -72, -71, -71, -70, -70, -69, -69, -68, -68, -65, -64, -64, -64, -63, -61, -60, -59, -59, -57, -56, -55, -52, -52, -50, -48, -47, -47, -45, -44, -43, -43, -41, -38, -37, -37, -36, -36, -35, -30, -30, -28, -28, -27, -26, -25, -23, -23, -22, -22, -21, -21, -19, -18, -18, -17, -15, -15, -14, -12, -12, -11, -11, -11, -8, -8, -6, -6, -5, -5, -5, -4, -4, -3, -3, -2, -2, 0, 1, 1, 2, 3, 3, 3, 4, 5, 5, 5, 6, 8, 9, 10, 11, 11, 14, 15, 16, 18, 18, 21, 21, 22, 23, 23, 24, 26, 27, 27, 28, 30, 30, 32, 32, 34, 35, 36, 39, 39, 40, 42, 43, 44, 45, 45, 46, 49, 50, 50, 51, 51, 52, 55, 55, 57, 57, 57, 58, 59, 60, 61, 61, 63, 64, 66, 66, 67, 67, 68, 69, 70, 71, 74, 75, 75, 76, 76, 78, 79, 80, 81, 82, 84, 84, 85, 86, 87, 88, 88, 90, 91, 94, 95, 95, 96, 100]\n"
          ]
        }
      ],
      "source": [
        "from random import randint\n",
        "\n",
        "A = []\n",
        "\n",
        "k,i = 0,0\n",
        "while k<200:\n",
        "    A.append(randint(-100,100))\n",
        "    k+=1\n",
        "\n",
        "n = len(A)\n",
        "print(A)\n",
        "flag = True\n",
        "while i<n and flag:   # Terminates if the flag is 'True'\n",
        "    j = 1\n",
        "    flag = False\n",
        "    while j<n:\n",
        "        if A[j-1] > A[j]:\n",
        "            A[j-1],A[j] = A[j],A[j-1]\n",
        "            flag = True\n",
        "        j += 1\n",
        "    n -= 1\n",
        "   \n",
        "print(A)"
      ]
    },
    {
      "cell_type": "markdown",
      "source": [
        "**2. Counting sort**<br>\n",
        ">BEAN analysis to the counting sort.<br>Takes care of Boundary case where the length of the list is zero and also the floating point exception."
      ],
      "metadata": {
        "id": "gzYpbT_5hnZ8"
      }
    },
    {
      "cell_type": "code",
      "source": [
        "import sys\n",
        "\n",
        "A = [1,2,1,2,3,4,3,3,0,0,1]\n",
        "count_list = []\n",
        "add_list = []\n",
        "sort_list = []\n",
        "print(A)\n",
        "\n",
        "mini = min(A)   # minimum in the list\n",
        "maxi = max(A)   # maximim in the list\n",
        "\n",
        "if mini < 0:\n",
        "    sys.exit(\"There is a negative number in the list.\")\n",
        "\n",
        "if len(A) == 0:\n",
        "    sys.exit(\"The length of the list is zero.\")\n",
        "\n",
        "i = 0\n",
        "while i<=maxi :\n",
        "    count_list.append(0)\n",
        "    add_list.append(0)\n",
        "    i += 1\n",
        "\n",
        "j = 0\n",
        "while j<len(A):\n",
        "    try:\n",
        "        A[j] == int(A[j])    # throws exception if there is a floating number\n",
        "        count_list[A[j]] += 1\n",
        "    except:\n",
        "        sys.exit(\"There is a floating number exists in the list\")\n",
        "    sort_list.append(0)\n",
        "    j += 1 \n",
        "\n",
        "k = 0\n",
        "add_list[0] = count_list[0]\n",
        "while k < len(add_list)-1:\n",
        "    add_list[k+1] = add_list[k] + count_list[k+1]\n",
        "    k += 1\n",
        "\n",
        "l=0\n",
        "while l<len(A):\n",
        "    sort_list[add_list[A[l]]-1] = A[l]\n",
        "    add_list[A[l]] -= 1\n",
        "    l += 1\n",
        "print(sort_list)"
      ],
      "metadata": {
        "colab": {
          "base_uri": "https://localhost:8080/"
        },
        "id": "Q8odKMbmhITE",
        "outputId": "cf5d6ff9-a357-4103-b351-685ca3b63a34"
      },
      "execution_count": null,
      "outputs": [
        {
          "output_type": "stream",
          "name": "stdout",
          "text": [
            "[1, 2, 1, 2, 3, 4, 3, 3, 0, 0, 1]\n",
            "[0, 0, 1, 1, 1, 2, 2, 3, 3, 3, 4]\n"
          ]
        }
      ]
    },
    {
      "cell_type": "markdown",
      "source": [
        "**3. Copy String using pointers**<br>\n",
        ">This is *C* program to perform a string copy, given two pointers.<br>\n",
        "<br>void string_copy(char* A, char* B){<br>\n",
        ">int i = 0;<br>while A[i]!='\\0'{<br>\n",
        ">>B[ i ] = A[ i ];<br>i++;<br>\n",
        ">}<br>\n",
        ">}\n",
        "\n",
        "\n"
      ],
      "metadata": {
        "id": "1YqAnTA8EKiH"
      }
    },
    {
      "cell_type": "markdown",
      "source": [
        "**4. Heap sort**"
      ],
      "metadata": {
        "id": "vULKkuxHQ8Yy"
      }
    },
    {
      "cell_type": "code",
      "source": [
        "import math\n",
        "\n",
        "A = [2,7,9,3,6,4,5,1,0,8]\n",
        "print(A)\n",
        "\n",
        "def heapify(A,n):\n",
        "    i = n-1-math.ceil(n/2)\n",
        "    while i>=0:\n",
        "        parent = i\n",
        "        left = 2*i + 1\n",
        "        right  = 2*i + 2\n",
        "\n",
        "        if A[left] > A[parent]:\n",
        "            A[left], A[parent] = A[parent], A[left]\n",
        "        if right < n and A[right] > A[parent]:\n",
        "            A[right], A[parent] = A[parent], A[right]\n",
        "        \n",
        "        i -= 1\n",
        "    A[0],A[n-1] = A[n-1],A[0] \n",
        "    if n-1>1:\n",
        "        heapify(A,n-1)\n",
        "     \n",
        "n = len(A)\n",
        "heapify(A,n)\n",
        "print(A)"
      ],
      "metadata": {
        "id": "PcCVqJY7Oerq",
        "outputId": "417b947a-363d-4ffd-c9da-5c2f368a8ac3",
        "colab": {
          "base_uri": "https://localhost:8080/"
        }
      },
      "execution_count": null,
      "outputs": [
        {
          "output_type": "stream",
          "name": "stdout",
          "text": [
            "[2, 7, 9, 3, 6, 4, 5, 1, 0, 8]\n",
            "[0, 1, 2, 3, 4, 5, 6, 7, 8, 9]\n"
          ]
        }
      ]
    },
    {
      "cell_type": "markdown",
      "source": [
        "**5. Radix sort *(using buckets)***"
      ],
      "metadata": {
        "id": "m3hwDMN15ODd"
      }
    },
    {
      "cell_type": "code",
      "source": [
        "import math\n",
        "A = [8,2,7,1,10,312,56]\n",
        "print(A)\n",
        "\n",
        "def radix_sort(B):\n",
        "    digit = 1\n",
        "    max_digit = max(B)\n",
        "    \n",
        "    count = math.floor(math.log(max_digit,10)+1)\n",
        "    \n",
        "    i=0\n",
        "    while i < count: \n",
        "        bucket_list = [list() for x in range(10)]\n",
        "        \n",
        "        j = 0\n",
        "        while j < len(B):\n",
        "            index = int((B[j]/digit) % 10)\n",
        "            bucket_list[index].append(B[j])\n",
        "            j += 1\n",
        "       \n",
        "        k = 0\n",
        "        a = 0\n",
        "        while k < 10:\n",
        "            bucket = bucket_list[k]\n",
        "            l = 0\n",
        "            while l<len(bucket):\n",
        "                B[a] = bucket[l]\n",
        "                a += 1\n",
        "                l += 1\n",
        "            k += 1\n",
        "\n",
        "        digit *= 10\n",
        "        i += 1\n",
        " \n",
        "radix_sort(A)\n",
        "print(A)"
      ],
      "metadata": {
        "colab": {
          "base_uri": "https://localhost:8080/"
        },
        "id": "Pl3dxGQ9hG7V",
        "outputId": "5e9a5bd9-8a4f-4012-a939-52ea019af11a"
      },
      "execution_count": null,
      "outputs": [
        {
          "output_type": "stream",
          "name": "stdout",
          "text": [
            "[8, 2, 7, 1, 10, 312, 56]\n",
            "[1, 2, 7, 8, 10, 56, 312]\n"
          ]
        }
      ]
    }
  ]
}