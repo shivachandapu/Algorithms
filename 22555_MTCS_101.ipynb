{
  "nbformat": 4,
  "nbformat_minor": 0,
  "metadata": {
    "colab": {
      "provenance": []
    },
    "kernelspec": {
      "name": "python3",
      "display_name": "Python 3"
    },
    "language_info": {
      "name": "python"
    }
  },
  "cells": [
    {
      "cell_type": "markdown",
      "source": [
        "MTCS-101 Assignments<br>\n",
        "Regd no: 22555\n"
      ],
      "metadata": {
        "id": "Vi02hZ2niDe7"
      }
    },
    {
      "cell_type": "markdown",
      "source": [
        "#MTCS-101: Design and Analysis of Algorithms"
      ],
      "metadata": {
        "id": "VYnjhplt7zD2"
      }
    },
    {
      "cell_type": "markdown",
      "source": [
        "#Reverse in-place"
      ],
      "metadata": {
        "id": "JIp5KTSZJcMh"
      }
    },
    {
      "cell_type": "code",
      "execution_count": null,
      "metadata": {
        "colab": {
          "base_uri": "https://localhost:8080/"
        },
        "id": "tbznk5l2JQxR",
        "outputId": "8834d0f0-d013-4526-dd61-b15babf8b034"
      },
      "outputs": [
        {
          "output_type": "stream",
          "name": "stdout",
          "text": [
            "[7, 6, 5, 4, 3, 2, 1]\n"
          ]
        }
      ],
      "source": [
        "A = [1,2,3,4,5,6,7]\n",
        "n = len(A)\n",
        "i=0                                 #the number of swaps initially\n",
        "while i!=n//2:                      #termination condition\n",
        "    A[i],A[n-i-1] = A[n-i-1],A[i]   #progress\n",
        "    i = i+1                         #maintains the definition\n",
        "\n",
        "print(A) "
      ]
    },
    {
      "cell_type": "markdown",
      "source": [
        "#Quotient and Remainder"
      ],
      "metadata": {
        "id": "9QrupRnXJugZ"
      }
    },
    {
      "cell_type": "code",
      "source": [
        "a = 10\n",
        "b = 3\n",
        "\n",
        "q,r = 0,a\n",
        "\n",
        "print(\"loop invarient before loop: \",b*q+r)\n",
        "while r >= b:\n",
        "    r = r-b\n",
        "    q = q+1\n",
        "print(\"loop invarient after loop: \",b*q+r)\n",
        "print(q,r)"
      ],
      "metadata": {
        "colab": {
          "base_uri": "https://localhost:8080/"
        },
        "id": "5D_ZZz5sJtOo",
        "outputId": "5ef1e7a2-01d7-4551-dda3-d6062a96daf2"
      },
      "execution_count": null,
      "outputs": [
        {
          "output_type": "stream",
          "name": "stdout",
          "text": [
            "loop invarient before loop:  10\n",
            "loop invarient after loop:  10\n",
            "3 1\n"
          ]
        }
      ]
    },
    {
      "cell_type": "markdown",
      "source": [
        "#Euclidian GCD check"
      ],
      "metadata": {
        "id": "K1ee_4V0J4oC"
      }
    },
    {
      "cell_type": "code",
      "source": [
        "A = 5\n",
        "B = 20\n",
        "a,b = A,B\n",
        "x,y,p,q = 1,0,0,1\n",
        "\n",
        "while a != b:\n",
        "    if a > b:\n",
        "        a -= b\n",
        "        x,y = x-p,y-q\n",
        "    else: \n",
        "        b -= a\n",
        "        p,q = p-x,q-y\n",
        "else:\n",
        "    print(a,b)\n",
        "    print(x,y)\n",
        "    print(p,q)\n",
        "    print(a == A*x + B*y)\n",
        "    print(b == A*p + B*q)\n"
      ],
      "metadata": {
        "id": "tpLBSF30J29G"
      },
      "execution_count": null,
      "outputs": []
    },
    {
      "cell_type": "markdown",
      "source": [
        "#Binary Search (by sir)"
      ],
      "metadata": {
        "id": "oadPbGSkKtXV"
      }
    },
    {
      "cell_type": "code",
      "source": [
        "A=[1,1,2,3,4,5,6]\n",
        "print(A)\n",
        "x=1\n",
        "n=len(A)\n",
        "l,r = 0,n-1\n",
        "while l!=r:\n",
        "    m = (l+r)//2\n",
        "\n",
        "    if x <= A[m]:\n",
        "        r = m\n",
        "    else : \n",
        "        l = m+1\n",
        "else:\n",
        "    if x == A[l]:\n",
        "        print(l)\n",
        "    else:\n",
        "        print(\"The number is not found.\")"
      ],
      "metadata": {
        "colab": {
          "base_uri": "https://localhost:8080/"
        },
        "id": "vou6TMbKKtn5",
        "outputId": "9594ea79-54f4-475c-fe59-58f44ef3e8d2"
      },
      "execution_count": null,
      "outputs": [
        {
          "output_type": "stream",
          "name": "stdout",
          "text": [
            "[1, 1, 2, 3, 4, 5, 6]\n",
            "0\n"
          ]
        }
      ]
    },
    {
      "cell_type": "markdown",
      "source": [
        "#Program to find the rightmost occurence using Binary Search<br>\n",
        "Loop varient is r-l"
      ],
      "metadata": {
        "id": "hw0OsYouLNb3"
      }
    },
    {
      "cell_type": "code",
      "source": [
        "import math\n",
        "A=[1,2,3,3,3,3,6,7,4,7,9,4]\n",
        "A.sort()\n",
        "print(A)\n",
        "\n",
        "x=3\n",
        "l,r = 0,len(A)-1\n",
        "while l!=r:\n",
        "    m = math.ceil((l+r)/2)\n",
        "\n",
        "    if x < A[m]:\n",
        "        r = m-1\n",
        "    else : \n",
        "        l = m\n",
        "else:\n",
        "    if x == A[r]:\n",
        "        print(r)\n",
        "    else:\n",
        "        print(\"The number is not found.\")"
      ],
      "metadata": {
        "id": "nD4zt63pLF9K",
        "colab": {
          "base_uri": "https://localhost:8080/"
        },
        "outputId": "104243b9-334c-4fa0-99d9-3e24eafe11d7"
      },
      "execution_count": null,
      "outputs": [
        {
          "output_type": "stream",
          "name": "stdout",
          "text": [
            "[1, 2, 3, 3, 3, 3, 4, 4, 6, 7, 7, 9]\n",
            "5\n"
          ]
        }
      ]
    },
    {
      "cell_type": "markdown",
      "source": [
        "#Selection sort<br>\n",
        "Loop varient is n-i.<br>\n",
        "Loop invarient is i<n."
      ],
      "metadata": {
        "id": "olNLqz2nXaOG"
      }
    },
    {
      "cell_type": "code",
      "source": [
        "A = [5,6,7,5,1,2]\n",
        "n = len(A)\n",
        "print(A)\n",
        "i = 0\n",
        "while i < n:\n",
        "    min = i\n",
        "    j = i+1\n",
        "    while j < n:\n",
        "        if A[min] > A[j]:\n",
        "            min = j\n",
        "        j += 1\n",
        "    A[i], A[min] = A[min], A[i]\n",
        "    i += 1\n",
        "    print(A)\n",
        "print(A)"
      ],
      "metadata": {
        "id": "gUnivMmWXZfI",
        "colab": {
          "base_uri": "https://localhost:8080/"
        },
        "outputId": "e67c8125-0cdc-4765-81d2-5eda86d5d84c"
      },
      "execution_count": null,
      "outputs": [
        {
          "output_type": "stream",
          "name": "stdout",
          "text": [
            "[5, 6, 7, 5, 1, 2]\n",
            "[1, 6, 7, 5, 5, 2]\n",
            "[1, 2, 7, 5, 5, 6]\n",
            "[1, 2, 5, 7, 5, 6]\n",
            "[1, 2, 5, 5, 7, 6]\n",
            "[1, 2, 5, 5, 6, 7]\n",
            "[1, 2, 5, 5, 6, 7]\n",
            "[1, 2, 5, 5, 6, 7]\n"
          ]
        }
      ]
    },
    {
      "cell_type": "markdown",
      "source": [
        "#Counting Sort\n",
        "\n",
        "\n",
        "> *l is the number of integers inserted into the sorting list(sort_list). <br>\n",
        "Loop varient is: n-l. <br>\n",
        "Termination condition is: l<len(A).*\n"
      ],
      "metadata": {
        "id": "NmwXrVwaLQTb"
      }
    },
    {
      "cell_type": "code",
      "source": [
        "A = [1,2,1,2,3,4,3,3,0,0,1]\n",
        "count_list = []\n",
        "add_list = []\n",
        "sort_list = []\n",
        "print(A)\n",
        "\n",
        "i = 0\n",
        "while i<5 :\n",
        "    count_list.append(0)\n",
        "    add_list.append(0)\n",
        "    i += 1\n",
        "\n",
        "j = 0\n",
        "while j<len(A):\n",
        "    count_list[A[j]] += 1\n",
        "    sort_list.append(0)\n",
        "    j += 1 \n",
        "\n",
        "k = 0\n",
        "add_list[0] = count_list[0]\n",
        "while k < len(add_list)-1:\n",
        "    add_list[k+1] = add_list[k] + count_list[k+1]\n",
        "    k += 1\n",
        "\n",
        "l=0\n",
        "while l<len(A):\n",
        "    sort_list[add_list[A[l]]-1] = A[l]\n",
        "    add_list[A[l]] -= 1\n",
        "    l += 1\n",
        "print(sort_list)"
      ],
      "metadata": {
        "colab": {
          "base_uri": "https://localhost:8080/"
        },
        "id": "cKXtQAanLPOV",
        "outputId": "e6cc718e-3906-43f3-a2e7-c3666dd8e796"
      },
      "execution_count": null,
      "outputs": [
        {
          "output_type": "stream",
          "name": "stdout",
          "text": [
            "[1, 2, 1, 2, 3, 4, 3, 3, 0, 0, 1]\n",
            "[0, 0, 1, 1, 1, 2, 2, 3, 3, 3, 4]\n"
          ]
        }
      ]
    },
    {
      "cell_type": "markdown",
      "source": [
        "#3-Way Partition\n",
        "> i gives number of integers less than 3. <br>\n",
        "  j-i gives the number of integers equal to 3. <br>\n",
        "  n-k gives the number of integers greater than 3. <br>\n",
        "  Loop variant : k-j. <br>\n",
        "  Termination condition: j<k"
      ],
      "metadata": {
        "id": "wYp0KPB8LglY"
      }
    },
    {
      "cell_type": "code",
      "source": [
        "A = [10,1,12,3,6,3,3,7,4,7,3,9,4,2,0]\n",
        "print(A)\n",
        "x = 3\n",
        "i,j,k=0,0,len(A)\n",
        "\n",
        "while j<k:\n",
        "    if A[j] == x:\n",
        "        j += 1\n",
        "    elif A[j] < x:\n",
        "        A[i],A[j] = A[j],A[i]\n",
        "        i += 1\n",
        "        j += 1\n",
        "    else:\n",
        "        A[j],A[k-1] = A[k-1],A[j]\n",
        "        k -= 1\n",
        "\n",
        "print(A)"
      ],
      "metadata": {
        "colab": {
          "base_uri": "https://localhost:8080/"
        },
        "id": "zSaYWrcHLfY_",
        "outputId": "870d71a2-b479-4567-c297-277fc0672d2a"
      },
      "execution_count": null,
      "outputs": [
        {
          "output_type": "stream",
          "name": "stdout",
          "text": [
            "[10, 1, 12, 3, 6, 3, 3, 7, 4, 7, 3, 9, 4, 2, 0]\n",
            "[0, 1, 2, 3, 3, 3, 3, 4, 7, 7, 9, 4, 6, 12, 10]\n"
          ]
        }
      ]
    },
    {
      "cell_type": "markdown",
      "source": [
        "#Merge Sort<br>\n",
        "loop varient is (len(A)+len(B))-k"
      ],
      "metadata": {
        "id": "Ng922a7bLfQX"
      }
    },
    {
      "cell_type": "code",
      "source": [
        "import random\n",
        "\n",
        "L = [10,1,12,3,6,3,3,7,4,7,3,9,4,2,0]\n",
        "\n",
        "def merge_sort(Lst): \n",
        "   if len(Lst) > 1:\n",
        "        \n",
        "        m = len(Lst)//2\n",
        "        A = Lst[:m]\n",
        "        B = Lst[m:]\n",
        "         \n",
        "        merge_sort(A)\n",
        "        merge_sort(B)\n",
        "        \n",
        "        i,j,k = 0,0,0\n",
        "        while i<len(A) and j<len(B):\n",
        "            if A[i] <=   B[j]:\n",
        "                Lst[k] = A[i]\n",
        "                i += 1\n",
        "            else:\n",
        "                Lst[k] = B[j]\n",
        "                j += 1\n",
        "            k += 1\n",
        "            \n",
        "        while j<len(B):\n",
        "            Lst[k] = B[j]\n",
        "            j += 1\n",
        "            k += 1 \n",
        "            \n",
        "        while i<len(A):\n",
        "            Lst[k] = A[i]\n",
        "            i += 1\n",
        "            k += 1    \n",
        "\n",
        "merge_sort(L)\n",
        "print(L)"
      ],
      "metadata": {
        "colab": {
          "base_uri": "https://localhost:8080/"
        },
        "id": "VChtWLJ_L5ZL",
        "outputId": "666d7e42-8d97-442f-900e-efd6f46a7bee"
      },
      "execution_count": null,
      "outputs": [
        {
          "output_type": "stream",
          "name": "stdout",
          "text": [
            "[0, 1, 2, 3, 3, 3, 3, 4, 4, 6, 7, 7, 9, 10, 12]\n"
          ]
        }
      ]
    },
    {
      "cell_type": "markdown",
      "source": [
        "#Quick Sort using 2-way partition<br>\n",
        "loop varient is j-i"
      ],
      "metadata": {
        "id": "CR-izFFIYKgI"
      }
    },
    {
      "cell_type": "code",
      "source": [
        "import random\n",
        "\n",
        "A = [10,1,12,3,6,3,3,7,4,7,3,9,4,2,0]\n",
        "\n",
        "def partition(A,i,j):\n",
        "    pivot = A[i]\n",
        "    p = i\n",
        "    while i <= j:\n",
        "        if A[i] <= pivot:\n",
        "            i += 1\n",
        "        elif A[j] > pivot:\n",
        "            j -= 1\n",
        "        else:\n",
        "            A[i],A[j] = A[j],A[i]\n",
        "            i,j = i+1,j-1\n",
        "    A[p],A[j] = A[j],A[p]\n",
        "    return j\n",
        "\n",
        "def quick_sort(A,l,r):\n",
        "    if l<=r:\n",
        "        p = partition(A,l,r)\n",
        "        quick_sort(A,l,p-1)\n",
        "        quick_sort(A,p+1,r)   \n",
        "\n",
        "n = len(A)\n",
        "l,r = 0,n-1\n",
        "quick_sort(A,l,r)\n",
        "print(A)"
      ],
      "metadata": {
        "colab": {
          "base_uri": "https://localhost:8080/"
        },
        "id": "Pu7I11JGYJlp",
        "outputId": "cff57fa9-3782-4676-bd65-2bfb174fdab6"
      },
      "execution_count": null,
      "outputs": [
        {
          "output_type": "stream",
          "name": "stdout",
          "text": [
            "[0, 1, 2, 3, 3, 3, 3, 4, 4, 6, 7, 7, 9, 10, 12]\n"
          ]
        }
      ]
    },
    {
      "cell_type": "markdown",
      "source": [
        "#Bubble Sort (handling alternate case)<br>\n",
        ">In this, we understand that there is no swap then the list is sorted.<br> And then we don't go to the next iteration if there is no swap i.e, the list is sorted.<br>For that we use a *flag*, if there is a swap then assign *True* to the *flag*.<br>we don't proceed to the next iteration if the *flag* is *True*.<br><br>*i* is number of times we iterated through the list."
      ],
      "metadata": {
        "id": "X53dNNZ7cwLZ"
      }
    },
    {
      "cell_type": "code",
      "source": [
        "from random import randint\n",
        "\n",
        "A = []\n",
        "\n",
        "k,i = 0,0\n",
        "while k<200:\n",
        "    A.append(randint(-100,100))\n",
        "    k+=1\n",
        "\n",
        "n = len(A)\n",
        "print(A)\n",
        "flag = True\n",
        "while i<n and flag:   # Terminates if the flag is 'True'\n",
        "    j = 1\n",
        "    flag = False\n",
        "    while j<n:\n",
        "        if A[j-1] > A[j]:\n",
        "            A[j-1],A[j] = A[j],A[j-1]\n",
        "            flag = True\n",
        "        j += 1\n",
        "    n -= 1\n",
        "   \n",
        "print(A)"
      ],
      "metadata": {
        "id": "ZqLiImKmcLil",
        "colab": {
          "base_uri": "https://localhost:8080/"
        },
        "outputId": "ba304880-18b4-4874-b589-aef2210eed8b"
      },
      "execution_count": null,
      "outputs": [
        {
          "output_type": "stream",
          "name": "stdout",
          "text": [
            "[35, -58, 96, 13, 94, 84, -90, 87, -60, 91, -10, -27, 11, -12, -19, -73, 42, 54, -82, 86, -73, -51, 38, -44, -71, -73, 16, -46, -42, -53, -48, -74, -94, 62, -33, 60, 80, -20, -89, -72, 46, 61, -30, 42, -83, -46, 57, 100, 74, 31, -18, -24, -39, 24, -11, 41, -29, -17, 2, 27, 47, 1, 84, 5, -99, -23, 47, 93, 42, 99, 48, 18, -44, -96, 57, -24, -95, -51, -94, -29, -96, -98, 96, 67, 8, 81, 47, -96, 18, -86, 93, 74, 48, 86, -92, 72, 17, -86, 58, 13, -20, 57, -50, 97, -80, 53, 89, -42, 88, -57, 18, -84, -22, -37, 91, -28, -25, -46, -58, 100, -87, -28, -36, -2, -1, 65, 20, -64, -84, -48, 59, -45, -26, 20, -8, 46, 25, -79, -17, 85, -91, -13, 42, -84, -30, -30, 59, -22, 78, -32, 81, -23, -52, 55, 9, -87, 4, 22, -4, -18, 44, -20, 61, 86, -21, 89, 72, 3, -16, -25, -10, -89, -50, 96, 27, -41, -53, 19, 72, -95, 66, -25, -27, 8, -80, 76, -39, 23, -51, -40, -22, 47, 13, 39, 85, 6, -15, 10, 46, 66]\n",
            "[-99, -98, -96, -96, -96, -95, -95, -94, -94, -92, -91, -90, -89, -89, -87, -87, -86, -86, -84, -84, -84, -83, -82, -80, -80, -79, -74, -73, -73, -73, -72, -71, -64, -60, -58, -58, -57, -53, -53, -52, -51, -51, -51, -50, -50, -48, -48, -46, -46, -46, -45, -44, -44, -42, -42, -41, -40, -39, -39, -37, -36, -33, -32, -30, -30, -30, -29, -29, -28, -28, -27, -27, -26, -25, -25, -25, -24, -24, -23, -23, -22, -22, -22, -21, -20, -20, -20, -19, -18, -18, -17, -17, -16, -15, -13, -12, -11, -10, -10, -8, -4, -2, -1, 1, 2, 3, 4, 5, 6, 8, 8, 9, 10, 11, 13, 13, 13, 16, 17, 18, 18, 18, 19, 20, 20, 22, 23, 24, 25, 27, 27, 31, 35, 38, 39, 41, 42, 42, 42, 42, 44, 46, 46, 46, 47, 47, 47, 47, 48, 48, 53, 54, 55, 57, 57, 57, 58, 59, 59, 60, 61, 61, 62, 65, 66, 66, 67, 72, 72, 72, 74, 74, 76, 78, 80, 81, 81, 84, 84, 85, 85, 86, 86, 86, 87, 88, 89, 89, 91, 91, 93, 93, 94, 96, 96, 96, 97, 99, 100, 100]\n"
          ]
        }
      ]
    },
    {
      "cell_type": "markdown",
      "source": [
        "#Counting sort<br>\n",
        ">BEAN analysis to the counting sort.<br>Takes care of Boundary case where the length of the list is zero and also the floating point exception."
      ],
      "metadata": {
        "id": "PfQ4IH_Cc5jg"
      }
    },
    {
      "cell_type": "code",
      "source": [
        "import sys\n",
        "import numpy as np\n",
        "\n",
        "A = [1,2,1,2,3,4,3,3,0,0,1]\n",
        "count_list = []\n",
        "add_list = []\n",
        "sort_list = []\n",
        "print(A)\n",
        "\n",
        "mini = np.min(A)   # minimum in the list\n",
        "maxi = np.max(A)   # maximim in the list\n",
        "\n",
        "if mini < 0:\n",
        "    sys.exit(\"There is a negative number in the list.\")\n",
        "\n",
        "if len(A) == 0:\n",
        "    sys.exit(\"The length of the list is zero.\")\n",
        "\n",
        "i = 0\n",
        "while i<=maxi :\n",
        "    count_list.append(0)\n",
        "    add_list.append(0)\n",
        "    i += 1\n",
        "\n",
        "j = 0\n",
        "while j<len(A):\n",
        "    try:\n",
        "        A[j] = int(A[j])    # throws exception if there is a floating number\n",
        "        count_list[A[j]] += 1\n",
        "    except:\n",
        "        sys.exit(\"There is a floating number exists in the list\")\n",
        "    sort_list.append(0)\n",
        "    j += 1 \n",
        "\n",
        "k = 0\n",
        "add_list[0] = count_list[0]\n",
        "while k < len(add_list)-1:\n",
        "    add_list[k+1] = add_list[k] + count_list[k+1]\n",
        "    k += 1\n",
        "\n",
        "l=0\n",
        "while l<len(A):\n",
        "    sort_list[add_list[A[l]]-1] = A[l]\n",
        "    add_list[A[l]] -= 1\n",
        "    l += 1\n",
        "print(sort_list)"
      ],
      "metadata": {
        "colab": {
          "base_uri": "https://localhost:8080/"
        },
        "id": "sDkyW0Lwc5Nk",
        "outputId": "56bd2bdd-facb-419b-d87e-63b6e08a5bbd"
      },
      "execution_count": null,
      "outputs": [
        {
          "output_type": "stream",
          "name": "stdout",
          "text": [
            "[1, 2, 1, 2, 3, 4, 3, 3, 0, 0, 1]\n",
            "[0, 0, 1, 1, 1, 2, 2, 3, 3, 3, 4]\n"
          ]
        }
      ]
    },
    {
      "cell_type": "markdown",
      "source": [
        "#Heap Sort"
      ],
      "metadata": {
        "id": "nzZaSkDgdJpN"
      }
    },
    {
      "cell_type": "code",
      "source": [
        "import math\n",
        "\n",
        "A = [2,7,9,3,6,4,5,1,0,8]\n",
        "print(A)\n",
        "\n",
        "def heapify(A,n):\n",
        "    i = n-1-math.ceil(n/2)\n",
        "    while i>=0:\n",
        "        parent = i\n",
        "        left = 2*i + 1\n",
        "        right  = 2*i + 2\n",
        "\n",
        "        if A[left] > A[parent]:\n",
        "            A[left], A[parent] = A[parent], A[left]\n",
        "        if right < n and A[right] > A[parent]:\n",
        "            A[right], A[parent] = A[parent], A[right]\n",
        "        \n",
        "        i -= 1\n",
        "    A[0],A[n-1] = A[n-1],A[0] \n",
        "    if n-1>1:\n",
        "        heapify(A,n-1)\n",
        "     \n",
        "n = len(A)\n",
        "heapify(A,n)\n",
        "print(A)"
      ],
      "metadata": {
        "colab": {
          "base_uri": "https://localhost:8080/"
        },
        "id": "-0XuheZsdJXe",
        "outputId": "8178afc3-8016-43e3-9f1e-64f279ddc7ae"
      },
      "execution_count": null,
      "outputs": [
        {
          "output_type": "stream",
          "name": "stdout",
          "text": [
            "[2, 7, 9, 3, 6, 4, 5, 1, 0, 8]\n",
            "[0, 1, 2, 3, 4, 5, 6, 7, 8, 9]\n"
          ]
        }
      ]
    },
    {
      "cell_type": "markdown",
      "source": [
        "#Radix Sort"
      ],
      "metadata": {
        "id": "07cJ5MlTdTS7"
      }
    },
    {
      "cell_type": "code",
      "source": [
        "import math\n",
        "A = [8,2,7,1,10,312,56]\n",
        "print(A)\n",
        "\n",
        "def radix_sort(B):\n",
        "    digit = 1\n",
        "    max_digit = max(B)\n",
        "    \n",
        "    count = math.floor(math.log(max_digit,10)+1)\n",
        "    \n",
        "    i=0\n",
        "    while i < count: \n",
        "        bucket_list = [list() for x in range(10)]\n",
        "        \n",
        "        j = 0\n",
        "        while j < len(B):\n",
        "            index = int((B[j]/digit) % 10)\n",
        "            bucket_list[index].append(B[j])\n",
        "            j += 1\n",
        "       \n",
        "        k = 0\n",
        "        a = 0\n",
        "        while k < 10:\n",
        "            bucket = bucket_list[k]\n",
        "            l = 0\n",
        "            while l<len(bucket):\n",
        "                B[a] = bucket[l]\n",
        "                a += 1\n",
        "                l += 1\n",
        "            k += 1\n",
        "\n",
        "        digit *= 10\n",
        "        i += 1\n",
        " \n",
        "radix_sort(A)\n",
        "print(A)"
      ],
      "metadata": {
        "colab": {
          "base_uri": "https://localhost:8080/"
        },
        "id": "Lb2Gn7thdQeG",
        "outputId": "d9b2c5ab-7e32-46cf-d541-222913a558b9"
      },
      "execution_count": null,
      "outputs": [
        {
          "output_type": "stream",
          "name": "stdout",
          "text": [
            "[8, 2, 7, 1, 10, 312, 56]\n",
            "[1, 2, 7, 8, 10, 56, 312]\n"
          ]
        }
      ]
    },
    {
      "cell_type": "markdown",
      "source": [
        "#Min and Max using recursion"
      ],
      "metadata": {
        "id": "zYjKJS1EdeFW"
      }
    },
    {
      "cell_type": "code",
      "source": [
        "import math\n",
        "A = [0,7,6,-1,4,3,2,1]\n",
        "   \n",
        "def min_max(lst):\n",
        "    \n",
        "    m = len(lst)//2\n",
        "    A = lst[:m]\n",
        "    B = lst[m:]\n",
        "\n",
        "    if len(A) == 1:\n",
        "        return (min(A,B),max(A,B)) \n",
        "        \n",
        "    (min_1, max_1) = min_max(A)\n",
        "    (min_2, max_2) = min_max(B)\n",
        "    \n",
        "    return (min(min_1,min_2), max(max_1,max_2))\n",
        "\n",
        "min_max(A)"
      ],
      "metadata": {
        "id": "Ncm5UhJgdecV",
        "colab": {
          "base_uri": "https://localhost:8080/",
          "height": 345
        },
        "outputId": "0e5c6a13-8682-4b16-b58e-c61b24feb369"
      },
      "execution_count": null,
      "outputs": [
        {
          "output_type": "error",
          "ename": "TypeError",
          "evalue": "ignored",
          "traceback": [
            "\u001b[0;31m---------------------------------------------------------------------------\u001b[0m",
            "\u001b[0;31mTypeError\u001b[0m                                 Traceback (most recent call last)",
            "\u001b[0;32m<ipython-input-37-53f3c70524ab>\u001b[0m in \u001b[0;36m<module>\u001b[0;34m\u001b[0m\n\u001b[1;32m     16\u001b[0m     \u001b[0;32mreturn\u001b[0m \u001b[0;34m(\u001b[0m\u001b[0mmin\u001b[0m\u001b[0;34m(\u001b[0m\u001b[0mmin_1\u001b[0m\u001b[0;34m,\u001b[0m\u001b[0mmin_2\u001b[0m\u001b[0;34m)\u001b[0m\u001b[0;34m,\u001b[0m \u001b[0mmax\u001b[0m\u001b[0;34m(\u001b[0m\u001b[0mmax_1\u001b[0m\u001b[0;34m,\u001b[0m\u001b[0mmax_2\u001b[0m\u001b[0;34m)\u001b[0m\u001b[0;34m)\u001b[0m\u001b[0;34m\u001b[0m\u001b[0;34m\u001b[0m\u001b[0m\n\u001b[1;32m     17\u001b[0m \u001b[0;34m\u001b[0m\u001b[0m\n\u001b[0;32m---> 18\u001b[0;31m \u001b[0mmin_max\u001b[0m\u001b[0;34m(\u001b[0m\u001b[0mA\u001b[0m\u001b[0;34m)\u001b[0m\u001b[0;34m\u001b[0m\u001b[0;34m\u001b[0m\u001b[0m\n\u001b[0m",
            "\u001b[0;32m<ipython-input-37-53f3c70524ab>\u001b[0m in \u001b[0;36mmin_max\u001b[0;34m(lst)\u001b[0m\n\u001b[1;32m     11\u001b[0m         \u001b[0;32mreturn\u001b[0m \u001b[0;34m(\u001b[0m\u001b[0mmin\u001b[0m\u001b[0;34m(\u001b[0m\u001b[0mA\u001b[0m\u001b[0;34m,\u001b[0m\u001b[0mB\u001b[0m\u001b[0;34m)\u001b[0m\u001b[0;34m,\u001b[0m\u001b[0mmax\u001b[0m\u001b[0;34m(\u001b[0m\u001b[0mA\u001b[0m\u001b[0;34m,\u001b[0m\u001b[0mB\u001b[0m\u001b[0;34m)\u001b[0m\u001b[0;34m)\u001b[0m\u001b[0;34m\u001b[0m\u001b[0;34m\u001b[0m\u001b[0m\n\u001b[1;32m     12\u001b[0m \u001b[0;34m\u001b[0m\u001b[0m\n\u001b[0;32m---> 13\u001b[0;31m     \u001b[0;34m(\u001b[0m\u001b[0mmin_1\u001b[0m\u001b[0;34m,\u001b[0m \u001b[0mmax_1\u001b[0m\u001b[0;34m)\u001b[0m \u001b[0;34m=\u001b[0m \u001b[0mmin_max\u001b[0m\u001b[0;34m(\u001b[0m\u001b[0mA\u001b[0m\u001b[0;34m)\u001b[0m\u001b[0;34m\u001b[0m\u001b[0;34m\u001b[0m\u001b[0m\n\u001b[0m\u001b[1;32m     14\u001b[0m     \u001b[0;34m(\u001b[0m\u001b[0mmin_2\u001b[0m\u001b[0;34m,\u001b[0m \u001b[0mmax_2\u001b[0m\u001b[0;34m)\u001b[0m \u001b[0;34m=\u001b[0m \u001b[0mmin_max\u001b[0m\u001b[0;34m(\u001b[0m\u001b[0mB\u001b[0m\u001b[0;34m)\u001b[0m\u001b[0;34m\u001b[0m\u001b[0;34m\u001b[0m\u001b[0m\n\u001b[1;32m     15\u001b[0m \u001b[0;34m\u001b[0m\u001b[0m\n",
            "\u001b[0;32m<ipython-input-37-53f3c70524ab>\u001b[0m in \u001b[0;36mmin_max\u001b[0;34m(lst)\u001b[0m\n\u001b[1;32m     11\u001b[0m         \u001b[0;32mreturn\u001b[0m \u001b[0;34m(\u001b[0m\u001b[0mmin\u001b[0m\u001b[0;34m(\u001b[0m\u001b[0mA\u001b[0m\u001b[0;34m,\u001b[0m\u001b[0mB\u001b[0m\u001b[0;34m)\u001b[0m\u001b[0;34m,\u001b[0m\u001b[0mmax\u001b[0m\u001b[0;34m(\u001b[0m\u001b[0mA\u001b[0m\u001b[0;34m,\u001b[0m\u001b[0mB\u001b[0m\u001b[0;34m)\u001b[0m\u001b[0;34m)\u001b[0m\u001b[0;34m\u001b[0m\u001b[0;34m\u001b[0m\u001b[0m\n\u001b[1;32m     12\u001b[0m \u001b[0;34m\u001b[0m\u001b[0m\n\u001b[0;32m---> 13\u001b[0;31m     \u001b[0;34m(\u001b[0m\u001b[0mmin_1\u001b[0m\u001b[0;34m,\u001b[0m \u001b[0mmax_1\u001b[0m\u001b[0;34m)\u001b[0m \u001b[0;34m=\u001b[0m \u001b[0mmin_max\u001b[0m\u001b[0;34m(\u001b[0m\u001b[0mA\u001b[0m\u001b[0;34m)\u001b[0m\u001b[0;34m\u001b[0m\u001b[0;34m\u001b[0m\u001b[0m\n\u001b[0m\u001b[1;32m     14\u001b[0m     \u001b[0;34m(\u001b[0m\u001b[0mmin_2\u001b[0m\u001b[0;34m,\u001b[0m \u001b[0mmax_2\u001b[0m\u001b[0;34m)\u001b[0m \u001b[0;34m=\u001b[0m \u001b[0mmin_max\u001b[0m\u001b[0;34m(\u001b[0m\u001b[0mB\u001b[0m\u001b[0;34m)\u001b[0m\u001b[0;34m\u001b[0m\u001b[0;34m\u001b[0m\u001b[0m\n\u001b[1;32m     15\u001b[0m \u001b[0;34m\u001b[0m\u001b[0m\n",
            "\u001b[0;32m<ipython-input-37-53f3c70524ab>\u001b[0m in \u001b[0;36mmin_max\u001b[0;34m(lst)\u001b[0m\n\u001b[1;32m      9\u001b[0m \u001b[0;34m\u001b[0m\u001b[0m\n\u001b[1;32m     10\u001b[0m     \u001b[0;32mif\u001b[0m \u001b[0mlen\u001b[0m\u001b[0;34m(\u001b[0m\u001b[0mA\u001b[0m\u001b[0;34m)\u001b[0m \u001b[0;34m==\u001b[0m \u001b[0;36m1\u001b[0m\u001b[0;34m:\u001b[0m\u001b[0;34m\u001b[0m\u001b[0;34m\u001b[0m\u001b[0m\n\u001b[0;32m---> 11\u001b[0;31m         \u001b[0;32mreturn\u001b[0m \u001b[0;34m(\u001b[0m\u001b[0mmin\u001b[0m\u001b[0;34m(\u001b[0m\u001b[0mA\u001b[0m\u001b[0;34m,\u001b[0m\u001b[0mB\u001b[0m\u001b[0;34m)\u001b[0m\u001b[0;34m,\u001b[0m\u001b[0mmax\u001b[0m\u001b[0;34m(\u001b[0m\u001b[0mA\u001b[0m\u001b[0;34m,\u001b[0m\u001b[0mB\u001b[0m\u001b[0;34m)\u001b[0m\u001b[0;34m)\u001b[0m\u001b[0;34m\u001b[0m\u001b[0;34m\u001b[0m\u001b[0m\n\u001b[0m\u001b[1;32m     12\u001b[0m \u001b[0;34m\u001b[0m\u001b[0m\n\u001b[1;32m     13\u001b[0m     \u001b[0;34m(\u001b[0m\u001b[0mmin_1\u001b[0m\u001b[0;34m,\u001b[0m \u001b[0mmax_1\u001b[0m\u001b[0;34m)\u001b[0m \u001b[0;34m=\u001b[0m \u001b[0mmin_max\u001b[0m\u001b[0;34m(\u001b[0m\u001b[0mA\u001b[0m\u001b[0;34m)\u001b[0m\u001b[0;34m\u001b[0m\u001b[0;34m\u001b[0m\u001b[0m\n",
            "\u001b[0;31mTypeError\u001b[0m: 'int' object is not callable"
          ]
        }
      ]
    },
    {
      "cell_type": "markdown",
      "source": [
        "#Karatsuba multiplication"
      ],
      "metadata": {
        "id": "RhajUyaWd5uh"
      }
    },
    {
      "cell_type": "code",
      "source": [
        "from math import ceil, floor\n",
        "\n",
        "def karatsuba(x,y):\n",
        "    if x < 10 and y < 10:\n",
        "        return x*y\n",
        "\n",
        "    n = max(len(str(x)), len(str(y)))\n",
        "    m = ceil(n/2)\n",
        "\n",
        "    x1  = floor(x / 10**m)\n",
        "    x2 = x % (10**m)\n",
        "  \n",
        "    y1 = floor(y / 10**m)\n",
        "    y2 = y % (10**m)\n",
        "\n",
        "    a = karatsuba(x1,y1)\n",
        "    d = karatsuba(x2,y2)\n",
        "    e = karatsuba(x1 + x2, y1 + y2) - a - d\n",
        "\n",
        "    return int(a*(10**(2*m)) + e*(10**m) + d)\n",
        "\n",
        "karatsuba(11,100)"
      ],
      "metadata": {
        "id": "5V1nVRWOd4pi"
      },
      "execution_count": null,
      "outputs": []
    },
    {
      "cell_type": "markdown",
      "source": [
        "#Random shuffle "
      ],
      "metadata": {
        "id": "ILfHqo5-tMGX"
      }
    },
    {
      "cell_type": "code",
      "source": [
        "import random\n",
        "import matplotlib.pyplot as plt\n",
        "\n",
        "A = []\n",
        "# Creating and list of size 10 with random elements between 0 and 20\n",
        "for x in range(0,10001):\n",
        "    A.append(random.randint(0,100))\n",
        "print(A)\n",
        "\n",
        "# shuffling\n",
        "i,n = 0,len(A)\n",
        "while i < n-2:\n",
        "    ind = random.randint(i+1,n-1)\n",
        "    A[i],A[ind] = A[ind],A[i]\n",
        "    i += 1\n",
        "print(A)\n",
        "\n",
        "plt.plot(A)"
      ],
      "metadata": {
        "colab": {
          "base_uri": "https://localhost:8080/",
          "height": 337
        },
        "id": "8WKpfQTetN4K",
        "outputId": "43fba662-7a44-4e0b-a549-38ccf3b2013b"
      },
      "execution_count": null,
      "outputs": [
        {
          "output_type": "stream",
          "name": "stdout",
          "text": [
            "[88, 31, 61, 9, 100, 21, 14, 70, 45, 55, 95, 73, 19, 77, 40, 48, 33, 90, 31, 48, 54, 43, 32, 64, 8, 11, 52, 42, 70, 87, 89, 25, 25, 64, 71, 37, 88, 8, 93, 47, 32, 8, 11, 59, 28, 89, 3, 43, 56, 92, 94, 21, 58, 9, 74, 18, 64, 74, 8, 74, 62, 34, 71, 87, 69, 37, 34, 42, 8, 6, 28, 71, 22, 71, 38, 31, 62, 6, 41, 18, 85, 52, 96, 2, 97, 40, 54, 29, 38, 87, 35, 40, 30, 6, 51, 64, 50, 35, 87, 8, 18, 7, 39, 11, 75, 18, 52, 99, 42, 12, 65, 38, 12, 36, 49, 44, 74, 40, 86, 47, 57, 85, 83, 86, 68, 57, 67, 69, 90, 55, 59, 70, 24, 64, 26, 35, 58, 19, 86, 58, 99, 71, 41, 17, 10, 22, 42, 9, 49, 79, 67, 54, 35, 57, 39, 92, 72, 84, 6, 56, 30, 43, 91, 34, 69, 73, 63, 72, 39, 33, 78, 45, 80, 16, 44, 76, 70, 13, 33, 2, 10, 58, 31, 70, 16, 13, 99, 47, 41, 30, 59, 85, 19, 35, 36, 35, 24, 12, 53, 28, 83, 95, 56, 95, 52, 13, 47, 42, 70, 51, 100, 66, 94, 17, 0, 79, 46, 89, 29, 96, 92, 37, 79, 88, 76, 22, 24, 94, 33, 84, 32, 25, 21, 77, 33, 7, 90, 14, 91, 5, 99, 42, 68, 98, 26, 5, 69, 57, 82, 55, 39, 70, 93, 66, 58, 66, 1, 6, 28, 82, 32, 33, 84, 40, 72, 75, 81, 27, 86, 93, 100, 35, 27, 2, 90, 55, 4, 34, 41, 32, 39, 63, 79, 25, 7, 12, 85, 60, 77, 32, 67, 35, 53, 20, 65, 44, 96, 45, 81, 45, 78, 46, 33, 19, 62, 19, 82, 40, 82, 57, 62, 2, 17, 90, 99, 5, 46, 35, 96, 35, 21, 0, 56, 100, 68, 54, 88, 98, 46, 63, 24, 4, 60, 10, 24, 70, 51, 19, 48, 50, 40, 17, 0, 81, 16, 42, 81, 64, 53, 37, 74, 25, 79, 3, 89, 7, 83, 29, 36, 0, 32, 59, 40, 32, 57, 87, 2, 71, 2, 38, 74, 52, 23, 16, 74, 95, 39, 86, 32, 19, 64, 67, 26, 33, 75, 8, 41, 67, 80, 44, 70, 81, 52, 12, 1, 66, 89, 15, 84, 73, 41, 92, 76, 57, 17, 1, 11, 38, 81, 65, 38, 39, 56, 33, 25, 59, 80, 56, 39, 16, 49, 72, 77, 28, 28, 83, 82, 22, 38, 67, 16, 53, 20, 94, 97, 43, 51, 41, 9, 85, 54, 0, 40, 77, 26, 74, 3, 42, 0, 60, 63, 84, 37, 52, 18, 90, 100, 22, 59, 19, 87, 90, 18, 25, 96, 21, 41, 59, 69, 84, 5, 99, 80, 10, 77, 86, 48, 37, 78, 15, 78, 57, 74, 65, 40, 58, 37, 100, 97, 81, 66, 54, 4, 30, 95, 90, 14, 2, 67, 40, 54, 5, 66, 8, 90, 28, 89, 99, 54, 44, 42, 27, 56, 24, 50, 79, 65, 10, 89, 88, 55, 78, 75, 26, 77, 57, 95, 83, 20, 24, 33, 73, 77, 25, 11, 47, 19, 40, 38, 88, 71, 6, 7, 39, 6, 20, 25, 47, 36, 9, 61, 47, 7, 18, 68, 66, 17, 81, 87, 81, 86, 68, 69, 6, 42, 33, 30, 40, 30, 77, 92, 97, 98, 32, 43, 63, 35, 93, 95, 32, 22, 98, 1, 11, 7, 6, 28, 40, 54, 21, 37, 47, 33, 13, 73, 29, 47, 7, 26, 83, 32, 72, 73, 95, 88, 60, 58, 6, 65, 74, 79, 88, 81, 56, 98, 67, 82, 62, 36, 67, 41, 70, 58, 12, 10, 71, 74, 12, 10, 31, 33, 19, 71, 36, 73, 46, 11, 53, 91, 38, 73, 26, 67, 42, 22, 78, 7, 75, 7, 99, 100, 67, 55, 82, 66, 19, 63, 38, 81, 28, 27, 14, 24, 62, 42, 66, 81, 10, 73, 22, 65, 100, 8, 20, 80, 28, 59, 87, 42, 52, 75, 62, 10, 40, 42, 26, 97, 32, 66, 15, 73, 64, 94, 41, 7, 19, 94, 51, 4, 46, 34, 14, 73, 95, 9, 86, 8, 56, 53, 2, 70, 63, 35, 36, 59, 100, 88, 17, 82, 31, 12, 13, 87, 32, 33, 46, 44, 85, 72, 12, 48, 8, 52, 27, 96, 38, 62, 13, 95, 74, 77, 77, 97, 47, 54, 28, 45, 25, 29, 62, 42, 87, 85, 12, 80, 35, 71, 92, 97, 19, 89, 51, 73, 32, 51, 2, 14, 65, 12, 17, 19, 87, 23, 25, 53, 95, 65, 36, 85, 43, 86, 59, 54, 53, 63, 63, 83, 77, 63, 27, 27, 89, 31, 33, 21, 13, 62, 3, 23, 24, 52, 50, 48, 35, 16, 96, 8, 77, 72, 77, 38, 5, 94, 18, 100, 31, 91, 25, 82, 92, 47, 27, 70, 51, 42, 34, 92, 48, 100, 69, 89, 6, 9, 56, 55, 18, 99, 87, 17, 3, 50, 24, 9, 90, 36, 82, 7, 49, 5, 87, 79, 92, 69, 53, 72, 79, 54, 13, 67, 19, 99, 56, 83, 20, 53, 51, 11, 13, 42, 3, 95, 32, 39, 21, 9, 2, 69, 67, 11, 96, 11, 19, 96, 84, 71, 8, 53, 52, 53, 32, 23, 44, 70, 28, 21, 52, 88, 52, 100, 12, 11, 91, 77, 88, 65, 79, 36, 77, 82, 45, 91, 40, 77, 100, 52, 42, 61, 10, 11, 62, 93, 61, 69, 80, 86, 47, 25, 18, 30, 41, 26, 36, 25, 36, 66, 75, 57, 21, 45, 19, 7, 59, 70, 18, 11, 57, 77, 4, 22, 51, 93, 93, 20, 25, 67, 81, 25, 37, 48, 66, 28, 0, 71, 61, 0, 40, 54, 6, 78, 45, 20, 82, 33, 59, 68, 23, 84, 63, 37, 17, 57, 85, 10, 30, 70, 37, 61, 69, 64, 96, 59, 27, 100, 48, 76, 92, 26, 34, 62, 56, 72, 69, 34, 97, 11, 20, 92, 64, 2, 57, 45, 70, 7, 73, 72, 57, 36, 85, 53, 38, 20, 88, 22, 6, 75, 80, 27, 86, 42, 7, 62, 21, 27, 20, 74, 24, 4, 76, 93, 21, 59, 78, 57, 50, 93, 39, 22, 3, 63, 41, 5, 98, 70, 34, 64, 5, 11, 11, 5, 8, 28, 40, 21, 94, 7, 94, 81, 22, 44, 59, 21, 28, 78, 17, 69, 79, 57, 88, 84, 100, 34, 31, 21, 96, 4, 74, 42, 71, 16, 14, 55, 91, 30, 43, 28, 3, 56, 42, 63, 80, 29, 18, 73, 38, 71, 51, 87, 16, 38, 73, 95, 56, 83, 14, 52, 27, 40, 47, 60, 92, 18, 42, 27, 10, 42, 51, 90, 78, 95, 20, 23, 38, 69, 26, 16, 33, 48, 48, 23, 25, 86, 27, 93, 13, 17, 25, 68, 22, 74, 57, 64, 21, 59, 72, 14, 78, 44, 19, 21, 97, 11, 11, 60, 32, 40, 97, 65, 34, 16, 47, 89, 9, 94, 99, 94, 78, 70, 40, 69, 96, 12, 79, 8, 34, 50, 62, 7, 67, 37, 96, 7, 29, 69, 8, 57, 49, 8, 65, 91, 69, 74, 19, 41, 96, 32, 86, 3, 52, 5, 42, 13, 34, 7, 95, 71, 31, 20, 70, 1, 21, 61, 28, 19, 99, 55, 98, 39, 28, 31, 65, 10, 22, 82, 94, 12, 10, 5, 63, 53, 36, 37, 23, 49, 24, 7, 77, 23, 97, 6, 0, 63, 27, 80, 75, 36, 17, 79, 11, 30, 17, 10, 39, 92, 2, 81, 93, 55, 92, 38, 66, 59, 3, 38, 75, 46, 74, 44, 48, 88, 58, 73, 42, 75, 54, 65, 27, 72, 47, 46, 63, 13, 54, 13, 59, 70, 5, 36, 48, 27, 75, 55, 54, 9, 9, 32, 0, 100, 50, 48, 77, 25, 41, 48, 99, 10, 84, 1, 27, 4, 57, 31, 27, 93, 84, 20, 24, 52, 52, 67, 9, 65, 1, 61, 31, 11, 55, 19, 54, 31, 58, 73, 40, 90, 41, 9, 77, 40, 0, 0, 4, 96, 22, 45, 50, 3, 89, 3, 72, 7, 46, 95, 63, 58, 30, 74, 6, 43, 87, 82, 78, 44, 11, 22, 26, 20, 3, 44, 20, 74, 89, 79, 18, 30, 44, 1, 16, 70, 42, 24, 15, 17, 25, 24, 75, 8, 45, 43, 45, 83, 29, 53, 19, 70, 93, 48, 55, 73, 14, 30, 62, 69, 9, 89, 75, 40, 29, 54, 4, 7, 84, 82, 79, 20, 94, 15, 46, 13, 37, 29, 41, 27, 13, 36, 50, 20, 93, 32, 48, 17, 74, 82, 92, 74, 3, 84, 72, 57, 67, 95, 37, 44, 9, 46, 85, 9, 3, 95, 76, 30, 73, 53, 30, 27, 65, 91, 10, 84, 100, 41, 9, 57, 64, 67, 46, 0, 82, 38, 66, 97, 33, 25, 23, 18, 14, 68, 48, 57, 53, 87, 45, 65, 76, 18, 25, 61, 2, 61, 12, 37, 55, 77, 7, 75, 51, 8, 8, 51, 71, 31, 30, 76, 74, 62, 92, 52, 36, 6, 26, 21, 83, 49, 48, 1, 2, 30, 15, 26, 76, 96, 25, 97, 37, 56, 50, 70, 68, 16, 11, 33, 41, 12, 32, 12, 22, 53, 11, 16, 6, 46, 81, 70, 61, 59, 1, 12, 8, 7, 19, 31, 82, 61, 54, 17, 71, 99, 60, 26, 62, 72, 37, 24, 55, 54, 24, 81, 95, 82, 95, 95, 89, 7, 63, 52, 66, 47, 45, 49, 81, 56, 38, 31, 53, 29, 7, 36, 85, 96, 41, 26, 65, 5, 29, 20, 17, 13, 4, 93, 40, 90, 20, 68, 89, 44, 75, 0, 95, 85, 7, 6, 25, 29, 60, 12, 29, 57, 43, 51, 56, 38, 28, 45, 76, 4, 73, 33, 61, 27, 7, 82, 84, 17, 21, 85, 49, 38, 76, 5, 24, 67, 12, 73, 63, 42, 100, 1, 57, 87, 77, 22, 67, 57, 20, 58, 22, 38, 63, 31, 76, 1, 73, 36, 85, 43, 2, 10, 16, 57, 90, 79, 79, 76, 27, 34, 87, 41, 78, 0, 34, 49, 30, 28, 54, 72, 83, 77, 0, 6, 1, 94, 30, 44, 26, 13, 93, 48, 47, 68, 18, 76, 32, 88, 88, 23, 9, 0, 96, 91, 15, 50, 34, 23, 31, 34, 14, 78, 2, 64, 47, 49, 10, 51, 16, 88, 14, 31, 72, 41, 51, 43, 67, 84, 100, 81, 35, 60, 10, 90, 15, 87, 69, 100, 70, 53, 3, 46, 8, 18, 44, 62, 71, 38, 92, 55, 5, 95, 11, 81, 16, 60, 84, 83, 76, 5, 33, 3, 47, 100, 2, 22, 1, 67, 78, 30, 6, 69, 19, 14, 17, 94, 17, 93, 21, 94, 66, 41, 14, 95, 56, 12, 43, 25, 60, 20, 56, 29, 91, 15, 47, 43, 84, 85, 6, 49, 90, 56, 62, 42, 66, 19, 73, 62, 44, 85, 25, 93, 79, 26, 52, 68, 49, 73, 96, 20, 68, 78, 15, 45, 15, 21, 32, 61, 59, 22, 6, 7, 75, 70, 58, 88, 56, 46, 6, 28, 44, 73, 5, 16, 76, 14, 11, 41, 34, 15, 35, 1, 88, 6, 81, 5, 9, 87, 100, 65, 92, 95, 47, 31, 0, 51, 57, 3, 52, 22, 69, 48, 57, 75, 12, 51, 22, 90, 22, 35, 54, 69, 3, 16, 78, 85, 13, 77, 45, 17, 95, 70, 27, 27, 37, 67, 74, 35, 96, 64, 91, 35, 48, 70, 50, 63, 70, 97, 54, 96, 50, 80, 53, 100, 74, 2, 76, 49, 1, 48, 49, 78, 32, 23, 77, 99, 18, 20, 68, 32, 79, 70, 93, 95, 88, 77, 90, 64, 83, 87, 37, 4, 95, 29, 58, 73, 60, 27, 43, 75, 23, 74, 55, 51, 33, 18, 13, 46, 54, 55, 82, 52, 16, 80, 36, 14, 65, 93, 24, 74, 83, 30, 71, 56, 6, 97, 4, 69, 52, 38, 82, 36, 66, 8, 47, 55, 67, 66, 4, 39, 25, 36, 34, 70, 38, 74, 96, 33, 57, 48, 42, 54, 60, 1, 1, 92, 41, 17, 61, 66, 27, 81, 95, 54, 11, 36, 57, 43, 73, 52, 70, 55, 26, 27, 52, 44, 69, 77, 29, 64, 19, 21, 36, 39, 49, 49, 35, 51, 64, 9, 94, 42, 58, 82, 35, 21, 74, 43, 85, 86, 94, 75, 78, 53, 50, 47, 48, 56, 7, 99, 31, 89, 49, 96, 34, 4, 9, 26, 16, 36, 12, 17, 38, 40, 9, 71, 72, 100, 41, 24, 19, 44, 47, 22, 40, 33, 13, 26, 16, 49, 8, 93, 81, 37, 34, 70, 18, 21, 0, 5, 43, 72, 53, 34, 3, 28, 21, 1, 28, 26, 99, 51, 99, 53, 29, 54, 41, 80, 81, 70, 0, 86, 44, 22, 55, 89, 58, 42, 66, 95, 14, 65, 9, 34, 60, 88, 39, 11, 71, 91, 16, 49, 20, 21, 5, 10, 23, 19, 60, 61, 4, 36, 89, 4, 78, 26, 21, 41, 98, 6, 78, 27, 3, 45, 92, 22, 48, 35, 6, 38, 95, 93, 0, 22, 27, 65, 73, 12, 30, 99, 21, 60, 64, 92, 77, 32, 50, 47, 4, 47, 82, 22, 99, 31, 41, 36, 20, 77, 37, 34, 21, 7, 70, 67, 42, 98, 96, 35, 90, 71, 51, 54, 52, 14, 41, 48, 50, 74, 65, 49, 75, 20, 10, 70, 50, 97, 51, 62, 63, 14, 9, 76, 89, 48, 6, 100, 98, 53, 63, 94, 79, 0, 91, 87, 93, 25, 35, 74, 22, 71, 72, 32, 37, 71, 42, 88, 62, 89, 52, 8, 53, 34, 48, 6, 70, 64, 45, 2, 80, 53, 96, 4, 15, 92, 21, 75, 13, 99, 87, 13, 44, 79, 82, 40, 34, 8, 80, 83, 13, 11, 86, 16, 71, 64, 28, 65, 40, 66, 60, 34, 77, 56, 28, 28, 44, 23, 91, 81, 22, 58, 19, 27, 37, 74, 69, 64, 70, 40, 18, 7, 52, 75, 46, 41, 18, 91, 18, 52, 0, 67, 62, 89, 100, 78, 28, 99, 64, 39, 92, 10, 58, 36, 6, 80, 73, 71, 39, 100, 67, 47, 87, 82, 13, 97, 54, 40, 48, 89, 45, 79, 47, 64, 39, 19, 10, 56, 67, 28, 94, 51, 34, 7, 83, 33, 57, 96, 44, 4, 61, 76, 85, 89, 68, 3, 52, 65, 13, 85, 35, 13, 10, 94, 55, 30, 63, 89, 93, 10, 35, 5, 3, 60, 23, 11, 88, 38, 91, 97, 47, 86, 8, 17, 63, 67, 41, 20, 1, 21, 10, 20, 24, 35, 50, 66, 60, 20, 10, 70, 60, 20, 53, 12, 91, 99, 55, 42, 13, 51, 75, 25, 97, 77, 36, 22, 65, 88, 10, 58, 43, 29, 32, 99, 74, 5, 38, 71, 40, 39, 67, 12, 44, 8, 70, 76, 38, 56, 29, 4, 19, 43, 75, 81, 93, 95, 1, 5, 99, 100, 39, 26, 91, 77, 3, 93, 44, 39, 62, 33, 74, 25, 95, 15, 97, 75, 56, 20, 67, 79, 18, 71, 43, 53, 35, 51, 55, 46, 44, 72, 43, 8, 94, 41, 36, 13, 58, 26, 48, 14, 98, 18, 24, 6, 48, 49, 42, 5, 29, 0, 87, 17, 27, 87, 74, 94, 44, 67, 98, 95, 63, 4, 24, 77, 52, 81, 36, 62, 13, 20, 93, 32, 90, 96, 52, 93, 42, 76, 5, 12, 21, 25, 65, 17, 73, 43, 62, 75, 92, 41, 55, 61, 30, 65, 77, 97, 27, 94, 38, 85, 66, 91, 30, 95, 85, 67, 20, 37, 74, 86, 72, 100, 58, 76, 40, 33, 42, 95, 49, 53, 67, 89, 84, 66, 39, 78, 95, 73, 29, 14, 60, 50, 95, 56, 97, 92, 40, 61, 58, 44, 24, 51, 17, 51, 76, 11, 86, 14, 3, 54, 14, 45, 62, 18, 63, 78, 89, 47, 49, 9, 0, 36, 0, 61, 66, 57, 57, 5, 95, 66, 96, 56, 35, 42, 65, 89, 18, 13, 33, 25, 54, 96, 58, 27, 37, 24, 99, 77, 77, 40, 92, 92, 62, 3, 14, 83, 24, 87, 94, 41, 46, 71, 80, 48, 22, 41, 55, 84, 46, 18, 0, 100, 45, 75, 36, 59, 88, 33, 61, 6, 28, 73, 62, 64, 77, 47, 94, 58, 73, 95, 57, 88, 12, 18, 92, 13, 21, 7, 50, 67, 52, 68, 3, 91, 51, 93, 39, 67, 18, 55, 58, 53, 49, 8, 10, 28, 82, 4, 53, 88, 100, 5, 56, 4, 96, 47, 31, 28, 27, 41, 90, 93, 39, 100, 26, 76, 25, 77, 16, 23, 73, 20, 100, 75, 19, 85, 88, 23, 50, 81, 37, 62, 33, 73, 13, 86, 100, 68, 58, 87, 18, 62, 76, 57, 85, 78, 89, 71, 53, 23, 99, 62, 92, 88, 58, 91, 100, 70, 73, 34, 32, 16, 31, 45, 84, 99, 85, 60, 72, 89, 63, 95, 56, 46, 82, 69, 23, 12, 75, 51, 69, 26, 37, 15, 68, 76, 99, 77, 67, 41, 92, 3, 82, 67, 95, 46, 13, 43, 20, 58, 22, 47, 81, 34, 82, 45, 21, 37, 48, 35, 92, 82, 51, 86, 90, 49, 1, 50, 63, 63, 79, 30, 57, 86, 59, 75, 30, 43, 41, 57, 87, 17, 79, 27, 59, 22, 94, 67, 33, 25, 47, 62, 74, 46, 66, 77, 54, 6, 43, 32, 9, 55, 87, 0, 71, 75, 44, 90, 7, 57, 39, 39, 35, 1, 80, 60, 3, 88, 49, 87, 65, 94, 88, 3, 7, 52, 90, 83, 67, 34, 29, 95, 63, 17, 82, 65, 88, 46, 80, 85, 45, 72, 93, 59, 31, 47, 68, 73, 64, 24, 98, 18, 61, 54, 0, 11, 30, 18, 22, 63, 41, 31, 59, 41, 34, 38, 26, 25, 94, 8, 32, 71, 30, 22, 16, 91, 86, 44, 82, 81, 44, 55, 88, 88, 39, 86, 43, 37, 31, 17, 29, 1, 27, 52, 66, 85, 24, 41, 63, 81, 76, 17, 71, 77, 9, 40, 79, 63, 66, 49, 51, 3, 39, 58, 81, 8, 37, 1, 24, 2, 76, 36, 49, 71, 92, 52, 25, 71, 44, 69, 45, 70, 58, 49, 36, 31, 0, 42, 24, 97, 15, 66, 76, 10, 51, 74, 66, 76, 37, 61, 91, 19, 33, 37, 80, 40, 6, 31, 49, 57, 64, 29, 59, 40, 27, 32, 11, 30, 13, 38, 85, 64, 72, 20, 64, 35, 62, 60, 0, 17, 9, 58, 78, 21, 10, 79, 8, 59, 7, 14, 94, 95, 0, 47, 71, 25, 20, 19, 7, 59, 21, 10, 19, 40, 26, 5, 52, 13, 62, 53, 73, 88, 40, 36, 25, 14, 71, 63, 70, 84, 4, 29, 61, 56, 3, 61, 26, 93, 90, 96, 45, 86, 10, 25, 79, 98, 76, 19, 94, 42, 30, 22, 10, 61, 15, 97, 14, 45, 16, 74, 98, 92, 49, 2, 97, 1, 24, 91, 72, 99, 52, 69, 68, 81, 60, 54, 96, 3, 2, 14, 42, 49, 19, 67, 54, 59, 51, 91, 51, 61, 36, 91, 12, 54, 85, 70, 6, 31, 13, 5, 29, 98, 57, 67, 82, 33, 27, 40, 83, 71, 34, 14, 6, 64, 33, 46, 89, 88, 16, 42, 97, 90, 1, 26, 53, 91, 11, 32, 48, 8, 20, 44, 84, 12, 73, 64, 96, 2, 72, 43, 76, 57, 43, 29, 38, 98, 92, 48, 55, 13, 47, 89, 83, 33, 81, 97, 62, 43, 6, 91, 90, 59, 27, 23, 16, 2, 34, 5, 70, 91, 83, 69, 88, 66, 24, 14, 37, 32, 54, 25, 58, 34, 93, 59, 50, 100, 8, 30, 3, 42, 78, 66, 41, 67, 87, 27, 51, 85, 19, 81, 10, 68, 39, 89, 23, 59, 82, 8, 21, 6, 57, 58, 9, 47, 83, 59, 70, 23, 59, 63, 33, 34, 63, 96, 83, 88, 55, 66, 91, 9, 3, 0, 0, 31, 61, 63, 63, 13, 72, 40, 32, 75, 45, 32, 1, 17, 31, 38, 23, 31, 13, 44, 65, 13, 33, 68, 25, 94, 41, 47, 29, 27, 97, 28, 78, 9, 32, 12, 26, 28, 14, 33, 40, 15, 78, 53, 53, 71, 13, 1, 18, 56, 14, 44, 21, 45, 29, 98, 12, 22, 16, 61, 86, 96, 67, 64, 17, 71, 8, 73, 22, 12, 93, 58, 82, 52, 43, 15, 93, 55, 42, 60, 3, 79, 4, 91, 92, 6, 88, 7, 65, 86, 5, 27, 100, 46, 95, 76, 15, 60, 90, 22, 49, 89, 52, 75, 72, 77, 73, 81, 12, 42, 6, 5, 2, 63, 76, 93, 2, 98, 59, 19, 68, 24, 7, 6, 85, 87, 32, 18, 66, 4, 48, 63, 33, 66, 99, 66, 18, 41, 21, 8, 6, 14, 8, 23, 76, 10, 2, 92, 90, 92, 67, 66, 88, 75, 26, 71, 32, 61, 51, 43, 85, 19, 80, 94, 81, 89, 93, 12, 95, 70, 72, 6, 80, 25, 51, 31, 35, 21, 23, 74, 35, 45, 43, 17, 65, 55, 86, 98, 64, 11, 31, 61, 95, 29, 5, 31, 95, 25, 14, 21, 66, 86, 45, 84, 87, 5, 28, 22, 45, 84, 2, 53, 59, 30, 39, 69, 81, 37, 28, 3, 78, 28, 14, 43, 4, 19, 42, 88, 41, 35, 28, 3, 28, 83, 57, 27, 28, 83, 61, 72, 46, 81, 82, 36, 9, 1, 63, 65, 70, 83, 47, 63, 6, 40, 63, 40, 33, 53, 51, 94, 20, 78, 90, 79, 62, 46, 19, 66, 91, 88, 97, 28, 7, 54, 20, 45, 48, 100, 79, 61, 65, 95, 100, 62, 93, 58, 36, 75, 36, 66, 41, 1, 2, 33, 34, 59, 48, 58, 73, 6, 50, 1, 70, 31, 23, 30, 65, 61, 85, 44, 33, 19, 89, 68, 11, 76, 2, 39, 27, 17, 67, 29, 3, 68, 49, 88, 4, 62, 44, 8, 95, 18, 27, 41, 40, 68, 15, 55, 100, 94, 79, 73, 21, 75, 87, 95, 80, 44, 89, 35, 54, 20, 51, 12, 79, 79, 94, 31, 81, 53, 1, 30, 37, 57, 16, 52, 60, 87, 19, 34, 50, 60, 59, 57, 65, 56, 1, 47, 70, 64, 34, 69, 42, 28, 76, 41, 47, 54, 78, 31, 100, 43, 54, 43, 48, 99, 33, 24, 52, 54, 45, 60, 3, 41, 95, 81, 10, 4, 34, 71, 69, 47, 12, 40, 88, 37, 81, 58, 78, 18, 95, 47, 50, 94, 50, 45, 11, 8, 76, 34, 67, 69, 57, 40, 64, 49, 22, 0, 12, 6, 16, 89, 96, 73, 5, 78, 88, 26, 29, 95, 86, 72, 49, 35, 57, 30, 59, 76, 16, 71, 89, 97, 24, 72, 76, 29, 18, 29, 40, 80, 18, 20, 91, 44, 75, 91, 88, 8, 7, 4, 50, 49, 46, 74, 89, 34, 79, 70, 20, 40, 10, 43, 12, 71, 0, 28, 64, 65, 84, 24, 66, 63, 20, 2, 21, 37, 90, 74, 10, 70, 51, 27, 66, 67, 74, 55, 57, 13, 64, 91, 3, 64, 27, 87, 66, 8, 16, 19, 81, 74, 3, 96, 77, 42, 76, 9, 60, 88, 73, 17, 22, 99, 69, 73, 49, 71, 35, 25, 5, 51, 83, 27, 97, 70, 40, 60, 71, 5, 79, 14, 57, 31, 87, 90, 73, 9, 88, 61, 76, 51, 94, 74, 43, 57, 12, 38, 86, 14, 84, 70, 59, 50, 89, 87, 91, 93, 49, 46, 20, 86, 13, 67, 14, 46, 18, 99, 42, 94, 77, 62, 72, 67, 78, 12, 99, 4, 46, 9, 46, 97, 87, 28, 4, 96, 98, 75, 14, 64, 91, 68, 98, 52, 13, 49, 20, 20, 39, 88, 15, 24, 97, 6, 10, 43, 52, 44, 46, 68, 71, 7, 18, 46, 8, 37, 23, 99, 91, 76, 70, 18, 91, 55, 67, 93, 100, 26, 23, 13, 43, 55, 47, 100, 11, 10, 86, 38, 85, 39, 34, 64, 4, 0, 12, 15, 87, 95, 94, 87, 43, 57, 86, 14, 7, 28, 14, 12, 76, 21, 0, 99, 69, 37, 65, 99, 23, 60, 96, 30, 10, 68, 6, 86, 22, 64, 87, 23, 45, 57, 89, 5, 68, 28, 53, 51, 62, 46, 19, 79, 31, 43, 13, 25, 49, 54, 80, 57, 31, 75, 39, 50, 44, 76, 57, 96, 29, 14, 13, 63, 53, 39, 42, 69, 23, 57, 52, 37, 26, 68, 10, 22, 21, 92, 79, 7, 38, 22, 28, 33, 32, 57, 70, 83, 57, 66, 0, 65, 20, 49, 60, 71, 67, 53, 1, 12, 6, 22, 9, 11, 57, 97, 28, 64, 60, 58, 36, 86, 87, 76, 82, 21, 59, 94, 76, 8, 74, 74, 82, 37, 60, 52, 68, 52, 25, 46, 34, 70, 90, 16, 74, 34, 29, 27, 14, 53, 59, 25, 9, 22, 73, 91, 33, 18, 36, 86, 0, 12, 30, 0, 37, 24, 0, 12, 13, 88, 98, 76, 66, 23, 10, 12, 11, 28, 43, 77, 63, 85, 29, 43, 25, 24, 64, 79, 12, 94, 63, 55, 94, 23, 94, 35, 6, 8, 21, 91, 14, 17, 90, 65, 97, 94, 82, 45, 46, 74, 24, 7, 60, 1, 88, 31, 14, 18, 19, 22, 18, 6, 26, 47, 7, 66, 32, 49, 76, 49, 65, 88, 92, 19, 75, 9, 76, 58, 28, 73, 96, 9, 96, 79, 13, 88, 37, 86, 93, 58, 7, 15, 55, 13, 50, 69, 34, 77, 8, 42, 98, 61, 83, 70, 78, 28, 25, 39, 53, 48, 32, 47, 76, 66, 55, 6, 91, 38, 26, 80, 8, 21, 81, 81, 75, 41, 57, 98, 23, 63, 83, 37, 32, 93, 67, 81, 40, 50, 90, 98, 5, 21, 36, 100, 12, 66, 55, 57, 26, 37, 81, 19, 56, 98, 7, 4, 81, 21, 58, 91, 89, 38, 72, 100, 20, 6, 0, 22, 37, 34, 29, 8, 87, 38, 34, 42, 18, 43, 98, 58, 44, 40, 12, 43, 48, 55, 79, 44, 86, 4, 16, 32, 82, 51, 50, 88, 49, 32, 18, 34, 91, 57, 0, 11, 19, 97, 12, 87, 31, 23, 68, 70, 44, 72, 99, 12, 5, 93, 63, 87, 15, 51, 65, 12, 58, 72, 61, 65, 72, 98, 70, 48, 71, 94, 78, 12, 56, 17, 46, 78, 75, 21, 69, 45, 84, 64, 39, 51, 63, 86, 21, 32, 56, 27, 24, 28, 16, 90, 23, 40, 38, 18, 32, 74, 98, 29, 85, 12, 71, 41, 44, 28, 3, 38, 26, 93, 51, 38, 65, 44, 18, 98, 94, 32, 21, 74, 32, 81, 32, 84, 2, 59, 36, 42, 50, 41, 72, 64, 76, 77, 15, 46, 22, 88, 91, 1, 20, 61, 8, 90, 98, 42, 19, 79, 72, 77, 65, 91, 91, 78, 63, 28, 90, 77, 63, 36, 43, 43, 69, 95, 29, 42, 97, 25, 49, 77, 23, 41, 62, 45, 22, 21, 38, 11, 9, 3, 74, 90, 1, 93, 79, 10, 72, 5, 80, 78, 90, 59, 27, 59, 46, 66, 57, 52, 35, 62, 94, 86, 73, 56, 16, 88, 74, 97, 20, 55, 43, 48, 51, 63, 76, 98, 64, 43, 28, 97, 33, 83, 18, 36, 81, 0, 96, 26, 37, 52, 73, 37, 88, 81, 37, 54, 31, 17, 87, 61, 93, 63, 74, 87, 72, 80, 99, 51, 99, 37, 68, 86, 98, 21, 9, 1, 10, 100, 79, 59, 31, 58, 41, 55, 5, 72, 89, 62, 38, 22, 48, 14, 27, 88, 37, 27, 4, 44, 72, 82, 52, 100, 48, 94, 84, 29, 69, 72, 85, 93, 8, 55, 99, 11, 30, 33, 42, 86, 93, 80, 42, 41, 9, 35, 82, 37, 46, 7, 70, 10, 54, 100, 54, 85, 22, 50, 97, 79, 45, 82, 19, 28, 57, 10, 32, 35, 6, 75, 81, 35, 44, 53, 13, 68, 21, 32, 60, 40, 15, 77, 13, 76, 68, 69, 47, 65, 66, 26, 87, 6, 87, 18, 97, 30, 88, 36, 0, 16, 15, 74, 12, 36, 37, 1, 64, 36, 58, 43, 30, 34, 84, 35, 54, 10, 65, 41, 6, 92, 84, 60, 34, 23, 52, 89, 58, 17, 70, 80, 21, 15, 4, 90, 30, 76, 97, 40, 76, 55, 45, 22, 15, 93, 18, 21, 92, 98, 25, 18, 31, 45, 22, 98, 88, 7, 26, 90, 54, 59, 100, 55, 8, 32, 52, 17, 45, 53, 27, 45, 6, 88, 84, 42, 29, 32, 4, 77, 94, 88, 86, 81, 25, 30, 87, 53, 76, 35, 6, 10, 74, 95, 50, 87, 74, 85, 85, 71, 83, 79, 12, 18, 23, 7, 73, 76, 0, 62, 8, 3, 82, 3, 93, 17, 100, 2, 17, 74, 50, 21, 14, 43, 57, 50, 52, 21, 34, 54, 87, 91, 47, 85, 39, 85, 97, 66, 55, 48, 15, 39, 45, 61, 58, 4, 71, 95, 15, 2, 80, 21, 63, 11, 25, 90, 72, 81, 22, 12, 21, 3, 82, 41, 89, 84, 84, 98, 1, 33, 23, 24, 28, 2, 25, 40, 98, 80, 81, 85, 93, 25, 20, 64, 62, 39, 9, 97, 37, 28, 84, 67, 99, 60, 23, 9, 8, 30, 76, 76, 46, 4, 3, 91, 88, 54, 3, 91, 89, 18, 63, 52, 29, 24, 69, 61, 87, 60, 46, 12, 97, 66, 26, 82, 62, 38, 10, 89, 99, 32, 73, 24, 81, 3, 65, 22, 71, 81, 16, 98, 41, 45, 3, 93, 86, 7, 10, 22, 81, 41, 42, 84, 71, 41, 25, 1, 78, 92, 25, 2, 98, 40, 49, 38, 14, 49, 54, 35, 94, 1, 67, 83, 18, 8, 43, 64, 73, 85, 74, 76, 69, 98, 77, 21, 23, 33, 61, 47, 13, 49, 52, 14, 69, 19, 55, 65, 59, 82, 75, 81, 58, 66, 14, 24, 75, 99, 18, 48, 7, 22, 77, 60, 100, 71, 46, 25, 56, 80, 94, 89, 42, 82, 84, 75, 0, 4, 35, 53, 1, 83, 93, 97, 13, 63, 49, 49, 52, 26, 92, 49, 36, 26, 35, 11, 50, 11, 1, 45, 61, 14, 45, 62, 94, 58, 74, 19, 71, 91, 12, 52, 15, 98, 76, 49, 33, 20, 98, 34, 26, 65, 24, 23, 21, 14, 100, 9, 33, 44, 5, 45, 2, 37, 13, 14, 41, 61, 22, 33, 49, 0, 60, 91, 99, 14, 74, 20, 51, 60, 28, 27, 44, 84, 62, 18, 29, 62, 94, 84, 95, 70, 36, 77, 43, 65, 7, 28, 20, 99, 36, 52, 31, 10, 3, 99, 55, 31, 97, 52, 91, 75, 34, 74, 77, 79, 25, 74, 64, 70, 86, 8, 2, 22, 28, 11, 81, 37, 82, 28, 74, 6, 64, 75, 16, 55, 31, 5, 93, 73, 96, 50, 97, 15, 3, 15, 90, 93, 32, 94, 35, 87, 20, 73, 100, 20, 86, 64, 92, 99, 0, 38, 7, 66, 57, 9, 6, 85, 95, 49, 71, 82, 53, 71, 27, 27, 77, 35, 16, 14, 89, 54, 31, 80, 89, 86, 77, 43, 68, 69, 91, 69, 14, 28, 79, 21, 33, 17, 75, 15, 7, 94, 37, 11, 56, 27, 32, 71, 25, 43, 64, 28, 95, 6, 61, 13, 87, 18, 78, 75, 39, 95, 87, 35, 51, 18, 38, 15, 43, 54, 57, 61, 40, 25, 67, 49, 69, 1, 52, 98, 22, 76, 85, 50, 78, 43, 14, 12, 18, 5, 47, 54, 62, 31, 63, 12, 14, 59, 0, 16, 35, 58, 8, 6, 3, 71, 56, 95, 69, 77, 61, 34, 24, 66, 49, 5, 76, 40, 87, 97, 22, 57, 48, 29, 59, 93, 66, 71, 72, 61, 42, 42, 30, 54, 82, 84, 47, 77, 58, 25, 65, 48, 17, 16, 52, 58, 91, 9, 96, 87, 9, 54, 22, 63, 45, 37, 84, 91, 9, 74, 41, 67, 94, 74, 0, 44, 88, 84, 74, 100, 44, 31, 0, 70, 95, 10, 41, 61, 26, 84, 71, 7, 58, 77, 29, 70, 65, 49, 99, 93, 72, 17, 55, 100, 63, 26, 69, 71, 77, 38, 31, 55, 65, 73, 36, 5, 68, 87, 6, 57, 47, 10, 46, 28, 95, 25, 83, 71, 24, 12, 16, 51, 45, 58, 90, 1, 39, 30, 40, 10, 35, 28, 82, 46, 0, 52, 42, 20, 100, 32, 73, 58, 57, 18, 4, 62, 2, 60, 86, 36, 22, 55, 17, 82, 65, 51, 95, 43, 40, 6, 95, 82, 25, 94, 57, 79, 0, 36, 54, 2, 40, 17, 48, 30, 1, 17, 73, 69, 55, 60, 49, 39, 60, 48, 38, 95, 15, 99, 68, 77, 1, 85, 33, 26, 4, 29, 72, 98, 79, 57, 95, 9, 62, 32, 100, 12, 33, 95, 22, 79, 52, 10, 67, 97, 39, 24, 37, 77, 43, 49, 95, 9, 82, 14, 75, 53, 18, 21, 18, 77, 17, 77, 3, 85, 45, 12, 47, 72, 45, 83, 52, 98, 93, 97, 82, 93, 6, 45, 84, 91, 27, 16, 28, 25, 53, 20, 77, 98, 30, 79, 40, 7, 65, 38, 9, 18, 44, 47, 96, 49, 50, 24, 98, 95, 67, 81, 90, 78, 22, 78, 58, 40, 74, 93, 20, 13, 39, 61, 11, 0, 51, 33, 12, 52, 51, 71, 66, 54, 86, 67, 47, 2, 68, 51, 79, 35, 66, 4, 63, 38, 22, 89, 75, 84, 15, 6, 6, 85, 69, 60, 0, 16, 70, 13, 84, 86, 23, 31, 93, 87, 11, 9, 71, 37, 57, 51, 81, 14, 28, 60, 42, 78, 91, 100, 100, 26, 52, 71, 53, 69, 76, 46, 94, 4, 56, 64, 100, 65, 24, 45, 72, 13, 11, 25, 26, 9, 13, 11, 98, 44, 39, 30, 62, 20, 95, 30, 32, 100, 76, 84, 52, 47, 45, 56, 1, 80, 2, 51, 16, 25, 21, 59, 24, 47, 15, 80, 13, 41, 44, 8, 68, 93, 56, 64, 61, 37, 53, 75, 52, 76, 64, 15, 8, 93, 80, 67, 24, 59, 92, 47, 59, 23, 70, 0, 88, 53, 52, 84, 66, 17, 85, 13, 8, 91, 62, 40, 73, 96, 66, 62, 25, 18, 61, 80, 33, 19, 77, 69, 60, 75, 11, 56, 75, 25, 93, 21, 47, 95, 31, 2, 55, 48, 100, 27, 94, 13, 70, 97, 49, 59, 94, 48, 82, 46, 82, 92, 54, 55, 85, 39, 39, 81, 16, 49, 14, 91, 12, 44, 80, 0, 68, 38, 96, 8, 80, 35, 64, 20, 7, 44, 95, 20, 45, 98, 59, 66, 20, 72, 43, 77, 86, 72, 47, 47, 38, 54, 44, 84, 55, 91, 59, 86, 63, 47, 13, 90, 65, 16, 43, 66, 78, 26, 2, 65, 29, 93, 50, 65, 68, 11, 61, 86, 15, 57, 70, 44, 54, 19, 69, 77, 47, 53, 14, 0, 29, 62, 90, 28, 66, 84, 76, 14, 92, 62, 14, 5, 48, 23, 9, 32, 25, 14, 81, 44, 89, 69, 92, 9, 24, 63, 58, 65, 32, 34, 71, 65, 66, 52, 58, 11, 18, 35, 4, 27, 60, 8, 89, 89, 57, 98, 92, 17, 4, 70, 13, 56, 13, 64, 3, 37, 9, 73, 76, 83, 57, 5, 47, 49, 87, 61, 18, 5, 65, 48, 39, 65, 98, 21, 70, 77, 81, 23, 23, 81, 4, 12, 83, 29, 13, 20, 63, 67, 89, 9, 78, 29, 30, 94, 40, 19, 58, 32, 75, 11, 9, 59, 2, 18, 6, 15, 86, 92, 33, 33, 1, 99, 15, 82, 62, 44, 66, 60, 40, 69, 18, 52, 37, 59, 27, 94, 79, 72, 78, 12, 30, 95, 21, 38, 64, 93, 59, 97, 94, 52, 13, 98, 27, 28, 33, 96, 9, 31, 69, 47, 0, 77, 19, 77, 28, 43, 90, 19, 13, 26, 74, 94, 17, 61, 9, 39, 89, 65, 37, 57, 15, 77, 65, 93, 54, 34, 74, 35, 5, 99, 22, 71, 32, 21, 66, 65, 72, 73, 80, 97, 19, 64, 75, 99, 66, 89, 12, 20, 80, 77, 8, 81, 81, 72, 87, 66, 27, 58, 9, 60, 100, 4, 69, 24, 15, 37, 76, 4, 32, 43, 22, 25, 0, 41, 99, 86, 47, 94, 76, 96, 60, 57, 94, 43, 19, 12, 5, 70, 22, 17, 33, 16, 9, 65, 36, 23, 30, 49, 75, 76, 24, 28, 51, 59, 79, 41, 34, 9, 8, 42, 75, 100, 97, 39, 73, 70, 39, 14, 33, 65, 64, 51, 2, 64, 91, 14, 34, 95, 100, 25, 7, 6, 48, 60, 27, 89, 61, 45, 56, 75, 29, 26, 75, 46, 70, 81, 3, 28, 1, 0, 40, 38, 17, 99, 1, 97, 96, 80, 34, 0, 66, 49, 8, 33, 83, 94, 43, 9, 5, 67, 19, 27, 35, 26, 22, 63, 53, 31, 95, 62, 59, 53, 66, 81, 33, 81, 88, 75, 30, 43, 94, 62, 91, 48, 4, 65, 100, 49, 36, 85, 27, 46, 94, 12, 32, 20, 54, 69, 84, 5, 13, 29, 14, 69, 17, 25, 7, 15, 1, 36, 5, 72, 78, 98, 60, 41, 38, 20, 59, 27, 71, 81, 11, 12, 65, 74, 89, 3, 77, 12, 22, 22, 51, 100, 39, 39, 83, 4, 93, 70, 75, 10, 72, 83, 59, 37, 25, 92, 51, 10, 25, 38, 83, 35, 36, 40, 54, 95, 79, 57, 45, 15, 27, 87, 14, 17, 31, 85, 63, 64, 10, 40, 0, 64, 93, 27, 25, 4, 79, 56, 60, 5, 21, 21, 4, 77, 94, 48, 96, 28, 11, 85, 77, 72, 82, 94, 19, 25, 72, 84, 30, 39, 38, 62, 73, 11, 58, 37, 88, 47, 2, 33, 77, 25, 65, 31, 8, 28, 50, 71, 4, 94, 47, 1, 95, 96, 54, 45, 41, 44, 66, 42, 57, 5, 24, 49, 64, 34, 95, 68, 76, 46, 58, 23, 64, 5, 51, 81, 35, 44, 1, 10, 36, 17, 70, 41, 70, 99, 54, 55, 92, 34, 97, 68, 76, 43, 13, 41, 35, 41, 77, 84, 25, 30, 64, 12, 67, 68, 94, 25, 49, 2, 8, 21, 62, 84, 74, 81, 73, 46, 9, 10, 57, 3, 68, 29, 74, 98, 88, 67, 70, 9, 87, 33, 95, 2, 33, 66, 38, 1, 24, 32, 0, 96, 55, 88, 30, 18, 63, 92, 18, 71, 99, 45, 60, 12, 63, 78, 81, 93, 44, 82, 7, 96, 44, 70, 84, 95, 60, 85, 58, 93, 95, 7, 42, 17, 73, 20, 8, 57, 79, 37, 52, 98, 61, 50, 65, 34, 14, 40, 45, 14, 96, 98, 94, 39, 11, 59, 11, 40, 51, 61, 60, 49, 44, 65, 9, 17, 40, 33, 61, 30, 69, 5, 15, 57, 67, 69, 6, 80, 62, 58, 18, 52, 50, 42, 66, 58, 92, 13, 98, 12, 10, 34, 70, 99, 13, 29, 98, 44, 49, 26, 47, 53, 72, 14, 81, 17, 68, 59, 45, 72, 55, 83, 52, 58, 14, 36, 99, 32, 80, 36, 60, 10, 18, 46, 32, 33, 33, 11, 78, 9, 21, 96, 0, 1, 46, 80, 2, 78, 65, 61, 5, 21, 100, 67, 12, 91, 29, 52, 36, 47, 38, 0, 25, 41, 46, 15, 52, 74, 75, 59, 2, 37, 23, 72, 19, 12, 40, 60, 55, 51, 31, 19, 55, 76, 68, 94, 16, 19, 27, 2, 79, 53, 49, 54, 55, 73, 36, 57, 7, 6, 70, 10, 38, 22, 6, 46, 67, 81, 89, 69, 77, 54, 74, 62, 11, 47, 51, 38, 10, 52, 82, 73, 60, 42, 9, 1, 33, 20, 20, 70, 20, 69, 99, 31, 47, 79, 56, 52, 20, 16, 26, 75, 72, 12, 52, 3, 0, 75, 42, 93, 38, 89, 48, 76, 89, 51, 36, 99, 35, 36, 81, 60, 86, 20, 87, 11, 6, 73, 44, 72, 9, 67, 71, 84, 80, 1, 40, 49, 63, 41, 19, 45, 50, 5, 70, 37, 74, 41, 61, 78, 70, 99, 93, 65, 37, 59, 55, 5, 86, 23, 63, 75, 42, 2, 57, 54, 25, 15, 40, 41, 22, 66, 56, 75, 22, 42, 64, 33, 76, 93, 94, 58, 0, 87, 21, 33, 62, 28, 82, 68, 52, 93, 16, 48, 36, 76, 51, 81, 64, 79, 69, 94, 82, 19, 71, 45, 28, 44, 5, 95, 25, 45, 55, 51, 18, 36, 83, 61, 55, 93, 22, 74, 21, 43, 38, 80, 38, 65, 17, 80, 80, 51, 89, 39, 1, 7, 77, 62, 26, 18, 53, 93, 91, 41, 38, 78, 95, 6, 60, 21, 76, 70, 90, 58, 23, 7, 11, 27, 3, 50, 64, 66, 17, 21, 74, 23, 57, 48, 98, 33, 72, 23, 92, 89, 30, 45, 36, 36, 11, 27, 92, 60, 11, 37, 42, 36, 79, 67, 57, 31, 46, 63, 54, 69, 42, 11, 81, 3, 17, 11, 82, 16, 91, 50, 61, 21, 68, 0, 14, 100, 34, 89, 68, 58, 81, 3, 59, 67, 79, 68, 29, 100, 97, 12, 54, 21, 59, 84, 73, 22, 35, 98, 67, 73, 28, 68, 99, 94, 6, 23, 12, 90, 21, 61, 61, 27, 26, 17, 70, 62, 67, 49, 75, 73, 26, 23, 76, 8, 53, 59, 49, 16, 6, 47, 71, 29, 60, 31, 72, 23, 87, 85, 91, 50, 53, 32, 16, 79, 20, 71, 13, 82, 78, 93, 79, 38, 53, 61, 90, 1, 30, 54, 75, 71, 50, 80, 89, 11, 83, 76, 93, 26, 36, 2, 97, 81, 37, 27, 93, 41, 43, 48, 45, 38, 63, 57, 17, 98, 51, 53, 45, 5, 43, 90, 3, 57, 96, 9, 43, 95, 93, 80, 50, 100, 66, 94, 65, 77, 95, 8, 20, 66, 50, 44, 89, 42, 61, 87, 99, 11, 74, 65, 9, 73, 8, 3, 38, 2, 10, 89, 1, 14, 85, 88, 28, 47, 10, 100, 64, 43, 17, 51, 23, 74, 59, 75, 66, 20, 43, 72, 74, 89, 76, 87, 8, 88, 0, 35, 83, 66, 26, 26, 28, 98, 54, 85, 43, 87, 56, 100, 95, 8, 95, 33, 22, 81, 12, 9, 3, 7, 60, 19, 63, 44, 74, 100, 82, 82, 49, 21, 98, 45, 6, 37, 77, 98, 87, 24, 35, 6, 24, 28, 61, 34, 99, 90, 4, 16, 94, 6, 27, 25, 37, 62, 85, 62, 86, 73, 20, 54, 42, 2, 84, 3, 99, 2, 4, 17, 29, 72, 46, 85, 37, 42, 31, 71, 3, 83, 64, 6, 29, 71, 82, 14, 86, 11, 33, 56, 35, 66, 40, 24, 22, 21, 47, 2, 9, 94, 60, 11, 18, 68, 80, 51, 57, 79, 38, 35, 85, 95, 43, 30, 100, 33, 27, 0, 55, 38, 50, 10, 15, 31, 1, 28, 3, 36, 24, 12, 5, 34, 27, 60, 50, 79, 51, 6, 42, 31, 99, 62, 12, 56, 32, 2, 4, 55, 24, 36, 78, 55, 40, 59, 61, 60, 24, 57, 42, 66, 62, 79, 40, 38, 39, 14, 73, 85, 24, 72, 74, 48, 82, 4, 83, 33, 50, 31, 56, 2, 12, 82, 38, 83, 0, 23, 91, 24, 68, 91, 92, 11, 40, 92, 13, 88, 13, 55, 4, 57, 2, 58, 53, 5, 36, 18, 83, 56, 15, 54, 46, 64, 54, 25, 3, 17, 100, 39, 89, 57, 96, 13, 64, 59, 69, 0, 65, 81, 71, 27, 75, 63, 41, 6, 74, 29, 34, 4, 8, 3, 30, 24, 5, 76, 58, 18, 100, 96, 2, 54, 36, 31, 27, 46, 67, 56, 1, 57, 97, 77, 20, 4, 86, 51, 48, 55, 86, 25, 86, 91, 60, 32, 63, 92, 96, 31, 68, 17, 95, 21, 95, 65, 47, 20, 75, 66, 73, 100, 18, 2, 66, 16, 25, 63, 42, 24, 26, 99, 81, 98, 67, 83, 83, 26, 40, 13, 49, 16, 3, 69, 73, 95, 17, 61, 34, 72, 19, 93, 65, 37, 62, 88, 75, 75, 59, 7, 23, 7, 29, 32, 60, 26, 15, 82, 41, 43, 64, 21, 75, 49, 13, 83, 68, 89, 52, 33, 37, 98, 67, 27, 68, 69, 51, 100, 98, 96, 22, 54, 58, 40, 81, 54, 61, 49, 80, 53, 23, 22, 61, 92, 54, 12, 9, 12, 73, 7, 74, 19, 55, 73, 100, 57, 79, 86, 2, 64, 98, 53, 39, 38, 67, 46, 55, 16, 14, 1, 43, 81, 85, 36, 100, 84, 85, 12, 53, 17, 12, 77, 56, 38, 93, 25, 26, 23, 96, 50, 22, 61, 9, 97, 40, 57, 84, 73, 18, 37, 36, 99, 82, 23, 8, 93, 51, 59, 46, 25, 84, 3, 71, 25, 23, 9, 63, 98, 90, 27, 63, 34, 69, 90, 50, 69, 97, 46, 4, 100, 15, 84, 39, 50, 55, 62, 92, 93, 47, 19, 46, 48, 70, 32, 94, 62, 4, 58, 97, 92, 50, 24, 29, 33, 6, 71, 18, 54, 31, 14, 2, 18, 31, 21, 14, 48, 89, 94, 18, 15, 76, 23, 13, 37, 91, 1, 22, 87, 48, 42, 98, 16, 22, 2, 77, 40, 16, 30, 27, 60, 87, 14, 54, 59, 87, 79, 72, 70, 82, 89, 34, 69, 47, 11, 75, 82, 35, 83, 75, 4, 93, 88, 73, 17, 18, 92, 24, 14, 92, 75, 68, 87, 42, 92, 46, 21, 46, 62, 73, 96, 58, 35, 43, 51, 37, 34, 69, 82, 11, 19, 39, 23, 58, 40, 70, 41, 98, 41, 37, 34, 41, 83, 39, 50, 49, 86, 60, 79, 73, 46, 23, 43, 43, 26, 4, 17, 31, 28, 67, 4, 23, 89, 56, 75, 53, 64, 24, 46, 74, 72, 79, 82, 98, 56, 59, 95, 98, 12, 8, 45, 84, 25, 100, 8, 89, 91, 61, 39, 14, 88, 3, 27, 90, 55, 44, 36, 1, 96, 59, 37, 4, 3, 22, 88, 81, 14, 15, 65, 12, 76, 74, 42, 95, 47, 56, 55, 13, 85, 63, 80, 35, 19, 91, 15, 26, 55, 76, 72, 64, 46, 75, 80, 54, 23, 92, 80, 76, 16, 49, 29, 39, 60, 80, 38, 97, 68, 22, 82, 45, 17, 81, 66, 17, 29, 53, 73, 21, 27, 46, 89, 42, 98, 1, 88, 99, 16, 55, 60, 34, 55, 51, 48, 81, 90, 25, 0, 2, 56, 9, 7, 16, 77, 39, 46, 42, 95, 37, 24, 50, 80, 7, 57, 4, 57, 73, 80, 67, 100, 85, 26, 45, 73, 90, 7, 6, 44, 88, 70, 16, 85, 16, 18, 54, 85, 51, 49, 0, 47, 77, 45, 100, 67, 71, 11, 8, 21, 4, 16, 73, 61, 93, 60, 79, 25, 21, 88, 36, 40, 37, 43, 75, 85, 1, 44, 72, 35, 92, 58, 93, 10, 53, 99, 48, 99, 75, 65, 89, 15, 78, 32, 56, 6, 5, 95, 61, 35, 68, 76, 55, 50, 74, 67, 70, 27, 48, 96, 40, 92, 26, 80, 57, 38, 19, 94, 92, 10, 41, 22, 93, 6, 42, 89, 98, 78, 43, 28, 41, 44, 72, 89, 43, 73, 81, 48, 46, 62, 22, 41, 66, 76, 37, 27, 19, 5, 48, 91, 91, 14, 80, 52, 90, 57, 58, 84, 41, 36, 74, 65, 36, 35, 58, 77, 73, 99, 33, 25, 45, 95, 83, 90, 33, 89, 62, 43, 16, 87, 87, 31, 24, 53, 63, 8, 14, 63, 1, 44, 46, 79, 35, 53, 58, 60, 0, 97, 20, 32, 74, 37, 86, 33, 92, 7, 73, 77, 94, 23, 89, 67, 93, 70, 84, 54, 26, 46, 86, 82, 87, 33, 33, 87, 19, 15, 49, 41, 89, 55, 9, 86, 95, 100, 18, 75, 64, 41, 9, 43, 7, 13, 66, 55, 81, 19, 99, 27, 16, 40, 25, 21, 45, 70, 17, 61, 45, 53, 39, 88, 13, 76, 41, 24, 55, 67, 91, 51, 72, 86, 44, 92, 16, 53, 40, 61, 14, 19, 78, 56, 60, 2, 100, 87, 5, 94, 81, 61, 3, 30, 14, 11, 34, 17, 27, 100, 51, 1, 52, 65, 2, 21, 15, 70, 53, 53, 40, 45, 60, 62, 65, 79, 86, 92, 29, 19, 70, 48, 51, 22, 97, 92, 43, 14, 67, 97, 80, 79, 79, 76, 48, 1, 94, 88, 39, 55, 100, 94, 91, 45, 5, 29, 40, 68, 23, 16, 8, 2, 25, 41, 5, 70, 67, 7, 16, 31, 67, 36, 65, 5, 40, 78, 52, 53, 36, 92, 66, 94, 57, 74, 93, 15, 33, 15, 2, 89, 8, 19, 15, 13, 32, 34, 68, 88, 59, 57, 82, 97, 42, 0, 32, 21, 13, 85, 11, 21, 86, 51, 23, 41, 51, 19, 68, 53, 49, 19, 17, 91, 86, 43, 87, 10, 18, 46, 84, 92, 86, 17, 54, 69, 1, 67, 83, 80, 57, 6, 53, 26, 67, 43, 50, 63, 83, 41, 71, 9, 67, 69, 91, 46, 74, 60, 56, 65, 65, 52, 26, 29, 34, 24, 25, 90, 82, 34, 12, 81, 58, 38, 19, 46, 63, 36, 34, 45, 51, 66, 38, 12, 79, 87, 32, 6, 37, 26, 52, 20, 74, 75, 36, 69, 8, 57, 94, 8, 19, 65, 94, 27, 93, 45, 81, 71, 36, 74, 79, 14, 40, 34, 35, 42, 29, 39, 57, 95, 96, 99, 22, 13, 91, 44, 79, 64, 80, 57, 87, 10, 10, 79, 79, 47, 22, 62, 97, 41, 23, 87, 31, 78, 49, 25, 29, 85, 35, 50, 76, 82, 28, 48, 50, 5, 71, 6, 99, 74, 36, 4, 64, 52, 26, 73, 13, 50, 74, 74, 87, 5, 69, 84, 69, 1, 14, 75, 41, 60, 41, 29, 23, 19, 54, 22, 20, 15, 64, 11, 99, 49, 23, 80, 91, 98, 48, 96, 97, 36, 9, 0, 30, 30, 24, 45, 84, 82, 68, 20, 32, 44, 5, 42, 57, 10, 80, 32, 35, 35, 100, 78, 75, 17, 89, 33, 32, 21, 71, 69, 18, 56, 92, 58, 32, 91, 12, 47, 43, 53, 64, 7, 40, 16, 4, 18, 20, 44, 14, 49, 93, 73, 47, 82, 32, 45, 84, 31, 33, 24, 19, 15, 67, 94, 18, 96, 46, 38, 19, 71, 61, 59, 17, 65, 63, 31, 48, 100, 78, 90, 96, 60, 68, 51, 60, 66, 93, 99, 86, 74, 71, 53, 63, 58, 61, 68, 88, 97, 20, 23, 42, 5, 60, 8, 10, 94, 79, 16, 48, 19, 4, 80, 84, 56, 95, 33, 33, 30, 91, 88, 85, 42, 21, 63, 31, 17, 10, 66, 94, 64, 65, 31, 18, 97, 72, 60, 26, 69, 59, 98, 57, 17, 29, 38, 99, 85, 20, 5, 52, 90, 72, 97, 39, 38, 67, 48, 58, 100, 98, 61, 14, 84, 29, 4, 91, 87, 67, 35, 33, 6, 65, 25, 56, 2, 82, 15, 83, 51, 66, 76, 58, 5, 31, 29, 9, 38, 85, 58, 66, 48, 82, 19, 87, 3, 56, 20, 58, 8, 94, 40, 74, 80, 21, 35, 22, 100, 35, 58, 70, 19, 37, 96, 97, 28, 76, 86, 83, 83, 21, 33, 60, 45, 16, 20, 43, 49, 36, 82, 27, 3, 68, 75, 14, 66, 39, 3, 14, 14, 65, 40, 72, 5, 44, 58, 35, 62, 18, 37, 62, 84, 74, 10, 52, 20, 13, 3, 85, 46, 68, 83, 68, 24, 58, 70, 27, 54, 16, 10, 73, 79, 34, 84, 10, 48, 20, 28, 57, 38, 49, 16, 26, 3, 32, 89, 90, 64, 17, 19, 27, 48, 90, 88, 61, 48, 3, 30, 13, 95, 38, 13, 7, 57, 31, 74, 14, 54, 13, 93, 98, 42, 64, 36, 7, 73, 57, 66, 61, 95, 38, 55, 36, 96, 11, 19, 100, 14, 88, 59, 40, 26, 80, 24, 83, 73, 23, 5, 59, 44, 55, 71, 49, 63, 83, 81, 83, 8, 6, 77, 82, 61, 62, 66, 30, 65, 72, 38, 38, 99, 1, 91, 20, 41, 0, 92, 52, 87, 47, 22, 49, 43, 20, 8, 64, 34, 30, 63, 4, 89, 53, 51, 20, 75, 70, 74, 7, 59, 37, 15, 10, 53, 22, 93, 69, 16, 64, 43, 70, 35, 56, 12, 25, 21, 84, 39, 79, 2, 2, 44, 77, 61, 51, 61, 45, 35, 45, 56, 74, 17, 37, 24, 34, 84, 62, 17, 36, 63, 24, 17, 81, 50, 90, 43, 4, 83, 45, 33, 24, 5, 58, 64, 13, 46, 3, 20, 9, 30, 63, 8, 92, 21, 76, 67, 19, 92, 10, 76, 42, 63, 52, 64, 90, 12, 31, 8, 66, 34, 66, 0, 40, 23, 50, 100, 42, 63, 4, 91, 27, 84, 37, 69, 18, 84, 42, 92, 65, 32, 9, 26, 9, 4, 62, 64, 42, 74, 47, 88, 37, 65, 51, 6, 38, 69, 29, 44, 47, 90, 36, 48, 38, 9, 35, 95, 69, 36, 12, 6, 57, 78, 13, 42, 56, 50, 52, 91, 3, 69, 96, 46, 25, 75, 30, 13, 100, 72, 93, 88, 18, 11, 65, 79, 32, 0, 63, 79, 50, 28, 67, 19, 97, 15, 55, 63, 66, 90, 48, 54, 62, 96, 75, 12, 56, 71, 46, 58, 62, 62, 14, 41, 100, 25, 57, 93, 32, 10, 47, 86, 100, 42, 3, 54, 40, 90, 1, 4, 11, 12, 6, 27, 49, 33, 8, 87, 65, 39, 85, 3, 91, 13, 86, 89, 74, 58, 99, 91, 34, 80, 30, 28, 45, 37, 23, 41, 57, 7, 3, 12, 64, 6, 86, 90, 52, 0, 78, 56, 77, 44, 87, 29, 3, 36, 24, 99, 19, 69, 26, 37, 73, 16, 26, 46, 87, 93, 74, 98, 24, 26, 27, 54, 28, 73, 38, 60, 89, 14, 38, 8, 74, 64, 20, 99, 22, 93, 16, 5, 91, 59, 96, 94, 64, 84, 41, 33, 14, 43, 73, 32, 34, 4, 65, 47, 12, 86, 88, 66, 41, 23, 81, 91, 59, 12, 74, 71, 50, 85, 88, 78, 77, 32, 36, 76, 48, 94, 19, 43, 50, 26, 3, 92, 98, 6, 72, 6, 99, 42, 30, 28, 42, 72, 48, 72, 59, 71, 61, 82, 73, 2, 65, 68, 56, 36, 39, 13, 36, 88, 65, 97, 83, 30, 54, 94, 49, 44, 93, 83, 99, 52, 50, 75, 25, 90, 94, 23, 86, 50, 32, 53, 35, 73, 6, 52, 29, 79, 97, 86, 67, 94, 82, 29, 32, 41, 91, 51, 5, 74, 51, 83, 1, 13, 71, 50, 49, 12, 57, 38, 96, 74, 65, 49, 86, 62, 86, 59, 43, 49, 42, 35, 25, 4, 3, 74, 33, 21, 43, 38, 64, 76, 67, 9, 91, 20, 31, 76, 40, 91, 91, 54, 42, 90, 87, 23, 42, 46, 53, 65, 9, 41, 9, 9, 38, 39, 88, 26, 8, 88, 50, 91, 67, 11, 27, 2, 5, 9, 58, 100, 63, 14, 44, 74, 92, 16, 93, 36, 85, 56, 95, 86, 21, 75, 21, 54, 48, 13, 0, 46, 66, 84, 30, 54, 7, 38, 91, 63, 83, 47, 72, 7, 16, 40, 22, 81, 90, 34, 22, 1, 51, 49, 25, 26, 54, 87, 33, 96, 26, 10, 34, 94, 34, 76, 30, 78, 42, 37, 98, 73, 98, 90, 9, 65, 66, 53, 62, 53, 37, 81, 99, 93, 11, 45, 0, 62, 80, 91, 79, 5, 93, 9, 42, 79, 66, 65, 64, 79, 41, 16, 15, 21, 69, 33, 57, 93, 8, 29, 40, 71, 41, 81, 9, 17, 51, 29, 6, 81, 17, 16, 44, 72, 69, 1, 95, 41, 19, 3, 23, 51, 96, 93, 30, 5, 93, 43, 88, 15, 25, 88, 25, 19, 59, 12, 41, 21, 9, 70, 48, 73, 77, 41, 52, 90, 57, 39, 71, 11, 44, 46, 56, 21, 51, 6, 16, 76, 68, 37, 62, 74, 72, 17, 47, 22, 48, 60, 58, 45, 13, 62, 69, 41, 41, 57, 99, 21, 50, 29, 79, 0, 46, 92, 97, 33, 100, 77, 96, 1, 27, 51, 63, 75, 30, 39, 19, 20, 98, 48, 78, 69, 79, 67, 68, 35, 71, 51, 61, 80, 6, 69, 17, 52, 43, 42, 96, 78, 35, 67, 6, 91, 9, 61, 26, 26, 39, 45, 65, 15, 69, 63, 63, 12, 85, 66, 55, 97, 52, 50, 72, 38, 17, 29, 25, 55, 74, 55, 44, 36, 20, 73, 21, 9, 22, 33, 58, 45, 93, 46, 11, 82, 55, 28, 89, 40, 48, 58, 82, 81, 16, 22, 58, 68, 10, 14, 20, 64, 0, 18, 52, 88, 61, 66, 33, 20, 55, 54, 71, 82, 40, 66, 49, 56, 81, 90, 31, 42, 91, 39, 92, 60, 95, 25, 100, 35, 15, 8, 31, 7, 35, 6, 84, 12, 78, 21, 41, 51, 95, 57, 49, 90, 14, 12, 32, 30, 58, 4, 82, 54, 61, 24, 28, 39, 47, 92, 3, 58, 61, 35, 8, 40, 71, 25, 49, 20, 21, 49, 93, 8, 87, 56, 89, 57, 66, 68, 48, 78, 8, 21, 73, 6, 69, 85, 79, 29, 69, 4, 41, 28, 80, 84, 60, 78, 12, 97, 11, 1, 14, 90, 5, 71, 62, 55, 1, 30, 55, 51, 49, 55, 46, 56, 71, 72, 5, 25, 85, 54, 85, 86, 80, 74, 1, 85, 7, 16, 32, 46, 34, 90, 40, 6, 55, 63, 2, 79, 81, 8, 63, 12, 89, 37, 75, 2, 30, 2, 23, 72, 40, 12, 79, 42, 92, 8, 5, 18, 65, 29, 72, 95, 86, 38, 47, 62, 64, 1, 37, 15, 84, 65, 60, 89, 6, 35, 8, 11, 38, 69, 48, 19, 65, 19, 78, 9, 80, 93, 37, 18, 4, 67, 0, 91, 64, 56, 48, 27, 24, 49, 51, 39, 57, 54, 52, 4, 65, 93, 41, 7, 90, 22, 64, 86, 80, 14, 28, 41, 96, 2, 88, 57, 94, 39, 37, 62, 89, 71, 36, 42, 8, 56, 91, 80, 7, 24, 49, 78, 7, 94, 79, 23, 43, 17, 24, 96, 45, 59, 60, 22, 96, 71, 94, 1, 48, 74, 5, 0, 30, 17, 38, 20, 38, 45, 46, 30, 80, 59, 54, 83, 73, 46, 12, 6, 79, 54, 71, 73, 98, 44, 31, 40, 74, 63, 71, 3, 60, 71, 61, 16, 28, 48, 85, 78, 65, 98, 75, 95, 29, 22, 36, 47, 23, 55, 50, 3, 90, 64, 77, 93, 63, 25, 82, 79, 12, 26, 40, 38, 39, 35, 92, 73, 15, 28, 50, 74, 88, 3, 15, 67, 29, 35, 37, 94, 57, 91, 73, 54, 88, 87, 76, 46, 93, 41, 82, 75, 35, 73, 14, 89, 62, 13, 48, 47, 3, 34, 87, 78, 53, 97, 5, 84, 29, 1, 88, 54, 62, 59, 18, 42, 26, 58, 92, 60, 70, 96, 96, 74, 7, 69, 22, 41, 82, 77, 12, 69, 11, 12, 79, 34, 72, 92, 52, 19, 4, 41, 83, 98, 17, 36, 61, 56, 52, 65, 88, 77, 76, 84, 37, 98, 88, 68, 41, 65, 36, 74, 74, 15, 4, 12, 99, 64, 21, 42, 79, 20, 19, 97, 22, 0, 17, 90, 86, 49, 6, 40, 52, 72, 78, 3, 96, 98, 98, 53, 7, 98, 55, 50, 28, 69, 71, 88, 22, 38, 78, 7, 66, 37, 35, 66, 6, 63, 69, 67, 37, 43, 76, 61, 42, 34, 38, 100, 12, 61, 57, 45, 87, 82, 86, 7, 81, 94, 69, 100, 28, 9, 67, 14, 16, 40, 40, 72, 6, 52, 43, 86, 59, 3, 65, 11, 37, 20, 48, 90, 2, 26, 61, 46, 49, 20, 46, 83, 48, 2, 9, 31, 84, 24, 96, 92, 51, 68, 12, 9, 7, 1, 89, 88, 59, 46, 86, 64, 79, 50, 5, 54, 16, 67, 75, 74, 73, 70, 44, 60, 91, 60, 85, 62, 72, 66, 43, 43, 39, 26, 69, 31, 92, 94, 3, 71, 11, 1, 79, 23, 37, 20, 66, 85, 60, 3, 99, 78, 15, 70, 2, 20, 76, 6, 97, 53, 64, 6, 76, 85, 60, 60, 71, 45, 80, 16, 75, 25, 22, 89, 50, 35, 73, 65, 87, 38, 82, 91, 62, 85]\n",
            "[52, 63, 22, 38, 25, 47, 47, 47, 87, 24, 3, 15, 47, 13, 66, 81, 19, 14, 13, 61, 82, 16, 57, 89, 85, 55, 69, 76, 46, 47, 34, 80, 0, 19, 24, 97, 86, 21, 65, 41, 2, 41, 45, 54, 98, 59, 65, 42, 46, 71, 30, 70, 73, 50, 6, 1, 25, 45, 23, 52, 82, 33, 6, 3, 44, 24, 94, 46, 18, 35, 12, 20, 55, 34, 65, 65, 77, 77, 98, 99, 92, 4, 22, 21, 58, 81, 12, 14, 79, 58, 30, 73, 57, 85, 13, 51, 66, 80, 42, 49, 93, 16, 78, 61, 94, 62, 36, 84, 26, 87, 14, 21, 99, 73, 59, 9, 2, 62, 7, 64, 70, 17, 26, 1, 90, 70, 35, 50, 45, 61, 64, 24, 29, 40, 1, 8, 14, 73, 76, 31, 5, 75, 71, 25, 37, 47, 31, 89, 58, 77, 73, 48, 18, 19, 55, 97, 41, 18, 11, 1, 49, 91, 73, 20, 53, 40, 39, 16, 5, 82, 72, 77, 17, 22, 78, 92, 31, 98, 17, 72, 100, 5, 49, 59, 45, 63, 91, 9, 65, 85, 18, 49, 65, 74, 93, 19, 56, 35, 1, 79, 16, 38, 22, 55, 19, 46, 88, 80, 66, 66, 71, 98, 99, 95, 50, 53, 36, 6, 87, 9, 39, 1, 31, 51, 27, 54, 0, 77, 10, 63, 96, 91, 59, 29, 56, 0, 7, 71, 59, 22, 39, 41, 84, 79, 74, 18, 20, 18, 67, 77, 22, 88, 57, 92, 95, 57, 7, 10, 40, 84, 93, 55, 16, 68, 73, 83, 38, 49, 47, 23, 56, 57, 0, 22, 13, 54, 3, 92, 2, 60, 42, 94, 80, 47, 7, 39, 100, 15, 80, 38, 29, 79, 36, 16, 22, 54, 65, 69, 14, 41, 38, 21, 7, 57, 56, 16, 15, 2, 48, 48, 5, 79, 52, 92, 13, 0, 24, 37, 93, 81, 40, 6, 99, 97, 72, 82, 76, 26, 99, 35, 45, 25, 78, 59, 45, 89, 33, 48, 92, 35, 74, 45, 14, 67, 47, 79, 15, 64, 54, 67, 49, 31, 2, 5, 53, 59, 30, 0, 27, 82, 34, 39, 35, 1, 76, 78, 43, 15, 48, 46, 66, 0, 58, 60, 38, 87, 17, 12, 46, 48, 85, 40, 65, 44, 14, 35, 71, 6, 37, 49, 60, 36, 1, 2, 89, 84, 74, 75, 20, 39, 62, 4, 26, 14, 54, 18, 59, 75, 60, 63, 17, 43, 48, 37, 10, 61, 33, 47, 2, 52, 85, 92, 90, 46, 39, 24, 18, 71, 65, 25, 54, 24, 5, 46, 85, 55, 63, 16, 6, 98, 22, 88, 66, 78, 22, 71, 94, 96, 25, 18, 68, 91, 77, 13, 12, 92, 77, 50, 82, 78, 48, 67, 53, 74, 0, 21, 79, 87, 97, 78, 98, 46, 95, 12, 58, 27, 99, 66, 15, 9, 50, 58, 77, 98, 14, 64, 40, 95, 93, 3, 43, 3, 64, 57, 83, 76, 12, 82, 37, 63, 92, 25, 3, 21, 47, 5, 26, 60, 33, 45, 41, 46, 66, 10, 94, 23, 18, 69, 71, 83, 7, 34, 90, 50, 74, 26, 84, 7, 48, 82, 64, 88, 48, 72, 4, 21, 40, 47, 32, 54, 58, 64, 32, 64, 48, 78, 99, 27, 25, 51, 15, 79, 5, 99, 81, 61, 67, 32, 88, 75, 11, 83, 55, 40, 65, 66, 22, 33, 75, 83, 35, 79, 45, 41, 85, 69, 57, 90, 100, 94, 87, 64, 14, 98, 6, 45, 63, 99, 51, 5, 59, 46, 44, 36, 29, 69, 24, 65, 97, 19, 67, 74, 48, 90, 83, 31, 19, 10, 98, 72, 34, 96, 1, 35, 11, 87, 91, 88, 9, 31, 28, 33, 75, 48, 69, 30, 79, 4, 2, 6, 14, 41, 69, 40, 0, 22, 42, 30, 66, 13, 87, 38, 77, 77, 27, 36, 56, 84, 24, 6, 42, 96, 15, 95, 93, 45, 45, 72, 0, 12, 100, 3, 71, 95, 2, 84, 79, 63, 86, 63, 26, 99, 57, 94, 96, 39, 80, 2, 21, 15, 65, 31, 94, 59, 44, 14, 34, 38, 49, 95, 83, 32, 58, 21, 35, 43, 63, 47, 77, 19, 78, 30, 15, 82, 46, 95, 10, 95, 95, 15, 87, 94, 59, 83, 10, 70, 51, 98, 53, 60, 73, 6, 94, 55, 32, 19, 9, 56, 37, 90, 24, 43, 81, 8, 83, 82, 24, 26, 25, 35, 44, 54, 26, 49, 35, 46, 28, 19, 26, 97, 79, 90, 25, 71, 22, 99, 38, 13, 78, 29, 28, 61, 66, 31, 92, 23, 0, 4, 34, 23, 35, 14, 71, 6, 30, 60, 81, 80, 80, 29, 87, 96, 7, 72, 40, 65, 3, 74, 98, 28, 16, 59, 0, 59, 81, 25, 55, 7, 40, 32, 25, 31, 89, 1, 57, 84, 64, 42, 65, 28, 68, 6, 23, 93, 90, 79, 54, 59, 64, 29, 73, 43, 0, 15, 81, 42, 95, 66, 47, 95, 56, 24, 37, 41, 66, 86, 59, 7, 24, 0, 6, 34, 85, 26, 11, 33, 42, 96, 4, 17, 72, 76, 48, 6, 27, 57, 95, 93, 28, 91, 92, 5, 61, 60, 16, 20, 26, 36, 69, 38, 82, 94, 87, 94, 79, 25, 63, 26, 2, 22, 84, 55, 47, 71, 76, 72, 51, 19, 14, 56, 31, 32, 33, 75, 3, 59, 4, 45, 97, 100, 31, 41, 87, 34, 45, 11, 5, 51, 85, 64, 53, 34, 33, 18, 63, 84, 1, 63, 66, 64, 57, 55, 94, 93, 64, 37, 59, 29, 30, 25, 52, 45, 45, 13, 36, 94, 70, 61, 77, 31, 92, 45, 10, 55, 73, 4, 78, 11, 52, 65, 61, 6, 74, 73, 65, 94, 47, 58, 10, 99, 39, 79, 75, 67, 54, 25, 17, 35, 33, 49, 75, 54, 62, 1, 63, 90, 27, 74, 74, 97, 86, 89, 84, 18, 4, 24, 70, 46, 43, 41, 46, 38, 86, 9, 5, 23, 44, 55, 92, 35, 95, 33, 79, 6, 4, 80, 61, 52, 29, 57, 87, 32, 39, 39, 1, 13, 96, 6, 85, 93, 17, 18, 76, 28, 31, 76, 87, 67, 0, 66, 37, 33, 52, 32, 70, 71, 18, 26, 97, 25, 52, 0, 10, 66, 67, 100, 71, 59, 76, 100, 99, 56, 64, 8, 40, 18, 65, 51, 36, 71, 57, 42, 57, 99, 10, 72, 33, 17, 79, 28, 10, 46, 36, 55, 61, 21, 57, 81, 95, 59, 44, 30, 55, 43, 73, 29, 68, 16, 59, 4, 3, 100, 40, 71, 40, 7, 25, 23, 43, 26, 21, 81, 68, 85, 14, 21, 5, 64, 47, 77, 53, 23, 25, 75, 100, 37, 4, 96, 12, 57, 61, 63, 62, 35, 54, 77, 67, 86, 66, 66, 62, 73, 10, 97, 4, 2, 2, 69, 38, 58, 61, 63, 90, 11, 93, 30, 100, 49, 94, 4, 25, 24, 100, 90, 88, 96, 38, 4, 84, 44, 28, 37, 11, 99, 72, 73, 100, 100, 67, 64, 57, 24, 42, 74, 15, 47, 45, 29, 30, 47, 72, 5, 32, 19, 35, 26, 55, 74, 16, 80, 99, 9, 19, 73, 32, 4, 76, 76, 87, 9, 98, 73, 63, 62, 95, 73, 42, 16, 34, 87, 37, 85, 80, 80, 50, 1, 99, 17, 87, 23, 49, 60, 40, 78, 11, 74, 93, 91, 36, 35, 98, 67, 6, 1, 39, 32, 49, 24, 30, 68, 55, 95, 17, 46, 89, 36, 49, 60, 23, 49, 77, 54, 67, 5, 79, 47, 78, 19, 79, 75, 33, 59, 65, 62, 51, 3, 14, 2, 68, 9, 5, 41, 36, 13, 56, 73, 69, 64, 68, 9, 38, 22, 94, 37, 71, 62, 42, 26, 46, 72, 38, 38, 48, 88, 64, 87, 60, 33, 89, 66, 54, 7, 35, 36, 20, 13, 47, 16, 12, 4, 70, 47, 34, 85, 50, 61, 69, 60, 92, 52, 38, 93, 57, 69, 28, 47, 90, 29, 9, 28, 7, 95, 11, 18, 52, 91, 36, 51, 72, 18, 73, 42, 20, 5, 57, 27, 35, 85, 82, 27, 64, 30, 80, 94, 40, 42, 4, 87, 53, 91, 31, 16, 80, 79, 51, 99, 63, 74, 35, 40, 31, 21, 86, 32, 62, 20, 69, 22, 8, 49, 53, 61, 15, 59, 19, 81, 81, 86, 50, 57, 29, 44, 14, 3, 48, 78, 3, 95, 70, 21, 6, 92, 46, 41, 43, 64, 70, 41, 15, 13, 25, 9, 52, 38, 83, 36, 28, 75, 46, 71, 1, 89, 49, 94, 43, 23, 11, 10, 18, 17, 5, 6, 90, 16, 31, 24, 23, 43, 21, 55, 76, 39, 59, 96, 5, 65, 11, 45, 20, 64, 28, 18, 94, 28, 70, 35, 76, 32, 95, 81, 16, 71, 72, 14, 22, 75, 49, 54, 27, 64, 65, 2, 55, 60, 43, 18, 100, 4, 69, 20, 32, 10, 41, 34, 36, 3, 82, 42, 89, 8, 66, 25, 33, 41, 29, 79, 5, 86, 97, 35, 99, 16, 37, 27, 41, 71, 63, 73, 40, 6, 70, 25, 0, 20, 30, 82, 11, 7, 92, 19, 45, 37, 36, 96, 5, 86, 48, 15, 0, 21, 1, 37, 1, 53, 44, 93, 40, 100, 85, 63, 3, 36, 37, 80, 36, 43, 9, 33, 8, 36, 69, 76, 81, 85, 12, 58, 62, 62, 26, 38, 2, 21, 82, 14, 27, 54, 37, 51, 62, 20, 77, 85, 32, 28, 44, 31, 40, 100, 61, 40, 66, 49, 18, 66, 4, 44, 86, 72, 37, 62, 22, 41, 31, 43, 53, 87, 58, 22, 100, 59, 59, 54, 2, 13, 65, 83, 12, 84, 48, 55, 99, 96, 41, 54, 48, 2, 64, 70, 27, 49, 93, 65, 45, 82, 90, 13, 93, 82, 11, 57, 65, 18, 6, 23, 69, 63, 26, 74, 51, 52, 100, 72, 88, 1, 22, 55, 42, 47, 39, 93, 6, 6, 17, 36, 22, 59, 25, 45, 84, 13, 35, 100, 51, 17, 75, 81, 44, 20, 40, 12, 100, 8, 21, 91, 54, 89, 71, 61, 55, 77, 42, 68, 55, 85, 55, 41, 93, 99, 95, 38, 43, 58, 29, 86, 72, 79, 91, 43, 32, 72, 89, 43, 42, 47, 17, 15, 61, 76, 25, 9, 92, 9, 27, 79, 63, 82, 23, 5, 3, 42, 26, 57, 64, 55, 27, 31, 49, 56, 59, 76, 24, 86, 69, 20, 95, 57, 16, 4, 45, 54, 51, 82, 97, 21, 7, 73, 82, 69, 43, 6, 76, 27, 100, 44, 24, 42, 6, 49, 77, 1, 93, 73, 40, 75, 8, 29, 71, 41, 55, 10, 45, 30, 38, 88, 10, 25, 92, 27, 31, 14, 27, 14, 89, 39, 63, 79, 20, 13, 42, 95, 41, 90, 67, 45, 4, 40, 32, 40, 82, 60, 34, 21, 77, 67, 92, 10, 26, 76, 81, 11, 17, 75, 22, 81, 38, 47, 96, 86, 6, 76, 98, 56, 100, 57, 2, 16, 29, 2, 80, 52, 10, 22, 47, 77, 81, 80, 6, 26, 48, 9, 74, 49, 30, 81, 18, 75, 61, 67, 7, 79, 16, 71, 46, 12, 75, 85, 30, 37, 67, 22, 7, 93, 62, 29, 87, 96, 56, 49, 100, 98, 68, 73, 36, 4, 54, 48, 81, 89, 48, 17, 27, 51, 88, 86, 62, 74, 5, 71, 100, 73, 51, 97, 1, 28, 96, 55, 64, 89, 53, 78, 11, 71, 95, 91, 39, 44, 73, 27, 57, 76, 3, 50, 20, 84, 27, 71, 27, 17, 65, 33, 27, 88, 23, 7, 58, 35, 59, 53, 31, 86, 21, 66, 72, 69, 76, 72, 7, 9, 98, 76, 38, 99, 33, 42, 68, 78, 44, 2, 13, 88, 42, 75, 18, 42, 56, 37, 94, 33, 81, 72, 95, 7, 91, 87, 5, 97, 96, 62, 55, 57, 59, 71, 26, 15, 76, 19, 100, 48, 37, 12, 64, 55, 94, 57, 76, 14, 8, 61, 18, 4, 15, 40, 100, 37, 76, 91, 57, 53, 10, 86, 18, 81, 91, 69, 17, 11, 100, 38, 63, 100, 95, 69, 88, 66, 94, 1, 24, 49, 13, 31, 16, 21, 91, 82, 20, 77, 71, 7, 33, 100, 22, 93, 74, 55, 96, 27, 54, 82, 35, 42, 7, 28, 33, 74, 63, 30, 7, 70, 81, 24, 31, 14, 11, 52, 96, 56, 36, 28, 12, 0, 72, 20, 37, 82, 43, 17, 88, 24, 13, 5, 33, 28, 99, 35, 28, 61, 86, 70, 56, 47, 49, 94, 93, 76, 73, 9, 79, 42, 25, 81, 28, 14, 97, 82, 28, 83, 3, 49, 11, 89, 38, 71, 88, 81, 42, 69, 93, 18, 66, 24, 91, 42, 92, 87, 75, 40, 48, 83, 33, 43, 99, 44, 96, 58, 70, 6, 2, 80, 57, 90, 61, 18, 75, 42, 60, 8, 76, 40, 88, 85, 20, 51, 32, 76, 14, 64, 66, 2, 89, 88, 14, 89, 84, 80, 87, 45, 65, 27, 12, 92, 62, 30, 50, 23, 91, 30, 13, 15, 77, 91, 41, 38, 60, 27, 82, 29, 32, 8, 33, 54, 57, 95, 49, 84, 98, 50, 1, 0, 91, 72, 0, 40, 21, 47, 5, 69, 12, 36, 46, 54, 15, 76, 98, 20, 73, 53, 37, 91, 70, 91, 85, 8, 58, 74, 59, 18, 57, 79, 86, 30, 74, 31, 19, 3, 12, 81, 71, 18, 13, 88, 29, 50, 35, 99, 45, 98, 32, 47, 32, 2, 40, 26, 13, 68, 81, 21, 68, 70, 83, 15, 69, 12, 25, 5, 97, 23, 62, 17, 0, 27, 73, 68, 43, 47, 65, 66, 69, 41, 61, 37, 100, 47, 61, 19, 81, 46, 81, 9, 38, 81, 48, 66, 83, 38, 52, 52, 18, 71, 20, 18, 21, 12, 28, 86, 57, 58, 60, 54, 55, 20, 0, 17, 0, 41, 65, 39, 17, 45, 8, 19, 98, 28, 62, 75, 86, 53, 5, 75, 74, 70, 29, 24, 20, 80, 10, 81, 99, 7, 65, 55, 56, 14, 77, 69, 5, 58, 87, 98, 21, 26, 8, 37, 71, 18, 26, 91, 84, 97, 54, 69, 53, 76, 31, 51, 76, 53, 39, 72, 99, 90, 13, 15, 53, 60, 37, 26, 74, 79, 97, 17, 49, 34, 54, 28, 6, 9, 71, 63, 34, 99, 87, 26, 61, 59, 9, 89, 64, 66, 97, 60, 19, 33, 41, 59, 73, 72, 56, 91, 80, 17, 87, 71, 11, 44, 78, 74, 27, 65, 96, 85, 97, 87, 35, 62, 44, 64, 15, 66, 3, 89, 19, 0, 74, 43, 87, 58, 62, 86, 26, 42, 57, 84, 69, 9, 10, 56, 96, 90, 78, 20, 76, 49, 4, 11, 78, 95, 33, 35, 50, 57, 8, 28, 38, 39, 41, 62, 84, 64, 44, 15, 14, 11, 94, 93, 31, 57, 52, 22, 47, 83, 58, 55, 72, 34, 21, 98, 74, 43, 72, 97, 30, 100, 32, 22, 44, 64, 67, 41, 40, 35, 18, 15, 33, 19, 98, 67, 36, 15, 19, 95, 68, 10, 54, 14, 44, 18, 14, 1, 30, 43, 74, 20, 91, 53, 57, 70, 4, 28, 13, 43, 75, 52, 25, 99, 82, 83, 72, 92, 20, 58, 13, 52, 57, 36, 38, 46, 88, 23, 73, 5, 91, 3, 61, 20, 6, 11, 33, 64, 96, 0, 79, 75, 56, 17, 41, 64, 87, 97, 69, 43, 21, 14, 60, 67, 29, 14, 25, 38, 7, 78, 18, 64, 36, 1, 24, 87, 12, 55, 29, 79, 37, 41, 57, 68, 78, 83, 90, 23, 3, 29, 50, 29, 100, 37, 15, 71, 6, 35, 29, 45, 21, 67, 27, 28, 52, 61, 28, 13, 0, 22, 21, 93, 28, 35, 12, 77, 6, 69, 80, 12, 74, 48, 71, 100, 38, 28, 63, 53, 51, 16, 60, 34, 72, 4, 73, 57, 60, 12, 26, 69, 60, 87, 54, 18, 6, 70, 0, 4, 49, 17, 42, 98, 46, 42, 9, 13, 58, 44, 47, 11, 47, 65, 54, 31, 26, 79, 77, 7, 78, 13, 53, 92, 86, 33, 24, 49, 46, 36, 76, 13, 88, 25, 0, 50, 97, 57, 37, 65, 96, 81, 6, 64, 6, 31, 44, 44, 42, 7, 76, 89, 25, 94, 5, 83, 50, 65, 70, 50, 32, 0, 82, 80, 49, 28, 94, 17, 83, 72, 2, 71, 82, 0, 87, 94, 40, 45, 30, 95, 100, 14, 94, 45, 91, 36, 18, 25, 11, 90, 87, 72, 6, 87, 99, 69, 25, 65, 71, 91, 34, 54, 38, 25, 41, 55, 9, 16, 35, 44, 21, 73, 89, 91, 91, 89, 4, 83, 9, 16, 13, 73, 92, 36, 72, 30, 68, 34, 91, 31, 74, 48, 15, 8, 93, 8, 52, 68, 62, 75, 61, 21, 50, 41, 16, 22, 33, 22, 56, 48, 98, 45, 45, 63, 6, 81, 61, 39, 84, 95, 13, 35, 53, 80, 79, 20, 0, 16, 65, 58, 44, 86, 39, 57, 59, 49, 77, 30, 87, 48, 51, 36, 37, 84, 39, 77, 17, 75, 32, 12, 63, 28, 81, 27, 1, 84, 38, 89, 33, 61, 46, 2, 82, 99, 95, 37, 53, 20, 0, 43, 18, 23, 50, 12, 64, 14, 9, 44, 100, 6, 41, 39, 73, 68, 67, 52, 76, 50, 21, 63, 77, 100, 98, 19, 84, 1, 100, 10, 88, 58, 81, 19, 81, 38, 16, 54, 34, 79, 7, 14, 45, 89, 88, 40, 33, 13, 65, 93, 58, 68, 38, 5, 88, 62, 82, 45, 86, 100, 91, 19, 44, 43, 46, 95, 93, 34, 60, 89, 65, 25, 94, 65, 21, 42, 20, 42, 85, 52, 84, 50, 56, 91, 82, 6, 92, 88, 40, 99, 59, 27, 8, 36, 51, 84, 3, 56, 90, 60, 17, 70, 48, 47, 78, 95, 91, 88, 99, 2, 3, 45, 94, 85, 62, 45, 32, 47, 61, 83, 47, 41, 72, 89, 30, 29, 64, 36, 0, 70, 96, 70, 70, 17, 10, 21, 74, 42, 82, 3, 48, 23, 81, 78, 18, 42, 38, 25, 39, 67, 64, 45, 7, 79, 65, 88, 13, 15, 100, 40, 14, 96, 97, 17, 50, 92, 10, 35, 53, 87, 77, 98, 16, 82, 52, 63, 62, 65, 75, 51, 97, 22, 95, 73, 66, 17, 94, 36, 100, 100, 30, 17, 88, 19, 57, 57, 88, 20, 1, 8, 72, 66, 87, 5, 27, 13, 73, 12, 43, 45, 31, 16, 20, 96, 15, 32, 59, 73, 61, 7, 51, 81, 47, 50, 23, 66, 76, 21, 33, 74, 97, 8, 92, 72, 87, 94, 95, 27, 62, 4, 9, 92, 0, 88, 61, 84, 71, 32, 98, 4, 20, 88, 18, 44, 26, 28, 86, 64, 99, 96, 28, 86, 44, 35, 36, 38, 15, 76, 83, 14, 22, 39, 58, 54, 39, 80, 79, 63, 46, 93, 77, 61, 65, 89, 21, 86, 82, 8, 19, 93, 1, 50, 95, 66, 55, 5, 12, 60, 85, 21, 78, 63, 72, 21, 14, 40, 86, 72, 92, 12, 34, 44, 43, 72, 61, 41, 65, 94, 62, 40, 2, 93, 57, 25, 77, 22, 87, 19, 29, 47, 67, 4, 58, 36, 41, 87, 46, 46, 38, 91, 92, 91, 34, 51, 82, 64, 8, 97, 63, 94, 8, 5, 6, 86, 60, 5, 11, 8, 58, 91, 71, 100, 41, 93, 16, 19, 16, 40, 34, 28, 16, 71, 24, 93, 40, 90, 67, 92, 95, 44, 100, 77, 28, 22, 27, 46, 53, 55, 95, 94, 77, 99, 12, 31, 82, 73, 22, 80, 53, 7, 3, 5, 81, 63, 83, 73, 69, 41, 8, 53, 44, 51, 92, 39, 49, 43, 8, 69, 83, 33, 50, 32, 99, 3, 59, 78, 82, 51, 43, 1, 71, 18, 19, 25, 90, 15, 74, 32, 40, 80, 6, 30, 69, 7, 10, 39, 13, 90, 3, 87, 14, 62, 10, 47, 9, 32, 81, 39, 22, 27, 44, 92, 2, 12, 23, 28, 44, 5, 59, 4, 58, 12, 16, 59, 20, 49, 75, 62, 67, 52, 38, 14, 28, 48, 94, 89, 71, 55, 71, 92, 20, 38, 65, 10, 27, 82, 29, 76, 42, 55, 65, 88, 74, 32, 16, 78, 13, 20, 72, 97, 29, 18, 60, 23, 42, 44, 2, 76, 32, 0, 9, 53, 11, 49, 16, 59, 9, 30, 86, 9, 85, 38, 48, 73, 56, 66, 23, 31, 76, 81, 3, 69, 12, 56, 67, 13, 62, 48, 25, 32, 91, 77, 8, 43, 0, 84, 54, 79, 99, 26, 26, 4, 80, 100, 4, 47, 30, 79, 9, 35, 92, 89, 61, 38, 56, 37, 52, 96, 85, 53, 41, 17, 88, 12, 14, 56, 74, 84, 96, 47, 95, 98, 89, 7, 2, 44, 72, 30, 89, 77, 59, 47, 3, 16, 6, 94, 30, 18, 91, 11, 22, 39, 54, 40, 27, 21, 45, 57, 44, 37, 90, 18, 45, 8, 84, 82, 49, 100, 17, 30, 43, 93, 92, 16, 81, 94, 25, 23, 28, 0, 55, 95, 17, 66, 43, 36, 32, 16, 44, 34, 49, 50, 46, 29, 85, 87, 21, 1, 86, 43, 0, 32, 57, 77, 35, 11, 81, 64, 20, 92, 18, 60, 12, 63, 21, 39, 12, 57, 30, 13, 18, 25, 82, 8, 96, 36, 38, 73, 18, 72, 84, 81, 35, 96, 40, 71, 0, 30, 57, 32, 13, 42, 53, 85, 20, 46, 51, 4, 48, 37, 40, 83, 86, 28, 30, 100, 79, 94, 60, 61, 89, 39, 12, 63, 85, 42, 87, 50, 26, 93, 66, 98, 24, 26, 66, 29, 4, 12, 64, 26, 53, 8, 74, 57, 67, 32, 9, 8, 83, 1, 47, 58, 37, 62, 57, 99, 42, 47, 62, 26, 84, 40, 81, 7, 40, 36, 33, 28, 70, 80, 100, 27, 80, 98, 85, 21, 82, 81, 45, 90, 57, 41, 6, 40, 21, 71, 26, 64, 17, 63, 46, 81, 5, 9, 36, 88, 75, 45, 74, 61, 100, 69, 82, 1, 77, 57, 74, 10, 49, 97, 42, 13, 19, 34, 76, 91, 96, 93, 88, 44, 55, 1, 76, 8, 22, 65, 96, 26, 49, 19, 73, 71, 22, 11, 9, 97, 4, 33, 6, 24, 84, 25, 14, 74, 62, 93, 70, 85, 87, 74, 55, 76, 13, 100, 57, 48, 81, 19, 67, 54, 67, 27, 73, 24, 85, 21, 22, 65, 14, 44, 85, 2, 31, 63, 0, 50, 78, 14, 42, 20, 58, 80, 79, 90, 30, 99, 39, 62, 63, 72, 61, 36, 45, 17, 88, 65, 51, 86, 77, 9, 9, 7, 37, 83, 39, 67, 6, 67, 85, 14, 48, 17, 43, 90, 52, 42, 30, 80, 32, 36, 33, 12, 74, 40, 7, 72, 5, 32, 47, 47, 9, 76, 27, 86, 61, 42, 59, 31, 53, 15, 1, 95, 3, 2, 50, 53, 0, 43, 67, 52, 18, 3, 66, 82, 36, 25, 88, 63, 50, 37, 46, 34, 93, 46, 87, 13, 2, 3, 94, 55, 69, 38, 89, 41, 72, 24, 57, 39, 25, 70, 74, 97, 82, 91, 99, 46, 92, 1, 45, 63, 11, 70, 34, 71, 53, 40, 15, 97, 31, 96, 50, 2, 95, 16, 0, 94, 92, 48, 53, 65, 67, 62, 55, 42, 31, 85, 19, 54, 15, 8, 10, 27, 93, 84, 51, 73, 95, 75, 22, 21, 21, 1, 46, 20, 90, 47, 36, 60, 91, 76, 30, 6, 89, 64, 49, 52, 62, 73, 84, 15, 37, 70, 49, 73, 31, 40, 35, 41, 42, 48, 57, 5, 59, 22, 21, 34, 65, 60, 49, 65, 34, 84, 36, 14, 44, 67, 40, 20, 31, 29, 52, 36, 61, 81, 41, 12, 59, 78, 46, 40, 15, 60, 48, 22, 26, 71, 19, 100, 51, 9, 63, 95, 35, 48, 84, 69, 90, 70, 79, 98, 70, 99, 19, 49, 75, 81, 88, 57, 61, 11, 80, 46, 72, 44, 76, 54, 10, 10, 49, 74, 14, 7, 72, 94, 61, 81, 92, 87, 67, 36, 17, 76, 92, 64, 1, 31, 76, 65, 79, 8, 23, 47, 65, 77, 38, 43, 56, 68, 40, 6, 69, 56, 25, 33, 20, 63, 34, 6, 67, 6, 71, 3, 64, 29, 80, 37, 19, 69, 74, 40, 17, 58, 37, 57, 22, 28, 31, 68, 31, 44, 48, 37, 92, 79, 38, 12, 19, 70, 94, 5, 22, 86, 65, 95, 87, 100, 68, 48, 84, 75, 60, 24, 100, 33, 24, 97, 44, 30, 32, 79, 37, 28, 19, 13, 38, 31, 15, 52, 1, 30, 85, 84, 79, 68, 28, 75, 25, 85, 94, 64, 91, 45, 34, 99, 85, 54, 34, 86, 84, 86, 47, 20, 37, 53, 86, 66, 73, 49, 70, 16, 14, 57, 63, 86, 61, 58, 9, 35, 62, 92, 11, 41, 64, 20, 28, 76, 78, 48, 0, 5, 92, 73, 33, 93, 9, 29, 77, 62, 95, 3, 0, 71, 25, 72, 96, 54, 26, 45, 24, 62, 63, 99, 40, 58, 92, 81, 13, 93, 8, 62, 69, 47, 21, 100, 13, 83, 61, 45, 22, 75, 83, 51, 18, 99, 11, 0, 59, 93, 22, 27, 86, 57, 36, 87, 81, 59, 96, 32, 77, 21, 47, 8, 37, 2, 7, 75, 25, 60, 8, 40, 46, 71, 14, 63, 17, 20, 79, 8, 76, 58, 86, 16, 28, 67, 79, 18, 38, 3, 25, 54, 12, 100, 76, 44, 92, 95, 38, 26, 34, 68, 2, 14, 98, 75, 90, 57, 96, 94, 6, 76, 78, 37, 86, 36, 44, 73, 79, 98, 18, 57, 40, 72, 49, 23, 1, 12, 31, 39, 77, 82, 79, 19, 88, 88, 93, 91, 82, 1, 9, 92, 38, 72, 4, 80, 43, 73, 27, 85, 24, 8, 9, 9, 73, 23, 53, 32, 91, 69, 42, 91, 63, 78, 55, 57, 48, 57, 65, 8, 75, 78, 23, 12, 16, 88, 48, 47, 25, 10, 87, 29, 6, 30, 66, 41, 4, 3, 23, 56, 88, 5, 79, 58, 66, 3, 0, 57, 13, 62, 48, 5, 33, 70, 9, 50, 29, 74, 2, 59, 74, 25, 41, 71, 2, 3, 19, 21, 34, 71, 80, 65, 11, 26, 94, 69, 1, 55, 53, 26, 60, 71, 73, 89, 51, 38, 51, 22, 38, 14, 54, 67, 59, 69, 84, 71, 71, 44, 80, 75, 40, 25, 39, 54, 51, 8, 72, 69, 70, 60, 46, 31, 66, 84, 64, 38, 27, 79, 12, 92, 66, 98, 10, 32, 9, 15, 95, 58, 3, 61, 85, 35, 66, 67, 97, 42, 59, 47, 63, 42, 9, 20, 88, 1, 57, 23, 34, 72, 0, 52, 8, 81, 15, 22, 70, 72, 38, 71, 2, 41, 25, 23, 53, 70, 69, 61, 41, 79, 65, 70, 51, 17, 62, 92, 67, 41, 13, 93, 33, 62, 22, 44, 38, 25, 10, 13, 69, 65, 51, 91, 5, 78, 66, 24, 51, 4, 74, 15, 62, 75, 95, 41, 16, 5, 57, 3, 2, 98, 40, 8, 78, 8, 44, 79, 40, 34, 83, 87, 37, 90, 10, 17, 67, 62, 78, 20, 66, 21, 8, 75, 94, 35, 32, 66, 42, 14, 50, 54, 92, 72, 58, 32, 43, 14, 22, 58, 53, 42, 68, 72, 97, 76, 32, 34, 83, 66, 32, 77, 14, 73, 85, 35, 54, 71, 64, 44, 17, 51, 68, 40, 31, 66, 75, 70, 12, 96, 98, 44, 19, 28, 11, 66, 8, 54, 47, 21, 9, 59, 84, 60, 57, 47, 66, 91, 10, 9, 73, 18, 49, 61, 79, 57, 59, 87, 72, 14, 87, 87, 77, 7, 58, 81, 96, 88, 14, 23, 71, 26, 16, 35, 87, 76, 93, 58, 28, 21, 66, 19, 46, 93, 59, 3, 100, 96, 61, 11, 50, 67, 18, 39, 25, 80, 77, 13, 90, 10, 41, 27, 32, 43, 15, 2, 89, 65, 47, 43, 53, 81, 61, 21, 9, 2, 39, 75, 62, 7, 83, 41, 30, 17, 100, 79, 65, 34, 3, 36, 22, 96, 94, 3, 82, 78, 93, 27, 55, 95, 36, 83, 84, 12, 20, 68, 84, 21, 17, 65, 8, 49, 33, 31, 61, 4, 8, 21, 38, 48, 31, 81, 85, 22, 69, 60, 69, 71, 36, 17, 3, 98, 67, 56, 23, 30, 70, 35, 75, 8, 54, 82, 37, 29, 16, 39, 58, 94, 78, 59, 84, 67, 26, 3, 98, 1, 57, 92, 38, 45, 71, 1, 58, 46, 22, 7, 62, 15, 27, 52, 87, 26, 71, 31, 35, 51, 25, 95, 81, 11, 45, 77, 74, 37, 72, 12, 79, 79, 99, 28, 40, 96, 86, 96, 66, 65, 56, 14, 42, 65, 45, 77, 49, 51, 69, 91, 36, 74, 6, 78, 90, 52, 37, 3, 42, 95, 25, 98, 22, 9, 71, 3, 9, 66, 33, 62, 82, 86, 99, 38, 64, 27, 17, 54, 52, 86, 96, 89, 74, 17, 7, 14, 99, 13, 95, 9, 86, 93, 45, 15, 92, 96, 95, 93, 32, 91, 46, 18, 45, 53, 55, 0, 60, 12, 41, 27, 63, 17, 53, 98, 91, 0, 53, 49, 50, 95, 21, 98, 83, 95, 33, 73, 100, 11, 14, 27, 62, 14, 51, 72, 20, 95, 33, 98, 58, 33, 82, 34, 0, 24, 8, 89, 15, 12, 88, 69, 21, 4, 57, 18, 87, 66, 66, 95, 68, 34, 45, 35, 8, 42, 78, 12, 21, 24, 93, 95, 0, 81, 46, 47, 7, 9, 37, 56, 89, 60, 80, 96, 7, 53, 76, 61, 24, 36, 15, 3, 16, 100, 1, 38, 22, 79, 47, 87, 70, 79, 16, 61, 60, 46, 32, 17, 42, 94, 37, 43, 43, 2, 77, 36, 94, 41, 41, 20, 23, 34, 18, 46, 90, 35, 21, 34, 78, 32, 50, 75, 85, 85, 63, 28, 34, 38, 94, 32, 53, 52, 70, 36, 1, 26, 30, 58, 37, 1, 59, 62, 12, 31, 58, 10, 25, 81, 39, 95, 87, 31, 28, 70, 98, 75, 54, 70, 49, 67, 25, 32, 50, 11, 43, 16, 19, 64, 88, 88, 90, 58, 50, 85, 87, 64, 38, 34, 6, 57, 33, 74, 43, 77, 32, 76, 70, 9, 31, 66, 43, 90, 90, 91, 82, 75, 91, 34, 56, 25, 24, 19, 49, 45, 54, 49, 49, 12, 30, 19, 25, 71, 85, 40, 52, 49, 17, 10, 74, 70, 71, 36, 21, 31, 40, 40, 72, 7, 4, 74, 73, 23, 11, 60, 19, 24, 64, 57, 93, 21, 23, 48, 91, 11, 57, 66, 16, 55, 38, 79, 29, 14, 52, 78, 42, 87, 18, 28, 14, 13, 1, 42, 53, 67, 100, 2, 80, 63, 91, 75, 30, 88, 27, 0, 55, 34, 52, 20, 90, 46, 88, 64, 41, 100, 71, 52, 59, 13, 76, 37, 33, 56, 59, 24, 64, 54, 34, 96, 79, 43, 12, 63, 12, 98, 100, 28, 81, 17, 88, 64, 54, 9, 70, 79, 11, 5, 83, 90, 37, 92, 82, 30, 16, 47, 88, 82, 55, 94, 18, 63, 63, 65, 88, 95, 81, 14, 28, 84, 81, 18, 8, 79, 55, 27, 99, 43, 90, 41, 39, 45, 1, 25, 95, 68, 80, 90, 38, 4, 51, 97, 95, 10, 10, 64, 93, 33, 69, 41, 48, 23, 14, 9, 22, 8, 23, 15, 58, 61, 41, 33, 12, 35, 74, 94, 86, 5, 77, 83, 22, 13, 74, 92, 49, 29, 99, 12, 39, 51, 63, 6, 28, 66, 86, 92, 49, 6, 69, 70, 67, 11, 70, 99, 48, 56, 19, 89, 91, 76, 35, 63, 70, 18, 0, 0, 52, 96, 17, 88, 11, 44, 85, 30, 88, 80, 55, 18, 70, 11, 27, 34, 21, 42, 24, 38, 95, 99, 19, 4, 62, 9, 52, 46, 98, 65, 23, 2, 34, 75, 13, 89, 5, 73, 83, 7, 27, 34, 8, 52, 69, 96, 97, 87, 56, 15, 53, 39, 98, 34, 79, 36, 6, 78, 51, 11, 71, 87, 32, 43, 83, 18, 91, 67, 83, 35, 15, 48, 47, 9, 45, 12, 73, 36, 40, 79, 33, 96, 86, 42, 1, 80, 35, 94, 98, 59, 75, 54, 90, 5, 55, 77, 34, 43, 91, 71, 77, 49, 29, 42, 49, 97, 16, 91, 74, 12, 47, 39, 19, 58, 6, 22, 56, 64, 55, 62, 13, 18, 33, 35, 84, 64, 69, 39, 84, 2, 83, 59, 67, 26, 26, 40, 64, 55, 53, 94, 34, 52, 89, 67, 87, 71, 54, 41, 39, 11, 35, 84, 80, 82, 21, 90, 47, 56, 72, 98, 91, 57, 60, 26, 20, 97, 62, 22, 12, 2, 94, 48, 12, 75, 0, 56, 64, 79, 26, 37, 4, 74, 81, 37, 64, 64, 46, 22, 84, 52, 91, 90, 60, 30, 63, 55, 64, 63, 34, 28, 70, 82, 7, 52, 66, 78, 10, 86, 76, 31, 0, 29, 6, 36, 34, 47, 19, 35, 14, 78, 13, 47, 59, 38, 43, 62, 29, 28, 63, 52, 15, 100, 10, 33, 91, 26, 3, 12, 20, 68, 73, 75, 16, 86, 94, 7, 49, 85, 7, 79, 44, 37, 21, 89, 77, 7, 76, 52, 76, 66, 89, 42, 99, 5, 36, 37, 46, 10, 65, 52, 89, 64, 79, 81, 65, 66, 91, 53, 89, 76, 44, 64, 56, 87, 13, 88, 51, 79, 17, 34, 75, 61, 44, 10, 61, 39, 42, 90, 25, 69, 29, 94, 83, 77, 94, 49, 51, 51, 19, 89, 24, 69, 46, 20, 92, 67, 69, 81, 23, 9, 26, 60, 24, 71, 78, 10, 98, 37, 90, 41, 21, 46, 57, 36, 70, 51, 5, 56, 86, 46, 62, 93, 100, 8, 24, 20, 45, 74, 65, 20, 31, 12, 81, 37, 60, 53, 67, 13, 82, 76, 14, 62, 36, 81, 18, 76, 60, 71, 99, 74, 3, 29, 31, 92, 79, 1, 19, 10, 94, 16, 8, 97, 65, 7, 44, 32, 100, 67, 88, 18, 94, 67, 81, 13, 66, 25, 68, 95, 40, 55, 28, 29, 63, 61, 32, 56, 86, 44, 73, 85, 52, 30, 51, 35, 52, 8, 55, 76, 84, 66, 43, 71, 24, 70, 87, 8, 43, 15, 35, 87, 14, 78, 96, 24, 61, 24, 41, 98, 51, 21, 12, 44, 67, 73, 78, 0, 38, 88, 66, 30, 37, 41, 14, 37, 81, 84, 92, 84, 51, 94, 20, 4, 48, 37, 18, 30, 80, 27, 37, 53, 17, 75, 70, 73, 73, 12, 36, 72, 18, 55, 58, 70, 11, 52, 23, 77, 85, 55, 11, 96, 75, 44, 22, 35, 6, 98, 22, 70, 95, 91, 52, 67, 73, 20, 65, 37, 64, 31, 70, 62, 17, 52, 72, 86, 46, 22, 22, 84, 73, 49, 54, 52, 12, 30, 99, 50, 73, 35, 31, 20, 44, 9, 9, 12, 75, 28, 93, 67, 34, 31, 57, 28, 14, 3, 64, 2, 21, 37, 70, 99, 23, 14, 21, 3, 64, 11, 89, 1, 70, 91, 62, 7, 59, 54, 46, 89, 67, 63, 60, 26, 27, 31, 22, 1, 79, 62, 90, 72, 88, 88, 59, 72, 97, 66, 46, 62, 56, 13, 65, 60, 37, 65, 22, 89, 57, 7, 49, 15, 73, 72, 25, 7, 47, 41, 48, 88, 51, 32, 7, 9, 77, 42, 69, 44, 51, 78, 0, 29, 85, 43, 0, 100, 84, 63, 41, 63, 0, 94, 88, 2, 19, 25, 60, 83, 49, 42, 77, 95, 33, 74, 18, 55, 48, 77, 47, 90, 10, 5, 64, 92, 43, 98, 40, 16, 98, 68, 38, 87, 22, 15, 0, 36, 76, 36, 5, 17, 57, 73, 63, 73, 75, 42, 13, 52, 28, 22, 83, 35, 55, 10, 36, 3, 68, 87, 69, 65, 92, 51, 1, 53, 70, 18, 60, 88, 84, 33, 11, 68, 53, 88, 98, 57, 54, 11, 1, 22, 42, 57, 41, 3, 55, 100, 84, 36, 40, 48, 47, 21, 60, 76, 1, 27, 91, 44, 46, 23, 43, 38, 65, 10, 88, 6, 65, 28, 20, 25, 53, 32, 21, 94, 72, 12, 59, 88, 90, 16, 72, 11, 31, 73, 88, 23, 46, 92, 23, 100, 66, 63, 34, 91, 6, 38, 19, 40, 44, 35, 56, 2, 23, 89, 51, 52, 62, 33, 26, 58, 23, 38, 54, 15, 93, 54, 73, 100, 16, 32, 26, 28, 23, 64, 7, 23, 41, 93, 75, 82, 51, 24, 82, 51, 63, 42, 100, 37, 91, 14, 34, 64, 6, 64, 22, 74, 70, 43, 6, 90, 25, 18, 32, 86, 7, 66, 74, 42, 74, 7, 47, 70, 21, 87, 90, 35, 90, 25, 95, 56, 80, 18, 81, 65, 98, 90, 58, 73, 89, 85, 39, 43, 59, 65, 93, 85, 81, 78, 29, 36, 78, 96, 38, 23, 77, 19, 13, 30, 61, 10, 3, 67, 48, 27, 56, 36, 26, 65, 29, 95, 59, 74, 67, 76, 98, 28, 8, 55, 26, 22, 74, 15, 23, 35, 4, 80, 95, 62, 65, 28, 79, 31, 28, 61, 51, 49, 54, 9, 1, 85, 66, 64, 14, 79, 35, 80, 26, 50, 38, 77, 33, 34, 71, 82, 43, 13, 11, 76, 10, 25, 29, 72, 9, 100, 31, 83, 76, 90, 59, 55, 19, 96, 61, 50, 56, 63, 83, 29, 46, 97, 38, 51, 77, 74, 69, 86, 8, 52, 15, 65, 72, 92, 42, 53, 16, 39, 77, 42, 68, 61, 90, 65, 1, 92, 81, 0, 64, 84, 75, 37, 76, 53, 48, 76, 40, 0, 14, 2, 21, 25, 98, 57, 63, 82, 55, 37, 13, 47, 85, 29, 6, 58, 12, 65, 76, 10, 40, 50, 13, 54, 54, 5, 21, 11, 21, 18, 43, 4, 94, 98, 56, 8, 90, 44, 45, 4, 91, 98, 1, 0, 92, 94, 82, 48, 89, 21, 85, 44, 69, 54, 13, 88, 13, 93, 11, 56, 25, 20, 50, 4, 63, 23, 58, 87, 74, 8, 27, 21, 35, 21, 74, 89, 4, 8, 39, 40, 12, 81, 55, 57, 79, 9, 13, 16, 99, 72, 3, 69, 90, 51, 3, 20, 51, 77, 41, 32, 15, 9, 24, 86, 94, 5, 65, 51, 21, 22, 28, 34, 30, 82, 95, 74, 5, 48, 84, 75, 21, 20, 52, 82, 26, 84, 98, 69, 63, 32, 34, 60, 68, 4, 25, 17, 67, 17, 93, 44, 54, 99, 83, 3, 17, 85, 64, 78, 68, 8, 39, 27, 76, 94, 66, 24, 76, 97, 4, 54, 35, 71, 96, 1, 22, 62, 57, 100, 13, 65, 88, 12, 33, 62, 47, 42, 71, 50, 44, 41, 60, 64, 17, 48, 97, 86, 37, 57, 9, 39, 52, 77, 16, 43, 24, 68, 8, 30, 1, 45, 27, 20, 14, 62, 41, 84, 23, 53, 42, 93, 83, 8, 71, 91, 41, 12, 28, 22, 59, 91, 89, 19, 59, 72, 58, 50, 60, 25, 10, 99, 39, 73, 80, 0, 29, 60, 34, 57, 31, 12, 45, 70, 56, 37, 76, 53, 93, 12, 3, 58, 38, 60, 52, 53, 93, 42, 75, 65, 73, 93, 80, 45, 5, 50, 21, 74, 39, 25, 27, 31, 60, 95, 91, 41, 96, 66, 22, 99, 28, 73, 31, 31, 83, 100, 62, 41, 73, 93, 97, 85, 48, 66, 82, 92, 35, 8, 61, 93, 25, 75, 55, 15, 15, 22, 16, 81, 42, 17, 68, 20, 49, 88, 91, 40, 9, 79, 75, 46, 50, 75, 4, 64, 92, 51, 70, 3, 43, 45, 29, 97, 46, 13, 2, 63, 24, 25, 13, 38, 43, 57, 87, 57, 12, 85, 51, 91, 41, 77, 88, 70, 63, 28, 68, 87, 63, 89, 47, 78, 4, 97, 19, 49, 55, 98, 42, 85, 58, 5, 58, 100, 89, 12, 51, 83, 92, 22, 1, 91, 79, 51, 42, 27, 94, 96, 70, 71, 45, 95, 90, 99, 1, 88, 99, 86, 72, 60, 16, 2, 17, 14, 97, 90, 22, 67, 24, 68, 93, 7, 68, 98, 30, 17, 57, 12, 74, 2, 99, 16, 25, 62, 66, 25, 57, 23, 18, 42, 21, 71, 56, 82, 98, 85, 22, 67, 18, 13, 17, 77, 63, 8, 64, 94, 29, 91, 7, 43, 88, 38, 51, 3, 2, 79, 57, 95, 69, 74, 14, 77, 38, 60, 20, 70, 84, 4, 27, 88, 43, 65, 57, 3, 52, 41, 66, 32, 78, 67, 5, 53, 35, 95, 100, 12, 54, 8, 9, 49, 27, 68, 4, 18, 25, 63, 22, 77, 18, 33, 21, 66, 6, 67, 84, 96, 19, 44, 75, 46, 74, 23, 46, 3, 82, 57, 4, 23, 73, 62, 95, 4, 96, 61, 58, 25, 11, 40, 36, 78, 66, 3, 4, 50, 75, 4, 65, 36, 22, 55, 59, 76, 46, 100, 49, 51, 34, 100, 34, 8, 79, 92, 74, 88, 88, 76, 7, 23, 21, 66, 19, 93, 81, 35, 72, 33, 21, 20, 93, 95, 13, 41, 91, 41, 60, 52, 9, 58, 81, 68, 43, 69, 27, 64, 32, 69, 82, 40, 75, 45, 25, 20, 84, 19, 16, 90, 98, 74, 36, 93, 24, 34, 20, 88, 99, 4, 26, 9, 12, 26, 18, 83, 22, 45, 74, 49, 38, 65, 76, 89, 76, 8, 96, 13, 38, 58, 44, 12, 33, 98, 94, 14, 5, 91, 34, 8, 35, 48, 20, 92, 45, 20, 55, 97, 57, 66, 63, 19, 1, 48, 60, 52, 52, 60, 69, 16, 59, 7, 65, 66, 84, 77, 38, 33, 86, 60, 38, 13, 58, 36, 89, 22, 60, 8, 73, 89, 79, 94, 52, 71, 54, 54, 6, 72, 6, 10, 19, 94, 34, 80, 75, 40, 52, 80, 87, 8, 26, 86, 40, 62, 61, 3, 61, 67, 41, 95, 13, 44, 48, 47, 14, 68, 46, 86, 77, 32, 40, 76, 60, 4, 68, 16, 81, 30, 5, 95, 18, 59, 60, 88, 1, 21, 89, 61, 63, 52, 71, 79, 84, 63, 74, 88, 75, 33, 76, 85, 79, 59, 57, 28, 38, 92, 89, 48, 54, 28, 10, 53, 69, 24, 38, 96, 69, 51, 66, 12, 74, 78, 42, 88, 70, 100, 8, 43, 11, 38, 9, 51, 52, 17, 31, 57, 76, 94, 2, 60, 59, 67, 12, 19, 78, 90, 19, 16, 25, 94, 23, 93, 88, 81, 68, 77, 76, 90, 78, 33, 33, 50, 93, 78, 2, 69, 22, 77, 56, 26, 48, 12, 89, 79, 70, 65, 89, 20, 38, 30, 14, 63, 35, 19, 93, 74, 75, 1, 91, 27, 47, 52, 99, 48, 91, 22, 81, 100, 41, 67, 87, 51, 16, 33, 99, 68, 88, 65, 57, 33, 99, 14, 90, 75, 41, 75, 18, 73, 98, 79, 59, 12, 48, 19, 87, 44, 51, 58, 13, 81, 29, 99, 7, 41, 22, 83, 56, 93, 85, 81, 92, 89, 59, 45, 4, 3, 54, 89, 37, 40, 41, 58, 45, 91, 49, 54, 57, 68, 70, 63, 29, 60, 53, 55, 35, 76, 90, 84, 80, 7, 79, 27, 74, 74, 95, 22, 80, 96, 15, 18, 24, 53, 52, 81, 86, 13, 100, 100, 59, 85, 74, 29, 19, 53, 38, 33, 10, 7, 98, 13, 43, 55, 60, 54, 50, 40, 81, 74, 4, 12, 48, 20, 22, 43, 97, 77, 48, 99, 58, 49, 25, 62, 73, 32, 60, 66, 10, 57, 70, 17, 99, 42, 11, 87, 39, 63, 57, 14, 14, 81, 91, 57, 91, 71, 15, 32, 86, 36, 84, 7, 8, 62, 100, 7, 37, 93, 89, 43, 90, 22, 9, 50, 37, 53, 45, 71, 18, 93, 93, 56, 13, 57, 39, 26, 37, 58, 86, 23, 99, 63, 62, 58, 54, 32, 51, 92, 59, 85, 57, 94, 41, 68, 3, 8, 10, 35, 32, 73, 58, 88, 9, 72, 77, 77, 21, 80, 46, 29, 79, 97, 33, 3, 43, 41, 90, 2, 56, 94, 60, 69, 8, 1, 88, 58, 97, 72, 82, 4, 82, 49, 33, 0, 3, 10, 55, 61, 96, 3, 87, 1, 30, 89, 84, 75, 3, 32, 39, 93, 91, 82, 67, 37, 7, 6, 6, 43, 11, 81, 35, 92, 19, 17, 4, 40, 20, 58, 37, 93, 54, 43, 36, 19, 17, 45, 70, 7, 45, 42, 23, 68, 8, 36, 23, 63, 71, 50, 96, 53, 5, 19, 3, 91, 33, 36, 79, 94, 16, 20, 35, 43, 39, 62, 61, 17, 100, 48, 34, 5, 89, 17, 55, 10, 20, 94, 26, 53, 30, 23, 84, 35, 77, 34, 56, 75, 84, 60, 41, 10, 12, 40, 20, 42, 72, 41, 29, 25, 98, 67, 15, 53, 24, 52, 19, 32, 97, 71, 41, 71, 19, 28, 35, 74, 42, 20, 42, 60, 93, 38, 64, 69, 95, 31, 99, 6, 75, 16, 83, 72, 55, 13, 48, 23, 50, 11, 48, 38, 87, 70, 72, 97, 28, 0, 5, 19, 3, 81, 24, 93, 7, 85, 63, 18, 49, 64, 33, 29, 47, 80, 51, 74, 79, 0, 32, 79, 0, 97, 67, 55, 26, 46, 23, 99, 5, 39, 68, 95, 99, 31, 50, 91, 38, 100, 28, 54, 59, 34, 36, 80, 10, 2, 56, 77, 97, 72, 42, 68, 65, 77, 50, 48, 37, 81, 16, 43, 62, 81, 61, 91, 19, 85, 74, 12, 59, 94, 74, 31, 91, 64, 73, 54, 69, 22, 36, 51, 62, 28, 98, 55, 47, 20, 18, 46, 77, 35, 76, 47, 64, 38, 13, 84, 24, 43, 28, 93, 16, 76, 34, 41, 79, 24, 52, 6, 56, 55, 50, 71, 7, 38, 56, 6, 94, 33, 100, 60, 25, 36, 43, 48, 82, 83, 43, 23, 20, 80, 36, 49, 50, 90, 63, 60, 67, 26, 98, 42, 98, 72, 39, 67, 14, 65, 98, 0, 26, 51, 70, 28, 30, 1, 67, 68, 61, 28, 27, 70, 67, 80, 23, 22, 30, 6, 66, 61, 10, 60, 26, 48, 57, 0, 51, 12, 85, 92, 53, 49, 95, 73, 8, 54, 69, 84, 9, 2, 46, 4, 58, 52, 32, 85, 89, 9, 80, 15, 77, 14, 37, 10, 64, 12, 16, 37, 5, 56, 21, 54, 26, 90, 19, 36, 18, 95, 100, 58, 53, 51, 89, 61, 4, 57, 48, 41, 7, 76, 84, 52, 98, 54, 27, 87, 41, 50, 95, 37, 6, 47, 16, 73, 19, 47, 75, 56, 38, 20, 15, 3, 68, 20, 62, 13, 72, 57, 24, 5, 23, 98, 70, 77, 10, 74, 64, 4, 48, 15, 40, 4, 27, 58, 86, 66, 79, 9, 18, 52, 57, 0, 47, 55, 94, 68, 29, 14, 70, 69, 86, 9, 78, 69, 12, 25, 83, 29, 25, 40, 25, 47, 88, 81, 94, 86, 72, 44, 31, 7, 59, 65, 86, 5, 24, 91, 48, 52, 85, 78, 73, 77, 14, 69, 76, 75, 70, 70, 14, 81, 57, 1, 24, 73, 34, 66, 48, 60, 24, 17, 44, 73, 16, 2, 16, 24, 4, 85, 43, 18, 97, 36, 72, 61, 32, 28, 86, 94, 39, 57, 2, 5, 99, 56, 59, 74, 85, 21, 65, 62, 98, 59, 38, 3, 75, 82, 14, 88, 2, 91, 11, 99, 81, 95, 35, 30, 53, 49, 86, 62, 42, 82, 55, 65, 30, 69, 6, 53, 78, 11, 87, 64, 54, 68, 46, 91, 13, 2, 50, 16, 75, 33, 5, 22, 66, 47, 44, 60, 51, 44, 56, 64, 69, 11, 6, 27, 42, 53, 66, 89, 79, 97, 78, 10, 33, 33, 36, 94, 15, 66, 28, 48, 30, 58, 41, 80, 0, 97, 96, 87, 36, 54, 79, 39, 39, 83, 95, 52, 23, 14, 19, 93, 58, 30, 14, 74, 5, 84, 39, 58, 42, 49, 42, 36, 40, 64, 25, 8, 5, 37, 13, 10, 44, 65, 96, 1, 87, 27, 90, 58, 48, 48, 0, 2, 50, 69, 74, 74, 22, 73, 5, 21, 20, 96, 32, 10, 65, 99, 29, 74, 3, 35, 94, 54, 27, 90, 46, 92, 55, 67, 60, 50, 98, 38, 52, 86, 50, 49, 55, 92, 78, 4, 16, 14, 36, 46, 20, 19, 15, 48, 74, 61, 82, 59, 74, 84, 14, 60, 84, 59, 95, 73, 32, 9, 11, 40, 83, 61, 73, 29, 11, 82, 93, 82, 33, 12, 67, 81, 23, 17, 64, 72, 0, 94, 74, 3, 52, 1, 7, 20, 57, 89, 5, 48, 82, 11, 93, 51, 98, 100, 56, 62, 31, 12, 27, 51, 18, 64, 52, 26, 45, 87, 26, 53, 23, 0, 78, 100, 88, 44, 38, 17, 85, 45, 28, 84, 31, 67, 0, 44, 32, 56, 35, 31, 58, 73, 16, 1, 82, 65, 31, 80, 41, 9, 60, 43, 24, 67, 6, 82, 99, 58, 43, 4, 25, 54, 14, 96, 44, 52, 45, 60, 56, 44, 29, 55, 45, 46, 43, 27, 2, 17, 3, 62, 33, 22, 56, 41, 58, 54, 37, 83, 33, 40, 30, 49, 43, 6, 69, 36, 67, 39, 75, 30, 77, 59, 27, 8, 29, 83, 49, 2, 43, 69, 27, 79, 2, 42, 95, 88, 15, 91, 67, 72, 63, 48, 67, 70, 61, 45, 27, 67, 14, 89, 86, 70, 14, 39, 8, 10, 7, 97, 60, 9, 68, 69, 26, 18, 24, 33, 0, 38, 20, 29, 24, 51, 37, 27, 45, 40, 87, 54, 1, 78, 91, 33, 98, 66, 38, 41, 96, 67, 19, 24, 86, 60, 83, 94, 66, 14, 21, 24, 3, 18, 66, 94, 73, 17, 8, 19, 3, 70, 94, 71, 46, 62, 19, 80, 86, 6, 25, 76, 19, 63, 63, 62, 4, 6, 93, 38, 62, 66, 72, 53, 32, 21, 7, 75, 22, 73, 44, 73, 93, 45, 44, 21, 1, 54, 93, 56, 50, 66, 35, 26, 24, 97, 74, 19, 100, 65, 8, 94, 49, 49, 79, 87, 8, 18, 7, 9, 84, 34, 23, 11, 17, 69, 6, 25, 93, 40, 88, 3, 7, 67, 5, 27, 20, 75, 78, 43, 46, 55, 89, 28, 83, 12, 98, 8, 7, 72, 53, 72, 62, 51, 64, 52, 74, 53, 68, 71, 13, 58, 67, 41, 59, 30, 97, 82, 17, 97, 25, 59, 24, 45, 35, 36, 75, 29, 43, 89, 98, 99, 31, 81, 98, 50, 94, 39, 94, 55, 39, 60, 60, 68, 60, 98, 33, 17, 37, 9, 27, 96, 71, 48, 71, 11, 37, 97, 49, 92, 88, 19, 57, 50, 52, 74, 2, 90, 29, 65, 23, 29, 42, 92, 30, 64, 4, 6, 83, 0, 32, 97, 9, 79, 6, 74, 9, 31, 92, 79, 9, 71, 54, 24, 50, 41, 71, 5, 73, 21, 95, 27, 52, 68, 26, 42, 34, 95, 52, 74, 60, 98, 79, 13, 66, 80, 51, 46, 29, 51, 26, 0, 80, 21, 57, 22, 83, 24, 28, 9, 85, 74, 80, 71, 5, 22, 37, 9, 9, 13, 82, 88, 82, 80, 40, 51, 48, 74, 30, 7, 71, 36, 62, 3, 11, 63, 0, 31, 12, 65, 77, 19, 7, 20, 28, 97, 75, 94, 1, 44, 11, 50, 24, 32, 12, 45, 12, 45, 60, 40, 8, 51, 45, 37, 70, 28, 92, 95, 21, 92, 65, 65, 83, 94, 31, 28, 53, 43, 13, 100, 28, 95, 61, 55, 52, 4, 93, 52, 11, 63, 91, 100, 81, 15, 12, 46, 93, 2, 66, 94, 22, 62, 41, 65, 7, 46, 46, 68, 19, 63, 22, 12, 72, 14, 10, 100, 27, 8, 19, 40, 23, 55, 41, 70, 45, 58, 71, 71, 32, 35, 0, 52, 11, 88, 54, 11, 94, 57, 55, 6, 51, 9, 67, 61, 99, 20, 16, 50, 52, 42, 88, 18, 20, 58, 45, 14, 94, 84, 33, 54, 48, 41, 94, 19, 74, 91, 41, 26, 11, 60, 23, 60, 54, 32, 2, 39, 86, 14, 54, 99, 1, 49, 61, 90, 79, 65, 16, 70, 96, 6, 71, 40, 75, 52, 87, 75, 65, 62, 23, 57, 77, 10, 13, 21, 33, 34, 53, 12, 47, 30, 12, 19, 63, 26, 68, 45, 89, 86, 78, 92, 50, 48, 81, 6, 45, 75, 46, 80, 12, 6, 69, 76, 92, 91, 70, 89, 72, 11, 46, 4, 86, 21, 40, 6, 94, 1, 99, 65, 59, 61, 19, 75, 67, 73, 49, 29, 5, 32, 99, 20, 0, 64, 45, 97, 94, 88, 33, 73, 35, 39, 88, 43, 78, 8, 33, 27, 3, 74, 48, 8, 16, 63, 35, 40, 41, 7, 92, 58, 94, 97, 54, 34, 20, 77, 93, 25, 15, 44, 30, 46, 55, 14, 59, 38, 37, 16, 51, 82, 70, 59, 18, 69, 43, 90, 9, 39, 6, 82, 7, 56, 36, 12, 97, 22, 89, 10, 25, 40, 3, 66, 33, 7, 52, 26, 43, 38, 5, 93, 51, 21, 55, 48, 97, 77, 49, 93, 61, 62, 35, 70, 20, 23, 66, 29, 71, 51, 100, 62, 2, 17, 81, 60, 4, 12, 86, 56, 22, 76, 95, 39, 57, 15, 97, 77, 75, 36, 15, 56, 5, 82, 9, 17, 63, 67, 33, 50, 17, 43, 5, 25, 10, 21, 31, 93, 98, 87, 26, 95, 65, 5, 18, 33, 23, 51, 1, 99, 69, 21, 12, 49, 87, 71, 89, 97, 36, 93, 6, 47, 56, 78, 23, 69, 18, 52, 96, 6, 76, 76, 32, 27, 69, 12, 10, 29, 98, 19, 13, 64, 91, 23, 83, 55, 50, 78, 21, 57, 66, 4, 56, 32, 81, 25, 40, 69, 16, 34, 3, 88, 81, 47, 54, 1, 0, 55, 14, 25, 43, 81, 78, 1, 59, 7, 26, 6, 30, 46, 67, 2, 58, 100, 42, 24, 35, 75, 21, 74, 78, 12, 97, 28, 0, 51, 47, 5, 89, 9, 79, 39, 67, 32, 88, 8, 31, 65, 54, 77, 52, 49, 77, 50, 77, 97, 12, 95, 3, 77, 95, 17, 32, 9, 41, 5, 88, 85, 16, 30, 9, 85, 51, 91, 61, 4, 41, 66, 8, 60, 96, 50, 11, 9, 2, 80, 61, 40, 92, 12, 90, 21, 54, 20, 16, 15, 95, 19, 80, 38, 89, 33, 3, 12, 66, 88, 13, 40, 23, 7, 55, 35, 65, 80, 24, 31, 28, 22, 39, 34, 75, 38, 79, 5, 83, 32, 92, 94, 100, 89, 2, 41, 39, 3, 0, 93, 50, 3, 17, 91, 77, 96, 46, 9, 34, 80, 58, 68, 44, 31, 26, 70, 55, 86, 69, 76, 75, 77, 85, 83, 90, 9, 73, 49, 6, 26, 11, 56, 6, 77, 90, 22, 81, 64, 22, 8, 47, 70, 76, 69, 2, 1, 59, 16, 87, 56, 56, 71, 58, 49, 26, 86, 45, 8, 2, 25, 92, 19, 20, 53, 13, 93, 61, 82, 77, 89, 62, 96, 47, 96, 19, 37, 7, 42, 39, 50, 54, 88, 54, 90, 51, 34, 86, 3, 67, 12, 12, 26, 45, 2, 84, 24, 22, 41, 82, 67, 65, 49, 98, 85, 48, 37, 25, 47, 12, 49, 17, 83, 52, 68, 74, 94, 72, 39, 2, 35, 49, 91, 28, 96, 42, 83, 45, 49, 34, 37, 65, 49, 34, 40, 87, 12, 58, 76, 76, 6, 22, 100, 58, 57, 28, 72, 67, 51, 43, 1, 47, 27, 28, 79, 16, 54, 89, 81, 37, 6, 57, 67, 34, 86, 27, 6, 67, 17, 43, 40, 52, 91, 48, 70, 93, 6, 33, 42, 34, 50, 42, 22, 7, 82, 85, 68, 73, 10, 57, 81, 93, 41, 99, 85, 4, 8, 22, 25, 95, 66, 61, 78, 64, 62, 35, 1, 16, 21, 74, 11, 40, 6, 51, 63, 84, 20, 42, 46, 42, 45, 72, 71, 73, 18, 10, 34, 78, 27, 6, 65, 49, 41, 97, 35, 78, 89, 25, 53, 61, 97, 74, 89, 99, 48, 36, 71, 12, 61, 63, 25, 27, 83, 43, 98, 56, 66, 95, 21, 14, 1, 17, 20, 74, 50, 61, 38, 50, 29, 36, 56, 58, 8, 100, 75, 38, 100, 70, 49, 76, 64, 87, 57, 80, 24, 79, 73, 87, 30, 95, 13, 23, 61, 87, 80, 64, 78, 13, 62, 14, 49, 47, 13, 100, 30, 67, 55, 66, 93, 24, 11, 74, 17, 43, 11, 32, 97, 16, 36, 64, 42, 24, 97, 26, 61, 53, 3, 80, 30, 50, 6, 20, 53, 30, 74, 39, 74, 70, 36, 19, 77, 29, 60, 8, 25, 21, 20, 75, 54, 61, 32, 45, 94, 71, 89, 88, 36, 31, 42, 18, 0, 61, 61, 42, 30, 17, 85, 70, 5, 26, 73, 18, 43, 91, 71, 58, 52, 3, 25, 54, 20, 5, 14, 7, 62, 29, 54, 8, 41, 53, 69, 10, 20, 20, 58, 64, 32, 15, 15, 51, 41, 23, 43, 6, 93, 68, 29, 69, 49, 100, 86, 5, 49, 87, 57, 1, 33, 93, 13, 8, 32, 53, 38, 2, 66, 16, 85, 58, 29, 97, 56, 17, 92, 58, 85, 83, 71, 47, 93, 88, 70, 93, 65, 20, 62, 81, 29, 47, 86, 17, 41, 30, 85, 6, 25, 40, 41, 54, 46, 48, 62, 12, 3, 70, 68, 58, 90, 89, 97, 68, 49, 66, 90, 19, 22, 51, 25, 57, 45, 6, 99, 41, 3, 42, 100, 93, 43, 11, 60, 50, 34, 1, 28, 25, 82, 93, 40, 85, 52, 44, 41, 63, 96, 84, 37, 58, 6, 51, 37, 43, 23, 11, 80, 95, 6, 67, 24, 71, 93, 37, 90, 65, 29, 65, 46, 34, 87, 93, 50, 66, 10, 71, 90, 86, 44, 39, 62, 100, 33, 58, 33, 85, 80, 73, 85, 27, 87, 99, 23, 40, 43, 2, 27, 9, 73, 63, 73, 23, 4, 74, 58, 92, 4, 55, 99, 41, 40, 22, 31, 31, 59, 20, 21, 69, 63, 60, 27, 95, 75, 59, 24, 58, 75, 52, 27, 37, 16, 71, 79, 67, 60, 11, 63, 60, 56, 3, 78, 82, 83, 3, 3, 0, 40, 38, 86, 50, 35, 4, 69, 75, 46, 53, 61, 12, 74, 63, 82, 70, 93, 51, 42, 46, 12, 51, 53, 89, 50, 60, 92, 82, 69, 68, 52, 46, 27, 2, 93, 95, 91, 57, 65, 53, 89, 86, 5, 70, 61, 93, 20, 20, 73, 18, 87, 66, 82, 67, 0, 89, 12, 91, 37, 21, 39, 42, 78, 33, 95, 90, 25, 29, 36, 15, 67, 13, 20, 36, 3, 81, 21, 10, 77, 3, 23, 74, 5, 14, 91, 96, 17, 66, 17, 86, 39, 75, 66, 61, 98, 20, 21, 36, 26, 27, 33, 98, 74, 37, 40, 89, 32, 40, 9, 68, 44, 39, 44, 26, 40, 48, 46, 62, 52, 45, 93, 6, 75, 88, 95, 42, 27, 96, 11, 52, 80, 28, 24, 42, 77, 45, 37, 9, 65, 63, 35, 87, 59, 40, 96, 72, 100, 76, 89, 82, 75, 68, 100, 27, 25, 45, 51, 48, 39, 10, 59, 27, 95, 19, 21, 29, 4, 54, 80, 70, 69, 96, 95, 82, 74, 11, 90, 90, 24, 69, 7, 46, 78, 95, 15, 34, 83, 41, 99, 20, 68, 42, 14, 6, 7, 51, 69, 17, 86, 76, 87, 37, 28, 25, 37, 11, 95, 6, 37, 18, 5, 73, 67, 17, 48, 58, 34, 74, 14, 98, 9, 37, 88, 84, 26, 22, 37, 63, 84, 11, 49, 46, 19, 18, 25, 21, 70, 66, 29, 54, 29, 63, 79, 73, 13, 38, 72, 34, 64, 21, 7, 53, 85, 52, 39, 44, 67, 43, 70, 16, 68, 82, 73, 52, 23, 14, 36, 88, 94, 49, 66, 82, 68, 70, 19, 36, 19, 7, 46, 41, 97, 98, 5, 38, 46, 97, 6, 6, 33, 10, 82, 61, 73, 92, 10, 76, 74, 76, 0, 42, 44, 55, 10, 65, 76, 47, 89, 68, 40, 50, 78, 31, 11, 31, 80, 77, 96, 17, 35, 37, 96, 73, 14, 96, 82, 56, 97, 29, 11, 12, 28, 27, 49, 41, 24, 81, 32, 29, 93, 83, 52, 16, 37, 44, 76, 31, 91, 89, 53, 33, 74, 62, 99, 65, 1, 36, 54, 33, 96, 68, 66, 8, 26, 4]\n"
          ]
        },
        {
          "output_type": "execute_result",
          "data": {
            "text/plain": [
              "[<matplotlib.lines.Line2D at 0x7fb85419a3d0>]"
            ]
          },
          "metadata": {},
          "execution_count": 38
        },
        {
          "output_type": "display_data",
          "data": {
            "text/plain": [
              "<Figure size 432x288 with 1 Axes>"
            ],
            "image/png": "[encoded data removed]"
          },
          "metadata": {
            "needs_background": "light"
          }
        }
      ]
    },
    {
      "cell_type": "markdown",
      "source": [
        "#Jumping Frog"
      ],
      "metadata": {
        "id": "pGjLWYcDtvXv"
      }
    },
    {
      "cell_type": "code",
      "source": [
        "import random\n",
        "\n",
        "A = []\n",
        "\n",
        "for x in range(1,101):\n",
        "    A.append(x)\n",
        "\n",
        "i,n = 0,len(A)\n",
        "while i < n-2:\n",
        "    ind = random.randint(i+1,n-1)\n",
        "    A[i],A[ind] = A[ind],A[i]\n",
        "    i += 1\n",
        "    \n",
        "iteration,n = 0,len(A)\n",
        "steps = 0\n",
        "\n",
        "while iteration < 10000:\n",
        "    j = 0 \n",
        "    while j < n-1:\n",
        "        j = random.randint(j+1,n-1)\n",
        "        steps += 1 \n",
        "    iteration += 1\n",
        "print(\"Total no. of steps:\",steps)\n",
        "\n",
        "avg_steps = steps/1000\n",
        "print(\"Average no. of steps:\",avg_steps)"
      ],
      "metadata": {
        "colab": {
          "base_uri": "https://localhost:8080/"
        },
        "id": "SM4GtTSXtujU",
        "outputId": "6d49ea59-0e81-4ea7-b527-7a3b61ef2de0"
      },
      "execution_count": null,
      "outputs": [
        {
          "output_type": "stream",
          "name": "stdout",
          "text": [
            "Total no. of steps: 51826\n",
            "Average no. of steps: 51.826\n"
          ]
        }
      ]
    },
    {
      "cell_type": "markdown",
      "source": [
        "#Kinder Joy"
      ],
      "metadata": {
        "id": "h1aX6715uJ_8"
      }
    },
    {
      "cell_type": "code",
      "source": [
        "import random\n",
        "\n",
        "A = []\n",
        "\n",
        "for x in range(0,1000):\n",
        "    A.append(random.randint(0,100))\n",
        "# print(A)\n",
        "\n",
        "i,n = 0,len(A)\n",
        "while i < n-2:\n",
        "    ind = random.randint(i+1,n-1)\n",
        "    A[i],A[ind] = A[ind],A[i]\n",
        "    i += 1\n",
        "print(A)\n",
        "\n",
        "i,j,steps = 0,0,0\n",
        "\n",
        "unique = set()\n",
        "while j<10000:\n",
        "    unique.clear()\n",
        "    while (len(unique) != 100):\n",
        "        i = random.randint(0,1000-1)\n",
        "        unique.add(A[i])\n",
        "        steps += 1\n",
        "    j += 1\n",
        "\n",
        "# print(unique)\n",
        "print(\"Total no. of steps:\",steps)\n",
        "\n",
        "avg_steps = steps/10000\n",
        "print(\"Average no. of steps:\",avg_steps)"
      ],
      "metadata": {
        "colab": {
          "base_uri": "https://localhost:8080/"
        },
        "id": "Xp7mnaNQuIql",
        "outputId": "4a1e382a-9324-4ce9-85e2-668772846e19"
      },
      "execution_count": null,
      "outputs": [
        {
          "output_type": "stream",
          "name": "stdout",
          "text": [
            "[61, 50, 94, 54, 52, 89, 77, 64, 67, 97, 25, 4, 54, 68, 4, 78, 26, 18, 63, 33, 46, 95, 66, 28, 82, 79, 10, 45, 61, 54, 81, 18, 79, 64, 35, 15, 45, 15, 91, 48, 4, 95, 60, 36, 7, 58, 82, 17, 65, 56, 71, 75, 54, 63, 1, 14, 73, 95, 46, 81, 66, 4, 21, 48, 58, 77, 72, 36, 60, 85, 47, 96, 27, 92, 47, 45, 21, 24, 0, 60, 57, 67, 32, 16, 95, 94, 2, 66, 44, 58, 57, 37, 7, 75, 58, 15, 73, 42, 3, 9, 4, 86, 25, 99, 37, 11, 37, 20, 89, 83, 79, 16, 72, 92, 77, 47, 84, 5, 54, 10, 68, 44, 86, 2, 77, 5, 69, 14, 59, 74, 9, 3, 51, 12, 91, 91, 58, 55, 89, 88, 29, 66, 22, 3, 43, 53, 28, 89, 56, 84, 49, 78, 38, 35, 66, 99, 37, 96, 55, 72, 56, 95, 5, 79, 7, 96, 40, 83, 21, 19, 1, 82, 72, 87, 24, 64, 27, 5, 99, 13, 37, 10, 24, 45, 60, 58, 6, 66, 32, 30, 70, 9, 52, 45, 19, 36, 53, 20, 49, 28, 29, 70, 0, 100, 81, 37, 74, 8, 61, 20, 26, 33, 46, 53, 95, 56, 94, 84, 46, 85, 100, 40, 49, 100, 24, 70, 69, 41, 52, 45, 62, 61, 41, 26, 2, 43, 79, 91, 83, 91, 56, 16, 63, 39, 36, 11, 2, 54, 86, 57, 76, 15, 91, 83, 16, 37, 34, 44, 87, 85, 70, 15, 90, 64, 21, 80, 61, 100, 63, 43, 78, 81, 24, 65, 31, 16, 88, 98, 83, 93, 100, 8, 64, 14, 94, 34, 88, 0, 73, 10, 27, 93, 80, 93, 72, 22, 45, 62, 92, 79, 91, 49, 6, 81, 41, 27, 14, 71, 3, 5, 78, 68, 89, 8, 91, 77, 16, 25, 85, 23, 4, 25, 16, 12, 38, 10, 83, 95, 19, 98, 6, 75, 85, 34, 66, 36, 45, 60, 86, 4, 33, 51, 61, 34, 63, 80, 16, 83, 26, 77, 94, 96, 17, 54, 43, 73, 78, 80, 40, 49, 95, 81, 52, 74, 96, 18, 71, 6, 20, 89, 65, 75, 82, 8, 31, 83, 21, 56, 73, 43, 88, 23, 56, 93, 36, 59, 99, 2, 67, 76, 31, 77, 24, 42, 80, 64, 70, 75, 42, 50, 3, 90, 9, 23, 17, 86, 62, 7, 90, 46, 52, 12, 37, 18, 54, 71, 31, 46, 41, 61, 2, 3, 66, 35, 0, 60, 2, 79, 4, 57, 71, 25, 98, 81, 63, 52, 33, 33, 3, 32, 18, 68, 11, 62, 69, 26, 22, 73, 4, 25, 26, 11, 0, 73, 70, 82, 91, 38, 84, 77, 11, 24, 96, 34, 49, 20, 77, 79, 33, 63, 30, 84, 54, 23, 33, 8, 64, 76, 40, 1, 30, 11, 65, 56, 17, 10, 20, 18, 53, 54, 20, 100, 55, 36, 67, 2, 28, 8, 61, 66, 32, 38, 43, 3, 44, 17, 2, 84, 97, 54, 25, 18, 29, 17, 71, 40, 15, 30, 92, 93, 8, 14, 47, 97, 1, 38, 85, 57, 94, 70, 6, 70, 15, 31, 34, 44, 66, 85, 66, 100, 1, 63, 74, 57, 94, 49, 81, 56, 40, 38, 59, 92, 93, 52, 83, 82, 98, 73, 57, 42, 23, 8, 0, 9, 47, 8, 4, 62, 86, 74, 43, 80, 3, 53, 0, 22, 43, 29, 28, 23, 94, 79, 71, 13, 61, 90, 73, 18, 48, 72, 67, 29, 63, 99, 39, 61, 6, 12, 87, 84, 45, 13, 80, 80, 87, 85, 45, 69, 84, 31, 90, 78, 27, 82, 23, 83, 26, 47, 61, 65, 64, 8, 8, 63, 88, 32, 26, 27, 99, 10, 50, 23, 85, 6, 97, 31, 89, 25, 35, 66, 83, 13, 70, 51, 0, 11, 60, 25, 64, 4, 55, 94, 95, 29, 77, 12, 53, 44, 40, 8, 84, 92, 35, 45, 76, 5, 47, 24, 90, 90, 62, 90, 81, 48, 86, 23, 39, 2, 0, 34, 63, 100, 77, 54, 19, 23, 82, 24, 63, 48, 53, 51, 87, 76, 41, 78, 83, 11, 9, 49, 45, 97, 89, 89, 45, 41, 35, 66, 42, 88, 54, 40, 71, 31, 81, 88, 56, 62, 55, 42, 80, 37, 19, 57, 72, 55, 72, 67, 56, 57, 92, 62, 77, 67, 14, 27, 58, 69, 60, 33, 28, 41, 54, 83, 84, 44, 62, 50, 64, 18, 44, 97, 3, 9, 23, 79, 48, 45, 33, 6, 6, 7, 93, 81, 58, 46, 15, 58, 9, 15, 88, 12, 13, 21, 0, 2, 1, 78, 4, 81, 91, 37, 1, 44, 72, 43, 90, 47, 67, 49, 55, 63, 67, 72, 14, 85, 81, 56, 58, 99, 29, 95, 33, 80, 95, 22, 57, 65, 26, 85, 33, 99, 71, 26, 85, 62, 3, 32, 25, 23, 27, 0, 44, 96, 48, 40, 23, 36, 85, 75, 99, 16, 91, 87, 94, 51, 30, 47, 99, 11, 51, 91, 11, 87, 70, 72, 8, 22, 44, 53, 72, 42, 82, 10, 0, 50, 31, 84, 50, 19, 24, 75, 16, 100, 91, 88, 75, 48, 15, 42, 30, 50, 0, 99, 82, 52, 27, 84, 16, 27, 77, 43, 22, 52, 99, 71, 7, 15, 57, 58, 56, 77, 79, 63, 23, 16, 91, 77, 30, 54, 22, 62, 54, 15, 45, 42, 18, 21, 55, 68, 48, 77, 93, 1, 6, 5, 46, 50, 46, 92, 69, 7, 14, 9, 28, 6, 41, 7, 83, 98, 65, 1, 14, 43, 87, 11, 90, 32, 2, 17, 77, 89, 68, 72, 38, 50, 95, 73, 98, 42, 11, 91, 40, 2, 7, 53, 85, 68, 51, 34, 98, 68, 16, 57, 84, 78, 28, 87, 12, 35, 23, 71, 98, 11, 87, 59, 60, 0, 15, 59, 65, 18, 16, 41, 92, 21, 75, 69, 25, 90, 16, 79, 57, 23, 92, 17, 73, 83, 85, 95]\n",
            "Total no. of steps: 5170660\n",
            "Average no. of steps: 517.066\n"
          ]
        }
      ]
    },
    {
      "cell_type": "markdown",
      "source": [
        "#Pairing"
      ],
      "metadata": {
        "id": "XlcmOqnZgbLB"
      }
    },
    {
      "cell_type": "code",
      "source": [
        "import random\n",
        "\n",
        "chairs = list(range(1,101))\n",
        "person = list(range(1,101))\n",
        "\n",
        "j = 0\n",
        "count = 0\n",
        "for j in range(10000):\n",
        "    random.shuffle(chairs)\n",
        "    random.shuffle(person)\n",
        "    i = 0\n",
        "    for i in range(100):\n",
        "        if chairs[i] == person[i]:\n",
        "            count += 1\n",
        "\n",
        "avg = count/10000\n",
        "print(avg)"
      ],
      "metadata": {
        "id": "dvybaqq0gaaO"
      },
      "execution_count": null,
      "outputs": []
    },
    {
      "cell_type": "markdown",
      "source": [
        "#Hiring/Firing Problem"
      ],
      "metadata": {
        "id": "e-4C5rvogeUo"
      }
    },
    {
      "cell_type": "code",
      "source": [
        "import random\n",
        "import matplotlib.pyplot as plt\n",
        "\n",
        "n = 2\n",
        "count_list = []\n",
        "for x in range(100):\n",
        "    A=list(range(n))\n",
        "    count = 0\n",
        "    \n",
        "    for y in range(10000):\n",
        "        random.shuffle(A)\n",
        "        best = 0\n",
        "        for i in A:\n",
        "            if A[i] > best:\n",
        "                best = A[i]\n",
        "                count += 1\n",
        "    count_list.append(count/10000)\n",
        "    n += 1\n",
        "plt.plot(count_list)"
      ],
      "metadata": {
        "id": "z1-3UmPdgfz8",
        "colab": {
          "base_uri": "https://localhost:8080/",
          "height": 282
        },
        "outputId": "e6727545-dca8-4ca7-81ff-09a9e073ac51"
      },
      "execution_count": null,
      "outputs": [
        {
          "output_type": "execute_result",
          "data": {
            "text/plain": [
              "[<matplotlib.lines.Line2D at 0x7fb8523fb4d0>]"
            ]
          },
          "metadata": {},
          "execution_count": 39
        },
        {
          "output_type": "display_data",
          "data": {
            "text/plain": [
              "<Figure size 432x288 with 1 Axes>"
            ],
            "image/png": "[encoded data removed]"
          },
          "metadata": {
            "needs_background": "light"
          }
        }
      ]
    },
    {
      "cell_type": "markdown",
      "source": [
        "#Scalar matrix multiplication"
      ],
      "metadata": {
        "id": "bBhOX1yhgrVr"
      }
    },
    {
      "cell_type": "code",
      "source": [
        "import random\n",
        "\n",
        "A = []\n",
        "B = []\n",
        "alpha = 2\n",
        "\n",
        "for x in range(10):\n",
        "    A.append([])\n",
        "    for y in range(10):\n",
        "        A[x].append(random.randint(0,255))\n",
        "\n",
        "for lst in A:\n",
        "    print(lst)\n",
        "print()\n",
        "\n",
        "B.append(0)\n",
        "for y in range(1,256):\n",
        "    B.append(B[y-1] + alpha)\n",
        "\n",
        "for x in range(10):\n",
        "    for y in range(10):\n",
        "        A[x][y] = B[A[x][y]]\n",
        "\n",
        "for lst in A:\n",
        "    print(lst)"
      ],
      "metadata": {
        "id": "-q0zbmfQgs1h"
      },
      "execution_count": null,
      "outputs": []
    },
    {
      "cell_type": "markdown",
      "source": [
        "#Max filter "
      ],
      "metadata": {
        "id": "mPMLpBL5gwyb"
      }
    },
    {
      "cell_type": "code",
      "source": [
        "import numpy as np\n",
        "import random as rd\n",
        "\n",
        "n = 15\n",
        "mat = np.random.randint(256, size = (n,n))\n",
        "print(mat)\n",
        "\n",
        "window_size = 3\n",
        "# padded_mat = np.pad(mat,pad_width = window_size//2)\n",
        "# print(padded_mat)\n",
        "\n",
        "max_mat = np.zeros((n,n),int) #output matrix initilize with zeros\n",
        "max_mat_final = np.zeros((n,n),int)\n",
        "\n",
        "def max_row(row, max_lst, l, r, size):\n",
        "    padded_row = np.pad(row, pad_width = size//2)\n",
        "    \n",
        "    max_index = -1\n",
        "    while l < len(padded_row) - 2*size//2 + 1 :\n",
        "        if max_index in range(l,r+1): # maximum element is in the current window  \n",
        "            if padded_row[max_index] <= padded_row[r]: # compare the max element and the last element of the window\n",
        "                max_index = r\n",
        "        else:                         # maximum element is not in the current window\n",
        "            max_index = l          \n",
        "            for i in range(l,r+1):     # finding the maximum element in the window\n",
        "                if padded_row[max_index] < padded_row[i]:\n",
        "                    max_index = i\n",
        "        max_lst[l] = padded_row[max_index]  # update the maximum to the max list\n",
        "        l += 1\n",
        "        r += 1\n",
        "    return max_lst\n",
        "\n",
        "for x in range(n):\n",
        "    l,r = 0,window_size-1 # left and right indices of the sliding window\n",
        "    max_mat[x] = max_row(mat[x], max_mat[x], l, r, window_size)\n",
        "max_mat = max_mat.transpose()\n",
        "\n",
        "for y in range(n):\n",
        "    l,r = 0,window_size-1 # left and right indices of the sliding window\n",
        "    max_mat_final[y] = max_row(max_mat[y], max_mat_final[y], l, r, window_size)\n",
        "max_mat_final = max_mat_final.transpose()\n",
        "\n",
        "print()\n",
        "print(max_mat_final)"
      ],
      "metadata": {
        "id": "HfseJWfqgwdl",
        "colab": {
          "base_uri": "https://localhost:8080/"
        },
        "outputId": "77897be6-dfe0-41c7-bed5-878aef49b7c9"
      },
      "execution_count": null,
      "outputs": [
        {
          "output_type": "stream",
          "name": "stdout",
          "text": [
            "[[212 132 173 245  97  28 101  70 226 105  27 249  91 197  56]\n",
            " [227  17  36 146 224 230  64 230 202 230 218  94  94  79  27]\n",
            " [204  19 169 209 199  88 202 148 110 141  69  33 155 234 238]\n",
            " [ 13 116 166  61 235 127 152 197 251 202  35  18  92 179  23]\n",
            " [128 176  11 241 122   8  29  16 249  54 245  74 149 178 125]\n",
            " [ 88  30 144  57 138  24  27 124  23   5  32  18  15 235 226]\n",
            " [179 203  12  36 103 243  99 176 194  20 106  42  78 119 148]\n",
            " [ 10 225 203  60  10 125  33 101 139 137 243  86  61 178 252]\n",
            " [139  27 216  97 140  62 216 150 230 118 213 174 168  41  86]\n",
            " [ 26 117  39  48   2 186  16  75 134  20  67 124 104 176 122]\n",
            " [ 28 226 115 226 126 151  81 232  88 115 145 120 198  37  13]\n",
            " [183 145  94 117  37 212  76  36  37 207  36 192  46 106 114]\n",
            " [ 89  18 194  20  52 138 213 156  45 103  95 222 119 100 254]\n",
            " [202 233  89  12 191 182  39 255 242 191 213  75   6 228 176]\n",
            " [187  26 127 166  97 234 189 168 225 227  63 200  95 220 189]]\n",
            "\n",
            "[[227 227 245 245 245 230 230 230 230 230 249 249 249 197 197]\n",
            " [227 227 245 245 245 230 230 230 230 230 249 249 249 238 238]\n",
            " [227 227 209 235 235 235 230 251 251 251 230 218 234 238 238]\n",
            " [204 204 241 241 241 235 202 251 251 251 245 245 234 238 238]\n",
            " [176 176 241 241 241 235 197 251 251 251 245 245 235 235 235]\n",
            " [203 203 241 241 243 243 243 249 249 249 245 245 235 235 235]\n",
            " [225 225 225 203 243 243 243 194 194 243 243 243 235 252 252]\n",
            " [225 225 225 216 243 243 243 230 230 243 243 243 178 252 252]\n",
            " [225 225 225 216 186 216 216 230 230 243 243 243 178 252 252]\n",
            " [226 226 226 226 226 216 232 232 232 230 213 213 198 198 176]\n",
            " [226 226 226 226 226 212 232 232 232 207 207 198 198 198 176]\n",
            " [226 226 226 226 226 213 232 232 232 207 222 222 222 254 254]\n",
            " [233 233 233 194 212 213 255 255 255 242 222 222 228 254 254]\n",
            " [233 233 233 194 234 234 255 255 255 242 227 222 228 254 254]\n",
            " [233 233 233 191 234 234 255 255 255 242 227 213 228 228 228]]\n"
          ]
        }
      ]
    },
    {
      "cell_type": "markdown",
      "source": [
        "#***GRAPHS***"
      ],
      "metadata": {
        "id": "whNAKsBChXYM"
      }
    },
    {
      "cell_type": "markdown",
      "source": [
        "#Connected graph"
      ],
      "metadata": {
        "id": "Wmg_D8gOrnrX"
      }
    },
    {
      "cell_type": "code",
      "source": [
        "import networkx as nx\n",
        "G = nx.DiGraph()\n",
        "G.add_edges_from([(1,2),(2,3),(3,4),(1,4),(4,5),(4,2)])\n",
        "nx.draw(G, with_labels = True)"
      ],
      "metadata": {
        "colab": {
          "base_uri": "https://localhost:8080/",
          "height": 319
        },
        "id": "WOHJXolDhIK4",
        "outputId": "be432d13-eb74-4927-8f1f-1d8fe717b74c"
      },
      "execution_count": null,
      "outputs": [
        {
          "output_type": "display_data",
          "data": {
            "text/plain": [
              "<Figure size 432x288 with 1 Axes>"
            ],
            "image/png": "[encoded data removed]"
          },
          "metadata": {}
        }
      ]
    },
    {
      "cell_type": "markdown",
      "source": [
        "# DFS recursive"
      ],
      "metadata": {
        "id": "2iEF8Yx0hMbb"
      }
    },
    {
      "cell_type": "code",
      "source": [
        "visited = [False for x in range(5)] # To keep track of visited vertices\n",
        "\n",
        "def DFS(visited, graph, vertex):\n",
        "    if visited[vertex-1] == False :\n",
        "        print(vertex)\n",
        "        visited[vertex-1] = True     # If not visited then add it to visited\n",
        "        for neighbour in G[vertex]:\n",
        "            DFS(visited, graph, neighbour)  # perform DFS on the next vertex\n",
        "\n",
        "DFS(visited, G, 1)"
      ],
      "metadata": {
        "colab": {
          "base_uri": "https://localhost:8080/"
        },
        "id": "5jZEk5UbhI9G",
        "outputId": "f46a94a3-307f-4ee9-dd29-6ccb07809a6e"
      },
      "execution_count": null,
      "outputs": [
        {
          "output_type": "stream",
          "name": "stdout",
          "text": [
            "1\n",
            "2\n",
            "3\n",
            "4\n",
            "5\n"
          ]
        }
      ]
    },
    {
      "cell_type": "markdown",
      "source": [
        "#Dectecting cycle"
      ],
      "metadata": {
        "id": "-BLgn5_ihSd4"
      }
    },
    {
      "cell_type": "code",
      "source": [
        "visited = [False for x in range(5)] # To keep track of visited vertices\n",
        "on_path = [False for y in range(5)]\n",
        "\n",
        "def DFS_cycle(visited,on_path, graph, vertex):\n",
        "    visited[vertex-1]=True\n",
        "    on_path[vertex-1] = True\n",
        "    for neighbour in G[vertex]:\n",
        "        if not visited[neighbour-1]:\n",
        "            DFS_cycle(visited, on_path, graph, neighbour)  # perform DFS on the next vertex\n",
        "        elif on_path[neighbour-1]:\n",
        "            return True\n",
        "    on_path[vertex-1] = False\n",
        "\n",
        "DFS_cycle(visited, on_path, G, 1)"
      ],
      "metadata": {
        "colab": {
          "base_uri": "https://localhost:8080/"
        },
        "id": "D2Fhsk03hQE6",
        "outputId": "1d15813b-7d9c-49dd-8f15-52dbcfb7d5c6"
      },
      "execution_count": null,
      "outputs": [
        {
          "output_type": "execute_result",
          "data": {
            "text/plain": [
              "True"
            ]
          },
          "metadata": {},
          "execution_count": 10
        }
      ]
    }
  ]
}